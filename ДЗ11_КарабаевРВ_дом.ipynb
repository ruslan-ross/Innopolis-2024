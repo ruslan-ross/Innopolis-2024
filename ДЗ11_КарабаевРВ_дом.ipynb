{
 "cells": [
  {
   "cell_type": "markdown",
   "id": "654c955a-cbc2-4275-8fd3-1b9754a2ec9a",
   "metadata": {},
   "source": [
    "### 1) Начало работы, изучим датафрейм, очистим от пропусков и выбросов"
   ]
  },
  {
   "cell_type": "code",
   "execution_count": 1,
   "id": "992f58e0-7aab-4bc8-9630-3568ec4f66c3",
   "metadata": {},
   "outputs": [],
   "source": [
    "# Подключаем библиотеки\n",
    "import pandas as pd\n",
    "import numpy as np\n",
    "import matplotlib.pyplot as plt\n",
    "import seaborn as sns\n",
    "from scipy import stats\n",
    "import statsmodels.api as sm"
   ]
  },
  {
   "cell_type": "code",
   "execution_count": 3,
   "id": "e63c2999-1ccf-4eb4-9b2b-91096d5fede3",
   "metadata": {},
   "outputs": [
    {
     "data": {
      "text/html": [
       "<div>\n",
       "<style scoped>\n",
       "    .dataframe tbody tr th:only-of-type {\n",
       "        vertical-align: middle;\n",
       "    }\n",
       "\n",
       "    .dataframe tbody tr th {\n",
       "        vertical-align: top;\n",
       "    }\n",
       "\n",
       "    .dataframe thead th {\n",
       "        text-align: right;\n",
       "    }\n",
       "</style>\n",
       "<table border=\"1\" class=\"dataframe\">\n",
       "  <thead>\n",
       "    <tr style=\"text-align: right;\">\n",
       "      <th></th>\n",
       "      <th>method</th>\n",
       "      <th>number</th>\n",
       "      <th>orbital_period</th>\n",
       "      <th>mass</th>\n",
       "      <th>distance</th>\n",
       "      <th>year</th>\n",
       "    </tr>\n",
       "  </thead>\n",
       "  <tbody>\n",
       "    <tr>\n",
       "      <th>0</th>\n",
       "      <td>Radial Velocity</td>\n",
       "      <td>1</td>\n",
       "      <td>269.300</td>\n",
       "      <td>7.10</td>\n",
       "      <td>77.40</td>\n",
       "      <td>2006</td>\n",
       "    </tr>\n",
       "    <tr>\n",
       "      <th>1</th>\n",
       "      <td>Radial Velocity</td>\n",
       "      <td>1</td>\n",
       "      <td>874.774</td>\n",
       "      <td>2.21</td>\n",
       "      <td>56.95</td>\n",
       "      <td>2008</td>\n",
       "    </tr>\n",
       "    <tr>\n",
       "      <th>2</th>\n",
       "      <td>Radial Velocity</td>\n",
       "      <td>1</td>\n",
       "      <td>763.000</td>\n",
       "      <td>2.60</td>\n",
       "      <td>19.84</td>\n",
       "      <td>2011</td>\n",
       "    </tr>\n",
       "    <tr>\n",
       "      <th>3</th>\n",
       "      <td>Radial Velocity</td>\n",
       "      <td>1</td>\n",
       "      <td>326.030</td>\n",
       "      <td>19.40</td>\n",
       "      <td>110.62</td>\n",
       "      <td>2007</td>\n",
       "    </tr>\n",
       "    <tr>\n",
       "      <th>4</th>\n",
       "      <td>Radial Velocity</td>\n",
       "      <td>1</td>\n",
       "      <td>516.220</td>\n",
       "      <td>10.50</td>\n",
       "      <td>119.47</td>\n",
       "      <td>2009</td>\n",
       "    </tr>\n",
       "  </tbody>\n",
       "</table>\n",
       "</div>"
      ],
      "text/plain": [
       "            method  number  orbital_period   mass  distance  year\n",
       "0  Radial Velocity       1         269.300   7.10     77.40  2006\n",
       "1  Radial Velocity       1         874.774   2.21     56.95  2008\n",
       "2  Radial Velocity       1         763.000   2.60     19.84  2011\n",
       "3  Radial Velocity       1         326.030  19.40    110.62  2007\n",
       "4  Radial Velocity       1         516.220  10.50    119.47  2009"
      ]
     },
     "execution_count": 3,
     "metadata": {},
     "output_type": "execute_result"
    }
   ],
   "source": [
    "# Считываем csv файл с GitHub\n",
    "df_planets = pd.read_csv(r\"https://raw.githubusercontent.com/YBI-Foundation/Dataset/refs/heads/main/Planets.csv\")\n",
    "df_planets.head()"
   ]
  },
  {
   "cell_type": "code",
   "execution_count": 5,
   "id": "bc078aff-7f32-4911-84d3-c4cee6144b17",
   "metadata": {},
   "outputs": [
    {
     "data": {
      "text/plain": [
       "count    1035.000000\n",
       "mean        1.785507\n",
       "std         1.240976\n",
       "min         1.000000\n",
       "25%         1.000000\n",
       "50%         1.000000\n",
       "75%         2.000000\n",
       "max         7.000000\n",
       "Name: number, dtype: float64"
      ]
     },
     "execution_count": 5,
     "metadata": {},
     "output_type": "execute_result"
    }
   ],
   "source": [
    "df_planets['number'].describe()"
   ]
  },
  {
   "cell_type": "code",
   "execution_count": 7,
   "id": "c08c69cf-934e-435f-aaf7-78ab538acd47",
   "metadata": {},
   "outputs": [
    {
     "data": {
      "text/plain": [
       "(1035, 6)"
      ]
     },
     "execution_count": 7,
     "metadata": {},
     "output_type": "execute_result"
    }
   ],
   "source": [
    "# Поссмотрим размерность\n",
    "df_planets.shape"
   ]
  },
  {
   "cell_type": "markdown",
   "id": "c20f1678-5fd9-48de-9790-87e6c3e000c1",
   "metadata": {},
   "source": [
    "##### Работа с пропусками"
   ]
  },
  {
   "cell_type": "code",
   "execution_count": 9,
   "id": "37068c13-7c3d-49f0-938e-6565db1f56b4",
   "metadata": {},
   "outputs": [
    {
     "data": {
      "text/plain": [
       "method              0\n",
       "number              0\n",
       "orbital_period     43\n",
       "mass              522\n",
       "distance          227\n",
       "year                0\n",
       "dtype: int64"
      ]
     },
     "execution_count": 9,
     "metadata": {},
     "output_type": "execute_result"
    }
   ],
   "source": [
    "# Поссмотрим пропуски\n",
    "df_planets.isna().sum()"
   ]
  },
  {
   "cell_type": "code",
   "execution_count": 11,
   "id": "e5a09544-cfbf-41fa-93e6-441e0b31d5ff",
   "metadata": {},
   "outputs": [
    {
     "data": {
      "text/plain": [
       "method            0\n",
       "number            0\n",
       "orbital_period    0\n",
       "mass              0\n",
       "distance          0\n",
       "year              0\n",
       "dtype: int64"
      ]
     },
     "execution_count": 11,
     "metadata": {},
     "output_type": "execute_result"
    }
   ],
   "source": [
    "# Заполним все пропуски\n",
    "for i in ['orbital_period', 'mass', 'distance']:\n",
    "    df_planets.loc[df_planets[i].isna(), i] = np.random.uniform(df_planets[i].min(), df_planets[i].max(), df_planets[i].isna().sum())\n",
    "df_planets.isna().sum()     # В итоге все значения заполнены"
   ]
  },
  {
   "cell_type": "markdown",
   "id": "3f4d2b7a-5258-4f5a-8e50-174fb76dd12c",
   "metadata": {},
   "source": [
    "##### Работа с дубликатами"
   ]
  },
  {
   "cell_type": "code",
   "execution_count": 13,
   "id": "26d66e0d-9998-4319-8c95-0248c03f90d1",
   "metadata": {},
   "outputs": [
    {
     "data": {
      "text/html": [
       "<div>\n",
       "<style scoped>\n",
       "    .dataframe tbody tr th:only-of-type {\n",
       "        vertical-align: middle;\n",
       "    }\n",
       "\n",
       "    .dataframe tbody tr th {\n",
       "        vertical-align: top;\n",
       "    }\n",
       "\n",
       "    .dataframe thead th {\n",
       "        text-align: right;\n",
       "    }\n",
       "</style>\n",
       "<table border=\"1\" class=\"dataframe\">\n",
       "  <thead>\n",
       "    <tr style=\"text-align: right;\">\n",
       "      <th></th>\n",
       "      <th>method</th>\n",
       "      <th>number</th>\n",
       "      <th>orbital_period</th>\n",
       "      <th>mass</th>\n",
       "      <th>distance</th>\n",
       "      <th>year</th>\n",
       "    </tr>\n",
       "  </thead>\n",
       "  <tbody>\n",
       "  </tbody>\n",
       "</table>\n",
       "</div>"
      ],
      "text/plain": [
       "Empty DataFrame\n",
       "Columns: [method, number, orbital_period, mass, distance, year]\n",
       "Index: []"
      ]
     },
     "execution_count": 13,
     "metadata": {},
     "output_type": "execute_result"
    }
   ],
   "source": [
    "# Проверим на дубликаты\n",
    "df_planets[df_planets.duplicated()]     # Дубликатов нет"
   ]
  },
  {
   "cell_type": "markdown",
   "id": "779286df-6acc-425c-8733-8c0b5d279de5",
   "metadata": {},
   "source": [
    "##### Работа с выбросами"
   ]
  },
  {
   "cell_type": "code",
   "execution_count": 15,
   "id": "ec3f571e-f642-4e29-81e6-da2eed056ce0",
   "metadata": {},
   "outputs": [
    {
     "data": {
      "text/html": [
       "<div>\n",
       "<style scoped>\n",
       "    .dataframe tbody tr th:only-of-type {\n",
       "        vertical-align: middle;\n",
       "    }\n",
       "\n",
       "    .dataframe tbody tr th {\n",
       "        vertical-align: top;\n",
       "    }\n",
       "\n",
       "    .dataframe thead th {\n",
       "        text-align: right;\n",
       "    }\n",
       "</style>\n",
       "<table border=\"1\" class=\"dataframe\">\n",
       "  <thead>\n",
       "    <tr style=\"text-align: right;\">\n",
       "      <th></th>\n",
       "      <th>method</th>\n",
       "      <th>number</th>\n",
       "      <th>orbital_period</th>\n",
       "      <th>mass</th>\n",
       "      <th>distance</th>\n",
       "      <th>year</th>\n",
       "    </tr>\n",
       "  </thead>\n",
       "  <tbody>\n",
       "    <tr>\n",
       "      <th>0</th>\n",
       "      <td>Radial Velocity</td>\n",
       "      <td>1</td>\n",
       "      <td>269.300000</td>\n",
       "      <td>7.100000</td>\n",
       "      <td>77.40</td>\n",
       "      <td>2006</td>\n",
       "    </tr>\n",
       "    <tr>\n",
       "      <th>1</th>\n",
       "      <td>Radial Velocity</td>\n",
       "      <td>1</td>\n",
       "      <td>874.774000</td>\n",
       "      <td>2.210000</td>\n",
       "      <td>56.95</td>\n",
       "      <td>2008</td>\n",
       "    </tr>\n",
       "    <tr>\n",
       "      <th>2</th>\n",
       "      <td>Radial Velocity</td>\n",
       "      <td>1</td>\n",
       "      <td>763.000000</td>\n",
       "      <td>2.600000</td>\n",
       "      <td>19.84</td>\n",
       "      <td>2011</td>\n",
       "    </tr>\n",
       "    <tr>\n",
       "      <th>3</th>\n",
       "      <td>Radial Velocity</td>\n",
       "      <td>1</td>\n",
       "      <td>326.030000</td>\n",
       "      <td>19.400000</td>\n",
       "      <td>110.62</td>\n",
       "      <td>2007</td>\n",
       "    </tr>\n",
       "    <tr>\n",
       "      <th>4</th>\n",
       "      <td>Radial Velocity</td>\n",
       "      <td>1</td>\n",
       "      <td>516.220000</td>\n",
       "      <td>10.500000</td>\n",
       "      <td>119.47</td>\n",
       "      <td>2009</td>\n",
       "    </tr>\n",
       "    <tr>\n",
       "      <th>...</th>\n",
       "      <td>...</td>\n",
       "      <td>...</td>\n",
       "      <td>...</td>\n",
       "      <td>...</td>\n",
       "      <td>...</td>\n",
       "      <td>...</td>\n",
       "    </tr>\n",
       "    <tr>\n",
       "      <th>716</th>\n",
       "      <td>Transit</td>\n",
       "      <td>1</td>\n",
       "      <td>3.941507</td>\n",
       "      <td>10.421693</td>\n",
       "      <td>172.00</td>\n",
       "      <td>2006</td>\n",
       "    </tr>\n",
       "    <tr>\n",
       "      <th>717</th>\n",
       "      <td>Transit</td>\n",
       "      <td>1</td>\n",
       "      <td>2.615864</td>\n",
       "      <td>14.916126</td>\n",
       "      <td>148.00</td>\n",
       "      <td>2007</td>\n",
       "    </tr>\n",
       "    <tr>\n",
       "      <th>718</th>\n",
       "      <td>Transit</td>\n",
       "      <td>1</td>\n",
       "      <td>3.191524</td>\n",
       "      <td>18.834433</td>\n",
       "      <td>174.00</td>\n",
       "      <td>2007</td>\n",
       "    </tr>\n",
       "    <tr>\n",
       "      <th>719</th>\n",
       "      <td>Transit</td>\n",
       "      <td>1</td>\n",
       "      <td>4.125083</td>\n",
       "      <td>23.255751</td>\n",
       "      <td>293.00</td>\n",
       "      <td>2008</td>\n",
       "    </tr>\n",
       "    <tr>\n",
       "      <th>720</th>\n",
       "      <td>Transit</td>\n",
       "      <td>1</td>\n",
       "      <td>4.187757</td>\n",
       "      <td>16.515071</td>\n",
       "      <td>260.00</td>\n",
       "      <td>2008</td>\n",
       "    </tr>\n",
       "  </tbody>\n",
       "</table>\n",
       "<p>721 rows × 6 columns</p>\n",
       "</div>"
      ],
      "text/plain": [
       "              method  number  orbital_period       mass  distance  year\n",
       "0    Radial Velocity       1      269.300000   7.100000     77.40  2006\n",
       "1    Radial Velocity       1      874.774000   2.210000     56.95  2008\n",
       "2    Radial Velocity       1      763.000000   2.600000     19.84  2011\n",
       "3    Radial Velocity       1      326.030000  19.400000    110.62  2007\n",
       "4    Radial Velocity       1      516.220000  10.500000    119.47  2009\n",
       "..               ...     ...             ...        ...       ...   ...\n",
       "716          Transit       1        3.941507  10.421693    172.00  2006\n",
       "717          Transit       1        2.615864  14.916126    148.00  2007\n",
       "718          Transit       1        3.191524  18.834433    174.00  2007\n",
       "719          Transit       1        4.125083  23.255751    293.00  2008\n",
       "720          Transit       1        4.187757  16.515071    260.00  2008\n",
       "\n",
       "[721 rows x 6 columns]"
      ]
     },
     "execution_count": 15,
     "metadata": {},
     "output_type": "execute_result"
    }
   ],
   "source": [
    "# Поиск выбросов по Орбитальному периоду. Возьмем метод через IQR.\n",
    "lower_bound_op = df_planets['orbital_period'].quantile(0.25) - 1.5*(df_planets['orbital_period'].quantile(0.75) - df_planets['orbital_period'].quantile(0.25))\n",
    "upper_bound_op = df_planets['orbital_period'].quantile(0.75) + 1.5*(df_planets['orbital_period'].quantile(0.75) - df_planets['orbital_period'].quantile(0.25))\n",
    "# Поиск выбросов по Массе. Возьмем метод через IQR.\n",
    "lower_bound_m = df_planets['mass'].quantile(0.25) - 1.5*(df_planets['mass'].quantile(0.75) - df_planets['mass'].quantile(0.25))\n",
    "upper_bound_m = df_planets['mass'].quantile(0.75) + 1.5*(df_planets['mass'].quantile(0.75) - df_planets['mass'].quantile(0.25))\n",
    "# Поиск выбросов по Дистанции. Возьмем метод через IQR.\n",
    "lower_bound_d = df_planets['distance'].quantile(0.25) - 1.5*(df_planets['distance'].quantile(0.75) - df_planets['distance'].quantile(0.25))\n",
    "upper_bound_d = df_planets['distance'].quantile(0.75) + 1.5*(df_planets['distance'].quantile(0.75) - df_planets['distance'].quantile(0.25))\n",
    "# Уберем все выбросы\n",
    "# В новый датафрейм - уберем выбросы по орбитальному периоду\n",
    "df_pl_perfect = df_planets[((df_planets['orbital_period'] >= lower_bound_op) & (df_planets['orbital_period'] <= upper_bound_op))]\n",
    "# Берем уже новый датафрейм и в нем уберем выбросы по массе\n",
    "df_pl_perfect = df_pl_perfect[((df_pl_perfect['mass'] >= lower_bound_m) & (df_pl_perfect['mass'] <= upper_bound_m))]\n",
    "# Берем новый датафрейм и в нем уберем выбросы по дистанции\n",
    "df_pl_perfect = df_pl_perfect[((df_pl_perfect['distance'] >= lower_bound_d) & (df_pl_perfect['distance'] <= upper_bound_d))]\n",
    "df_pl_perfect = df_pl_perfect.reset_index(drop = True)    # Выбросы отсутствуют\n",
    "df_pl_perfect"
   ]
  },
  {
   "attachments": {},
   "cell_type": "markdown",
   "id": "b7fa65f3-322e-4fb5-b4ba-b4a4903f4908",
   "metadata": {},
   "source": [
    "### 2) Выберем две количественные переменные и найдем для них 95% доверительные интервалы средних значений"
   ]
  },
  {
   "cell_type": "code",
   "execution_count": 17,
   "id": "77da286d-62fa-4792-870f-ae235e3b52c1",
   "metadata": {},
   "outputs": [],
   "source": [
    "# Сделаем отдельный датафрейм со столбцом Орбитальный период\n",
    "df_op = df_pl_perfect['orbital_period']\n",
    "# Сделаем отдельный датафрейм со столбцом Дистанция\n",
    "df_d = df_pl_perfect['distance']\n",
    "alpha = 0.95"
   ]
  },
  {
   "cell_type": "code",
   "execution_count": 19,
   "id": "91d6109c-0479-45f9-a71c-8a8f0272aa78",
   "metadata": {},
   "outputs": [
    {
     "data": {
      "text/plain": [
       "721"
      ]
     },
     "execution_count": 19,
     "metadata": {},
     "output_type": "execute_result"
    }
   ],
   "source": [
    "df_op.count()"
   ]
  },
  {
   "cell_type": "code",
   "execution_count": 21,
   "id": "99798d4b-390f-4e5e-b448-b853b1bad437",
   "metadata": {},
   "outputs": [
    {
     "name": "stdout",
     "output_type": "stream",
     "text": [
      "95% доверительный интервал для среднего значения Орбитального периода от 221.69 до 276.65\n",
      "95% доверительный интервал для среднего значения Дистанции от 219.61 до 277.13\n"
     ]
    }
   ],
   "source": [
    "# Сделаем отдельный датафрейм со столбцом Орбитальный период\n",
    "df_op = df_pl_perfect['orbital_period']\n",
    "# Сделаем отдельный датафрейм со столбцом Дистанция\n",
    "df_d = df_pl_perfect['distance']\n",
    "\n",
    "# Уровень доверия\n",
    "alpha = 0.95\n",
    "\n",
    "# Вычислим среднее значение ДФ Орбитальный период\n",
    "mean_op = df_op.mean()\n",
    "# Вычислим дисперсию значений ДФ Орбитальный период\n",
    "var_op = df_op.var()\n",
    "# Вычислим количество значений ДФ Орбитальный период\n",
    "n_op = df_op.count()\n",
    "\n",
    "# Вычислим доверительный интервал для среднего значения Орбитального периода\n",
    "ci_op = stats.norm.interval(confidence = alpha, loc = mean_op, scale = np.sqrt(var_op/n_op))\n",
    "print(f'95% доверительный интервал для среднего значения Орбитального периода от {ci_op[0].round(2)} до {ci_op[1].round(2)}')\n",
    "\n",
    "# Вычислим среднее значение ДФ Дистанция\n",
    "mean_d = df_d.mean()\n",
    "# Вычислим дисперсию значений ДФ Дистанция\n",
    "var_d = df_d.var()\n",
    "# Вычислим количество значений ДФ Дистанция\n",
    "n_d = df_d.count()\n",
    "\n",
    "# Вычислим доверительный интервал для среднего значения Дистанции\n",
    "ci_d = stats.norm.interval(confidence = alpha, loc = mean_d, scale = np.sqrt(var_d/n_d))\n",
    "print(f'95% доверительный интервал для среднего значения Дистанции от {ci_d[0].round(2)} до {ci_d[1].round(2)}')"
   ]
  },
  {
   "cell_type": "code",
   "execution_count": 23,
   "id": "1ba02a06-a2bb-4964-91c4-ebc7c2086191",
   "metadata": {},
   "outputs": [
    {
     "data": {
      "text/plain": [
       "count     721.000000\n",
       "mean      249.168778\n",
       "std       376.427557\n",
       "min         0.090706\n",
       "25%         4.614420\n",
       "50%        33.601340\n",
       "75%       380.800000\n",
       "max      1657.000000\n",
       "Name: orbital_period, dtype: float64"
      ]
     },
     "execution_count": 23,
     "metadata": {},
     "output_type": "execute_result"
    }
   ],
   "source": [
    "df_pl_perfect['orbital_period'].describe()"
   ]
  },
  {
   "cell_type": "code",
   "execution_count": 25,
   "id": "3bdf1fc9-bc96-4954-87ec-46e182983e8f",
   "metadata": {},
   "outputs": [
    {
     "data": {
      "text/plain": [
       "count     721.000000\n",
       "mean      248.366266\n",
       "std       394.024425\n",
       "min         1.350000\n",
       "25%        34.070000\n",
       "50%        68.350000\n",
       "75%       283.000000\n",
       "max      2063.026295\n",
       "Name: distance, dtype: float64"
      ]
     },
     "execution_count": 25,
     "metadata": {},
     "output_type": "execute_result"
    }
   ],
   "source": [
    "df_pl_perfect['distance'].describe()"
   ]
  },
  {
   "cell_type": "markdown",
   "id": "3bbb11ee-33c7-46a6-a94f-6e2c5ac4d9e3",
   "metadata": {},
   "source": [
    "##### Методы нахождения экзопланет различаются технологиями. На столбчатой диаграмме видно, что некоторые методы в основном ипользуют для открытия близлежащих к звездам планет, а у некоторых алгоритмы подходят и для планет с дальними дистанциями."
   ]
  },
  {
   "attachments": {},
   "cell_type": "markdown",
   "id": "37468341-8e6c-4295-b1d0-2efc2a079627",
   "metadata": {},
   "source": [
    "### 3) Оценим распределение этих переменных на нормальность с помощью формальных тестов и с помощью альтернативных методов"
   ]
  },
  {
   "cell_type": "markdown",
   "id": "460a2fa1-719f-4c7d-8373-e6af818d125e",
   "metadata": {},
   "source": [
    "ТУТ НАДО ЕЩЁ ВПИСАТЬ АЛЬТЕРНАТИВНЫЕ МЕТОДЫ ИЗ pYTHON14"
   ]
  },
  {
   "attachments": {},
   "cell_type": "markdown",
   "id": "ac7929a5-e0d0-4cfb-9841-64b71ef286aa",
   "metadata": {},
   "source": [
    "### 4) Возьмем две группы наблюдений и протестируем гипотезу о равенстве математических ожиданий (двухвыборочный т-тест или тест Манна-Уитни в зависимости от результата теста на нормальность)"
   ]
  },
  {
   "cell_type": "code",
   "execution_count": 27,
   "id": "b1799842-68eb-4281-b7ad-f768d8e6468b",
   "metadata": {},
   "outputs": [],
   "source": [
    "# Сделаем отдельный датафрейм со столбцом Масса по данным до 2009 года включительно\n",
    "df_m1 = df_pl_perfect.loc[df_pl_perfect['year'] <= 2009, 'mass']\n",
    "\n",
    "# Сделаем отдельный датафрейм со столбцом Масса по данным с 2009 года\n",
    "df_m2 = df_pl_perfect.loc[df_pl_perfect['year'] > 2009, 'mass']"
   ]
  },
  {
   "cell_type": "code",
   "execution_count": 72,
   "id": "e9fae545-cf0c-42f3-bf58-8671d0160d2b",
   "metadata": {},
   "outputs": [
    {
     "data": {
      "text/plain": [
       "MannwhitneyuResult(statistic=53770.5, pvalue=0.0001371554052759484)"
      ]
     },
     "execution_count": 72,
     "metadata": {},
     "output_type": "execute_result"
    }
   ],
   "source": [
    "# Так как распределение Масс не является нормальным, то используем Тест Манна-Уитни для тестирования гипотезы о том,\n",
    "# что средняя масса планет, открытых до 2009 года и после, совпадают\n",
    "stats.mannwhitneyu(df_m1, df_m2, alternative = 'two-sided')"
   ]
  },
  {
   "cell_type": "markdown",
   "id": "50c7b085-ce2f-4b51-b9e7-2730f219c876",
   "metadata": {},
   "source": [
    "##### p-значение оказалось ниже 5%, то есть нулевая гипотеза о том, что средняя масса планет, открытых до 2009 года и после, равны, отвергается"
   ]
  },
  {
   "attachments": {},
   "cell_type": "markdown",
   "id": "334af3cf-c76e-49ca-af06-a39c2439db59",
   "metadata": {},
   "source": [
    "### 5) Построим точечную диаграмму (scatterplot) и оценим корреляцию между переменными"
   ]
  },
  {
   "cell_type": "code",
   "execution_count": 124,
   "id": "f6a8c505-5853-4d63-bf87-4a3e4e4c848e",
   "metadata": {},
   "outputs": [
    {
     "data": {
      "image/png": "[encoded data removed]",
      "text/plain": [
       "<Figure size 1500x500 with 1 Axes>"
      ]
     },
     "metadata": {},
     "output_type": "display_data"
    }
   ],
   "source": [
    "plt.figure(figsize = (15,5))\n",
    "# Возьмем дистанцию менее 500 и массу менее 10 для наглядности\n",
    "data = df_pl_perfect [(df_pl_perfect['distance'] < 1000)&(df_pl_perfect['mass'] < 10)]\n",
    "sns.scatterplot(data = data, x = 'distance', y = 'mass')\n",
    "# Построим диаграмму зависимости Дистанций и Масс открытых планет\n",
    "plt.show()"
   ]
  },
  {
   "cell_type": "code",
   "execution_count": 116,
   "id": "8ba1cbc6-a9e9-4253-a779-ac83ec0ee2f9",
   "metadata": {},
   "outputs": [
    {
     "data": {
      "text/plain": [
       "0.4018742540070905"
      ]
     },
     "execution_count": 116,
     "metadata": {},
     "output_type": "execute_result"
    }
   ],
   "source": [
    "# Вычислим корреляцию между Дистанцией и Массой\n",
    "df_pl_perfect['distance'].corr(df_pl_perfect['mass'])"
   ]
  },
  {
   "attachments": {},
   "cell_type": "markdown",
   "id": "02f7fe00-84ff-4166-9652-8215991b2f59",
   "metadata": {},
   "source": [
    "##### Точечная диаграмма показывает, что при увеличении дистанции планет от своих звезд, количество планет с маленькой массой заметно уменьшается. На дистанции до 200 прослеживается большое количество планет с маленькой массой, на дистанции более 200 - количество планет с маленьой массой уменьшается. Приоритет берут массф побольше. Но это не так сильно проявляется.\n",
    "##### Расчет корреляции показал, что линейная взаимосвязь Дистанции и Массы немного имеется (значение от 0,3 до 0,6). Нарисованный выше график это подтверждает. \n"
   ]
  },
  {
   "attachments": {},
   "cell_type": "markdown",
   "id": "08784afd-50ef-4e11-8ded-8630965ca9f6",
   "metadata": {},
   "source": [
    "### 6) Оценим модель линейной регрессии. Сделаем на ее основе прогноз и вывод по результатам"
   ]
  },
  {
   "cell_type": "code",
   "execution_count": 130,
   "id": "99e97006-10e2-44df-b39d-6ce26b8ba410",
   "metadata": {},
   "outputs": [
    {
     "data": {
      "text/plain": [
       "<Figure size 1500x500 with 0 Axes>"
      ]
     },
     "metadata": {},
     "output_type": "display_data"
    },
    {
     "data": {
      "image/png": "[encoded data removed]",
      "text/plain": [
       "<Figure size 500x500 with 1 Axes>"
      ]
     },
     "metadata": {},
     "output_type": "display_data"
    }
   ],
   "source": [
    "# Создадим графики линейной регрессии\n",
    "plt.figure(figsize = (15,5)) # тут почему то не работает уширение фигуры((\n",
    "sns.lmplot(data = df_pl_perfect, x = 'distance', y = 'mass')\n",
    "plt.show()"
   ]
  },
  {
   "cell_type": "markdown",
   "id": "160f8500-c60f-4373-a1d2-3a2d5e50b351",
   "metadata": {},
   "source": [
    "##### Прямая линия на графике лучше всего обрисовывает линейную зависимость данных. Синий фон по сторонам линии показывается 95% доверительный интервал."
   ]
  },
  {
   "cell_type": "code",
   "execution_count": 141,
   "id": "a0d68792-82bc-4984-8a71-d94276ccc623",
   "metadata": {},
   "outputs": [
    {
     "name": "stdout",
     "output_type": "stream",
     "text": [
      "                            OLS Regression Results                            \n",
      "==============================================================================\n",
      "Dep. Variable:                      y   R-squared:                       0.162\n",
      "Model:                            OLS   Adj. R-squared:                  0.160\n",
      "Method:                 Least Squares   F-statistic:                     138.5\n",
      "Date:                Sun, 10 Nov 2024   Prob (F-statistic):           2.32e-29\n",
      "Time:                        17:29:49   Log-Likelihood:                -2383.7\n",
      "No. Observations:                 721   AIC:                             4771.\n",
      "Df Residuals:                     719   BIC:                             4781.\n",
      "Df Model:                           1                                         \n",
      "Covariance Type:            nonrobust                                         \n",
      "==============================================================================\n",
      "                 coef    std err          t      P>|t|      [0.025      0.975]\n",
      "------------------------------------------------------------------------------\n",
      "const          4.5402      0.291     15.600      0.000       3.969       5.112\n",
      "x1             0.0074      0.001     11.768      0.000       0.006       0.009\n",
      "==============================================================================\n",
      "Omnibus:                       98.450   Durbin-Watson:                   1.466\n",
      "Prob(Omnibus):                  0.000   Jarque-Bera (JB):              137.309\n",
      "Skew:                           1.047   Prob(JB):                     1.53e-30\n",
      "Kurtosis:                       3.434   Cond. No.                         550.\n",
      "==============================================================================\n",
      "\n",
      "Notes:\n",
      "[1] Standard Errors assume that the covariance matrix of the errors is correctly specified.\n"
     ]
    }
   ],
   "source": [
    "X = np.array(df_pl_perfect['distance'])\n",
    "Y = np.array(df_pl_perfect['mass'])\n",
    "X = sm.add_constant(X)\n",
    "model = sm.OLS(Y, X)\n",
    "results = model.fit()\n",
    "print(results.summary())"
   ]
  },
  {
   "cell_type": "markdown",
   "id": "e3d07c56-834a-498c-bd30-8c440b47a3af",
   "metadata": {},
   "source": [
    "##### Yi = 4.5402 + 0.074*Xi"
   ]
  },
  {
   "cell_type": "markdown",
   "id": "91c66a6c-d59a-46f9-aed9-69e8cec6d989",
   "metadata": {},
   "source": [
    "##### Между Дистанцией и Массой есть ненулевая зависимость. На Массу планет влияют множество параметров, одно из которых - это Дистанция до своей звезды. Её влияение составляет 16% от всех совокупных параметров."
   ]
  }
 ],
 "metadata": {
  "kernelspec": {
   "display_name": "Python 3 (ipykernel)",
   "language": "python",
   "name": "python3"
  },
  "language_info": {
   "codemirror_mode": {
    "name": "ipython",
    "version": 3
   },
   "file_extension": ".py",
   "mimetype": "text/x-python",
   "name": "python",
   "nbconvert_exporter": "python",
   "pygments_lexer": "ipython3",
   "version": "3.12.4"
  }
 },
 "nbformat": 4,
 "nbformat_minor": 5
}
