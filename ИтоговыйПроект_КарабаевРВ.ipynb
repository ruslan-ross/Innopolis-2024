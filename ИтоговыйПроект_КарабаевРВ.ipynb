{
 "cells": [
  {
   "cell_type": "markdown",
   "id": "d73149d8-663f-4883-8c25-1bbac83bc016",
   "metadata": {},
   "source": [
    "### I Подключение библиотек"
   ]
  },
  {
   "cell_type": "code",
   "execution_count": 1,
   "id": "af66e22a",
   "metadata": {},
   "outputs": [],
   "source": [
    "import numpy as np\n",
    "import pandas as pd\n",
    "import seaborn as sns\n",
    "import statsmodels.api as sm\n",
    "import matplotlib.pyplot as plt\n",
    "from scipy import stats\n",
    "\n",
    "# Подключаем необходимые библиотеки для машинного обучения\n",
    "from sklearn.preprocessing import MinMaxScaler\n",
    "from sklearn.neighbors import KNeighborsClassifier\n",
    "from sklearn.model_selection import train_test_split\n",
    "from sklearn.metrics import confusion_matrix\n",
    "from sklearn.metrics import precision_score, recall_score\n",
    "\n",
    "import warnings\n",
    "warnings.filterwarnings('ignore')"
   ]
  },
  {
   "cell_type": "markdown",
   "id": "e8169708-faa0-4b9d-ab9e-55c5d4fbdb83",
   "metadata": {},
   "source": [
    "________________________________________________________________________________________________________________________________"
   ]
  },
  {
   "cell_type": "markdown",
   "id": "7267d662",
   "metadata": {},
   "source": [
    "### II Загружаем данные"
   ]
  },
  {
   "cell_type": "code",
   "execution_count": 2,
   "id": "6b59ffa7",
   "metadata": {},
   "outputs": [
    {
     "data": {
      "text/html": [
       "<div>\n",
       "<style scoped>\n",
       "    .dataframe tbody tr th:only-of-type {\n",
       "        vertical-align: middle;\n",
       "    }\n",
       "\n",
       "    .dataframe tbody tr th {\n",
       "        vertical-align: top;\n",
       "    }\n",
       "\n",
       "    .dataframe thead th {\n",
       "        text-align: right;\n",
       "    }\n",
       "</style>\n",
       "<table border=\"1\" class=\"dataframe\">\n",
       "  <thead>\n",
       "    <tr style=\"text-align: right;\">\n",
       "      <th></th>\n",
       "      <th>dvcat</th>\n",
       "      <th>weight</th>\n",
       "      <th>dead</th>\n",
       "      <th>airbag</th>\n",
       "      <th>seatbelt</th>\n",
       "      <th>frontal</th>\n",
       "      <th>sex</th>\n",
       "      <th>ageOFocc</th>\n",
       "      <th>yearacc</th>\n",
       "      <th>yearVeh</th>\n",
       "      <th>abcat</th>\n",
       "      <th>occRole</th>\n",
       "      <th>deploy</th>\n",
       "      <th>injSeverity</th>\n",
       "      <th>caseid</th>\n",
       "    </tr>\n",
       "  </thead>\n",
       "  <tbody>\n",
       "    <tr>\n",
       "      <th>0</th>\n",
       "      <td>25-39</td>\n",
       "      <td>25.069</td>\n",
       "      <td>alive</td>\n",
       "      <td>none</td>\n",
       "      <td>belted</td>\n",
       "      <td>1</td>\n",
       "      <td>f</td>\n",
       "      <td>26</td>\n",
       "      <td>1997</td>\n",
       "      <td>1990.0</td>\n",
       "      <td>unavail</td>\n",
       "      <td>driver</td>\n",
       "      <td>0</td>\n",
       "      <td>3.0</td>\n",
       "      <td>2:3:1</td>\n",
       "    </tr>\n",
       "    <tr>\n",
       "      <th>1</th>\n",
       "      <td>10-24</td>\n",
       "      <td>25.069</td>\n",
       "      <td>alive</td>\n",
       "      <td>airbag</td>\n",
       "      <td>belted</td>\n",
       "      <td>1</td>\n",
       "      <td>f</td>\n",
       "      <td>72</td>\n",
       "      <td>1997</td>\n",
       "      <td>1995.0</td>\n",
       "      <td>deploy</td>\n",
       "      <td>driver</td>\n",
       "      <td>1</td>\n",
       "      <td>1.0</td>\n",
       "      <td>2:3:2</td>\n",
       "    </tr>\n",
       "    <tr>\n",
       "      <th>2</th>\n",
       "      <td>10-24</td>\n",
       "      <td>32.379</td>\n",
       "      <td>alive</td>\n",
       "      <td>none</td>\n",
       "      <td>none</td>\n",
       "      <td>1</td>\n",
       "      <td>f</td>\n",
       "      <td>69</td>\n",
       "      <td>1997</td>\n",
       "      <td>1988.0</td>\n",
       "      <td>unavail</td>\n",
       "      <td>driver</td>\n",
       "      <td>0</td>\n",
       "      <td>4.0</td>\n",
       "      <td>2:5:1</td>\n",
       "    </tr>\n",
       "    <tr>\n",
       "      <th>3</th>\n",
       "      <td>25-39</td>\n",
       "      <td>495.444</td>\n",
       "      <td>alive</td>\n",
       "      <td>airbag</td>\n",
       "      <td>belted</td>\n",
       "      <td>1</td>\n",
       "      <td>f</td>\n",
       "      <td>53</td>\n",
       "      <td>1997</td>\n",
       "      <td>1995.0</td>\n",
       "      <td>deploy</td>\n",
       "      <td>driver</td>\n",
       "      <td>1</td>\n",
       "      <td>1.0</td>\n",
       "      <td>2:10:1</td>\n",
       "    </tr>\n",
       "    <tr>\n",
       "      <th>4</th>\n",
       "      <td>25-39</td>\n",
       "      <td>25.069</td>\n",
       "      <td>alive</td>\n",
       "      <td>none</td>\n",
       "      <td>belted</td>\n",
       "      <td>1</td>\n",
       "      <td>f</td>\n",
       "      <td>32</td>\n",
       "      <td>1997</td>\n",
       "      <td>1988.0</td>\n",
       "      <td>unavail</td>\n",
       "      <td>driver</td>\n",
       "      <td>0</td>\n",
       "      <td>3.0</td>\n",
       "      <td>2:11:1</td>\n",
       "    </tr>\n",
       "  </tbody>\n",
       "</table>\n",
       "</div>"
      ],
      "text/plain": [
       "   dvcat   weight   dead  airbag seatbelt  frontal sex  ageOFocc  yearacc  \\\n",
       "0  25-39   25.069  alive    none   belted        1   f        26     1997   \n",
       "1  10-24   25.069  alive  airbag   belted        1   f        72     1997   \n",
       "2  10-24   32.379  alive    none     none        1   f        69     1997   \n",
       "3  25-39  495.444  alive  airbag   belted        1   f        53     1997   \n",
       "4  25-39   25.069  alive    none   belted        1   f        32     1997   \n",
       "\n",
       "   yearVeh    abcat occRole  deploy  injSeverity  caseid  \n",
       "0   1990.0  unavail  driver       0          3.0   2:3:1  \n",
       "1   1995.0   deploy  driver       1          1.0   2:3:2  \n",
       "2   1988.0  unavail  driver       0          4.0   2:5:1  \n",
       "3   1995.0   deploy  driver       1          1.0  2:10:1  \n",
       "4   1988.0  unavail  driver       0          3.0  2:11:1  "
      ]
     },
     "execution_count": 2,
     "metadata": {},
     "output_type": "execute_result"
    }
   ],
   "source": [
    "item = 'nassCDS' # Выбираем из поля Item нашего датасета\n",
    "package = 'DAAG' # Выбираем из поля Package нашего датасета\n",
    "\n",
    "dfnew = sm.datasets.get_rdataset(item, package , cache=True).data\n",
    "dfnew.head()"
   ]
  },
  {
   "cell_type": "markdown",
   "id": "87c1becd-f363-4c23-be44-2f861f15ad71",
   "metadata": {},
   "source": [
    "________________________________________________________________________________________________________________________________"
   ]
  },
  {
   "cell_type": "markdown",
   "id": "56e33297-86a3-4008-a148-72075d651364",
   "metadata": {},
   "source": [
    "### III Изучаем датасет"
   ]
  },
  {
   "cell_type": "code",
   "execution_count": 3,
   "id": "a1fc8196-bd69-47fe-a0bb-564fbc6b2940",
   "metadata": {},
   "outputs": [
    {
     "data": {
      "text/plain": [
       "(26217, 15)"
      ]
     },
     "execution_count": 3,
     "metadata": {},
     "output_type": "execute_result"
    }
   ],
   "source": [
    "dfnew.shape"
   ]
  },
  {
   "cell_type": "code",
   "execution_count": 4,
   "id": "7e350006-b04b-477e-881e-5d2828081f25",
   "metadata": {},
   "outputs": [
    {
     "data": {
      "text/plain": [
       "array(['25-39', '10-24', '40-54', '55+', '1-9km/h'], dtype=object)"
      ]
     },
     "execution_count": 4,
     "metadata": {},
     "output_type": "execute_result"
    }
   ],
   "source": [
    "dfnew['dvcat'].unique()     # Таким образом проссматриваю уникальные значения всех столбцов поочереди"
   ]
  },
  {
   "cell_type": "code",
   "execution_count": 5,
   "id": "325fe56a-e913-4d25-bff5-eea3b4291397",
   "metadata": {},
   "outputs": [
    {
     "data": {
      "text/plain": [
       "count    26217.000000\n",
       "mean        37.206202\n",
       "std         17.909317\n",
       "min         16.000000\n",
       "25%         22.000000\n",
       "50%         33.000000\n",
       "75%         48.000000\n",
       "max         97.000000\n",
       "Name: ageOFocc, dtype: float64"
      ]
     },
     "execution_count": 5,
     "metadata": {},
     "output_type": "execute_result"
    }
   ],
   "source": [
    "dfnew['ageOFocc'].describe()     # Таким образом проссматриваю небольшую статистику по столбцам"
   ]
  },
  {
   "cell_type": "markdown",
   "id": "633d3fd5-d74d-41d1-a991-4dfb933f14c3",
   "metadata": {},
   "source": [
    "________________________________________________________________________________________________________________________________"
   ]
  },
  {
   "cell_type": "markdown",
   "id": "7f0d96f0-9e67-46e5-9940-baf2ce03da7e",
   "metadata": {},
   "source": [
    "### IV Проведем очистку данных от пропусков, выбросов и некорректных значений"
   ]
  },
  {
   "cell_type": "code",
   "execution_count": 6,
   "id": "ef953793-4bad-4a90-a839-38b65331e6de",
   "metadata": {},
   "outputs": [
    {
     "data": {
      "text/html": [
       "<div>\n",
       "<style scoped>\n",
       "    .dataframe tbody tr th:only-of-type {\n",
       "        vertical-align: middle;\n",
       "    }\n",
       "\n",
       "    .dataframe tbody tr th {\n",
       "        vertical-align: top;\n",
       "    }\n",
       "\n",
       "    .dataframe thead th {\n",
       "        text-align: right;\n",
       "    }\n",
       "</style>\n",
       "<table border=\"1\" class=\"dataframe\">\n",
       "  <thead>\n",
       "    <tr style=\"text-align: right;\">\n",
       "      <th></th>\n",
       "      <th>dvcat</th>\n",
       "      <th>weight</th>\n",
       "      <th>dead</th>\n",
       "      <th>airbag</th>\n",
       "      <th>seatbelt</th>\n",
       "      <th>frontal</th>\n",
       "      <th>sex</th>\n",
       "      <th>ageOFocc</th>\n",
       "      <th>yearacc</th>\n",
       "      <th>yearVeh</th>\n",
       "      <th>abcat</th>\n",
       "      <th>occRole</th>\n",
       "      <th>deploy</th>\n",
       "      <th>injSeverity</th>\n",
       "      <th>caseid</th>\n",
       "    </tr>\n",
       "  </thead>\n",
       "  <tbody>\n",
       "  </tbody>\n",
       "</table>\n",
       "</div>"
      ],
      "text/plain": [
       "Empty DataFrame\n",
       "Columns: [dvcat, weight, dead, airbag, seatbelt, frontal, sex, ageOFocc, yearacc, yearVeh, abcat, occRole, deploy, injSeverity, caseid]\n",
       "Index: []"
      ]
     },
     "execution_count": 6,
     "metadata": {},
     "output_type": "execute_result"
    }
   ],
   "source": [
    "# Проверяем, есть ли в датасете дубликаты строк\n",
    "\n",
    "dfnew[dfnew.duplicated()]     # Дубликатов нет"
   ]
  },
  {
   "cell_type": "code",
   "execution_count": 7,
   "id": "06dc824b-06c0-4a45-a8f7-5d5261c40c44",
   "metadata": {},
   "outputs": [
    {
     "data": {
      "text/plain": [
       "dvcat            0\n",
       "weight           0\n",
       "dead             0\n",
       "airbag           0\n",
       "seatbelt         0\n",
       "frontal          0\n",
       "sex              0\n",
       "ageOFocc         0\n",
       "yearacc          0\n",
       "yearVeh          1\n",
       "abcat            0\n",
       "occRole          0\n",
       "deploy           0\n",
       "injSeverity    153\n",
       "caseid           0\n",
       "dtype: int64"
      ]
     },
     "execution_count": 7,
     "metadata": {},
     "output_type": "execute_result"
    }
   ],
   "source": [
    "# Поссмотрим пропуски\n",
    "dfnew.isna().sum()"
   ]
  },
  {
   "cell_type": "code",
   "execution_count": 8,
   "id": "4c570ce1-b049-4676-9765-8c50bf256a4a",
   "metadata": {},
   "outputs": [
    {
     "data": {
      "text/plain": [
       "(26063, 15)"
      ]
     },
     "execution_count": 8,
     "metadata": {},
     "output_type": "execute_result"
    }
   ],
   "source": [
    "# Убираем строки с пропусками\n",
    "dfnew1 = dfnew[(dfnew['yearVeh']>1)&(dfnew['injSeverity']>=0)]\n",
    "dfnew1.shape"
   ]
  },
  {
   "cell_type": "code",
   "execution_count": 9,
   "id": "a8ebc8c3-0baa-496d-84da-f45f8eb7e268",
   "metadata": {},
   "outputs": [
    {
     "name": "stdout",
     "output_type": "stream",
     "text": [
      "Выбросами будут считаться все возрасты, значения которых находится за пределами интервала [-17.0, 87.0]\n"
     ]
    }
   ],
   "source": [
    "# Выбросы будем искать во Возрасту человека, так как это единственное поле с множеством значений\n",
    "# Возьмем метод через IQR\n",
    "\n",
    "q1 = dfnew1['ageOFocc'].quantile(0.25)\n",
    "q3 = dfnew1['ageOFocc'].quantile(0.75)\n",
    "iqr = q3 - q1\n",
    "lower_bound = q1 - 1.5*iqr\n",
    "upper_bound = q3 + 1.5*iqr\n",
    "print(f\"Выбросами будут считаться все возрасты, значения которых находится за пределами интервала [{lower_bound}, {upper_bound}]\")"
   ]
  },
  {
   "cell_type": "code",
   "execution_count": 10,
   "id": "5c032fcb-6976-401c-be7c-afa1808e9efe",
   "metadata": {},
   "outputs": [
    {
     "data": {
      "text/plain": [
       "(25957, 15)"
      ]
     },
     "execution_count": 10,
     "metadata": {},
     "output_type": "execute_result"
    }
   ],
   "source": [
    "# Формируем новый датасет без выбросов и пропусков\n",
    "df = dfnew1[((dfnew1['ageOFocc'] >= lower_bound) & (dfnew1['ageOFocc'] <= upper_bound)) | (dfnew1['ageOFocc'].isna())]\n",
    "df.shape"
   ]
  },
  {
   "cell_type": "markdown",
   "id": "ebf6cc39-021e-4c64-975b-999d827e59e5",
   "metadata": {},
   "source": [
    "________________________________________________________________________________________________________________________________"
   ]
  },
  {
   "cell_type": "markdown",
   "id": "24991199-62a0-49c3-a354-15e0ddee8b2b",
   "metadata": {},
   "source": [
    "### V Протестируем распределение числовой переменной на соответствие нормальному. Построим QQ-plot и гистограмму."
   ]
  },
  {
   "cell_type": "code",
   "execution_count": 11,
   "id": "040e9212-d310-445e-b924-1cf211f63e8b",
   "metadata": {},
   "outputs": [
    {
     "data": {
      "text/plain": [
       "KstestResult(statistic=1.0, pvalue=0.0, statistic_location=16, statistic_sign=-1)"
      ]
     },
     "execution_count": 11,
     "metadata": {},
     "output_type": "execute_result"
    }
   ],
   "source": [
    "# Используем тест Колмогорова-Смирнова на нормальность распределения столбца ВОЗРАСТ\n",
    "stats.kstest(df['ageOFocc'], stats.norm.cdf)"
   ]
  },
  {
   "cell_type": "markdown",
   "id": "12383a1e-1ef2-4820-bd47-6b351df60ab6",
   "metadata": {},
   "source": [
    "Нулевая гипотеза - распределение нормальное. В тесте р-значение является очень низким, то есть нулевая гипотеза отвергается, и распределение возрастов людей нельзя считать нормальным."
   ]
  },
  {
   "cell_type": "code",
   "execution_count": 12,
   "id": "8ba67a36-4196-44df-9d1d-0e87c9b499af",
   "metadata": {},
   "outputs": [
    {
     "data": {
      "text/plain": [
       "AndersonResult(statistic=685.4232967137505, critical_values=array([0.576, 0.656, 0.787, 0.918, 1.092]), significance_level=array([15. , 10. ,  5. ,  2.5,  1. ]), fit_result=  params: FitParams(loc=37.00674191932812, scale=17.614305184049226)\n",
       " success: True\n",
       " message: '`anderson` successfully fit the distribution to the data.')"
      ]
     },
     "execution_count": 12,
     "metadata": {},
     "output_type": "execute_result"
    }
   ],
   "source": [
    "# Используем тест Андерсона-Дарлинга на нормальность распределения столбца ВОЗРАСТ\n",
    "stats.anderson(df['ageOFocc'], dist='norm')"
   ]
  },
  {
   "cell_type": "markdown",
   "id": "0c9dd976-27e1-48ea-95cc-b947f4538777",
   "metadata": {},
   "source": [
    "Нулевая гипотеза - распределение нормальное. Для уровня значимости 0,05 критическое значение составляет 0,787, а наблюдаемое значение 685.42. Наблюдаемая статистика гораздо выше критического значения, то есть нулевая гипотеза отвергается, и распределение возрастов людей нельзя считать нормальным."
   ]
  },
  {
   "cell_type": "code",
   "execution_count": 13,
   "id": "68fec878-b184-4703-8e3a-8b9b3070b0c7",
   "metadata": {},
   "outputs": [
    {
     "data": {
      "image/png": "[encoded data removed]",
      "text/plain": [
       "<Figure size 1500x500 with 1 Axes>"
      ]
     },
     "metadata": {},
     "output_type": "display_data"
    }
   ],
   "source": [
    "# Построим гистограмму распределения ВОЗРАСТОВ людей, попавших в аварии\n",
    "plt.figure(figsize = (15,5))\n",
    "plt.title('Распределение возрастов людей, попавших в аварии')\n",
    "sns.histplot(df['ageOFocc'], kde = True)\n",
    "plt.show()"
   ]
  },
  {
   "cell_type": "markdown",
   "id": "edcffddf-7ac7-4a38-8044-6c9e6890f648",
   "metadata": {},
   "source": [
    "По гистограмме видно, что распределение не нормальное (с виду не \"колокольчик\")"
   ]
  },
  {
   "cell_type": "code",
   "execution_count": 14,
   "id": "55197cf6-ae47-4dc0-b54d-0db5f30df934",
   "metadata": {},
   "outputs": [
    {
     "data": {
      "image/png": "[encoded data removed]",
      "text/plain": [
       "<Figure size 500x500 with 1 Axes>"
      ]
     },
     "metadata": {},
     "output_type": "display_data"
    }
   ],
   "source": [
    "# Построим QQ-плот для ВОЗРАСТОВ людей, попавших в аварии\n",
    "fig, ax  = plt.subplots(1, figsize = (5,5))\n",
    "plt.title('QQ-плот для ВОЗРАСТОВ людей, попавших в аварии')\n",
    "stats.probplot(df['ageOFocc'], dist=\"norm\", plot = ax)\n",
    "plt.show()"
   ]
  },
  {
   "cell_type": "markdown",
   "id": "884334a6-32c5-4f79-98f0-a0fb561884a7",
   "metadata": {},
   "source": [
    "По графику видно, что в целом нормальное распределение отсутствует. Нормально распределены только некоторые серединные значения, начало и конец графика сильно отличаются от нормального распределения.\n",
    "##### С ПРАКТИЧЕСКОЙ ТОЧКИ ЗРЕНИЯ: Основная масса людей, попавших в аварии, это молодые люди. Чем возрасты людей выше, тем меньше количество аварий. Конечно это может быть связано как и со стилем вождения (взрослые ездят поумеренее), так и с тем, что возрастные люди ездят на машинах меньше по времени.\n",
    "##### ВЫВОД: ЕЗДИТЬ НУЖНО АККУРАТНЕЕ, СТАТИСТИКА ГОВОРИТ, ЧТО ЛИХАЧЕСТВО ДО ДОБРА НЕ ДОВОДИТ (относится к молодым водителям, любящим полихачить)!!!"
   ]
  },
  {
   "cell_type": "markdown",
   "id": "9b1d82b4-0543-4ec0-b958-a4f0576be899",
   "metadata": {},
   "source": [
    "________________________________________________________________________________________________________________________________"
   ]
  },
  {
   "cell_type": "markdown",
   "id": "c1a980d0-427e-43d8-9715-4a61f9b2f7ea",
   "metadata": {},
   "source": [
    "### VI Сформулируем на базе переменных три вида гипотез. Проведем тесты гипотез и сделаем выводы."
   ]
  },
  {
   "cell_type": "markdown",
   "id": "071488cb-de0c-4b1d-9f88-35f73fbb0a39",
   "metadata": {},
   "source": [
    "#### 1) Выберем две категориальные переменные и сформулируем гипотезу об их взаимосвязи\n",
    "Взаимосвязь двух категориальных переменных тестируется путем построения таблицы сопряженности и использования теста Пирсона (хи-квадрат). Визуализация лучше всего делается тепловой картой."
   ]
  },
  {
   "cell_type": "code",
   "execution_count": 15,
   "id": "5cc1da12-e4f1-4667-892f-09b063f2b0c1",
   "metadata": {},
   "outputs": [
    {
     "data": {
      "text/html": [
       "<div>\n",
       "<style scoped>\n",
       "    .dataframe tbody tr th:only-of-type {\n",
       "        vertical-align: middle;\n",
       "    }\n",
       "\n",
       "    .dataframe tbody tr th {\n",
       "        vertical-align: top;\n",
       "    }\n",
       "\n",
       "    .dataframe thead th {\n",
       "        text-align: right;\n",
       "    }\n",
       "</style>\n",
       "<table border=\"1\" class=\"dataframe\">\n",
       "  <thead>\n",
       "    <tr style=\"text-align: right;\">\n",
       "      <th>seatbelt</th>\n",
       "      <th>belted</th>\n",
       "      <th>none</th>\n",
       "    </tr>\n",
       "    <tr>\n",
       "      <th>dead</th>\n",
       "      <th></th>\n",
       "      <th></th>\n",
       "    </tr>\n",
       "  </thead>\n",
       "  <tbody>\n",
       "    <tr>\n",
       "      <th>alive</th>\n",
       "      <td>17905</td>\n",
       "      <td>6896</td>\n",
       "    </tr>\n",
       "    <tr>\n",
       "      <th>dead</th>\n",
       "      <td>486</td>\n",
       "      <td>670</td>\n",
       "    </tr>\n",
       "  </tbody>\n",
       "</table>\n",
       "</div>"
      ],
      "text/plain": [
       "seatbelt  belted  none\n",
       "dead                  \n",
       "alive      17905  6896\n",
       "dead         486   670"
      ]
     },
     "execution_count": 15,
     "metadata": {},
     "output_type": "execute_result"
    }
   ],
   "source": [
    "# Сформируем датасеты со столбцами Смертность и Наличие ремней безопасности\n",
    "df_dead = df['dead']\n",
    "df_gender = df['seatbelt']\n",
    "\n",
    "# Построим таблицу сопряженности\n",
    "df_dead_gender = pd.crosstab(df_dead, df_gender)\n",
    "df_dead_gender"
   ]
  },
  {
   "cell_type": "code",
   "execution_count": 16,
   "id": "f5318e32-8079-4df1-af83-54cbac9b109e",
   "metadata": {},
   "outputs": [
    {
     "data": {
      "text/plain": [
       "Chi2ContingencyResult(statistic=484.8084155065377, pvalue=1.9206752312922432e-107, dof=1, expected_freq=array([[17571.95326887,  7229.04673113],\n",
       "       [  819.04673113,   336.95326887]]))"
      ]
     },
     "execution_count": 16,
     "metadata": {},
     "output_type": "execute_result"
    }
   ],
   "source": [
    "# Используем тест Пирсона (хи-квадрат) для проверки взаимосвязи двух категориальных переменных\n",
    "stats.chi2_contingency(df_dead_gender)"
   ]
  },
  {
   "cell_type": "markdown",
   "id": "9e14fdfb-9d51-4a4d-b2f2-fd29cf8ffbee",
   "metadata": {},
   "source": [
    "##### Нулевая гипотеза - между двумя категориальными переменными зависимости нет.\n",
    "##### р-значение существенно ниже 5%, следовательно, данные противоречат нулевой гипотезе и мы можем ее отвергнуть.\n",
    "##### Между смертностью в ДТП и наличием ремней безопасности в ТС есть значимая зависимость.\n",
    "##### С ПРАКТИЧЕСКОЙ ТОЧКИ ЗРЕНИЯ: пристегнутый ремень безопасности снижает получение тяжелых травм, несовместимых с жизнью.\n",
    "##### ВЫВОД: ВСЕГДА НЕОБХОДИМО ПРИСТЕГИВАТЬСЯ РЕМНЕМ БЕЗОПАСНОСТИ!!!"
   ]
  },
  {
   "cell_type": "code",
   "execution_count": 17,
   "id": "40134716-facc-4100-8ad4-6703a956ccec",
   "metadata": {},
   "outputs": [
    {
     "data": {
      "image/png": "[encoded data removed]",
      "text/plain": [
       "<Figure size 700x300 with 2 Axes>"
      ]
     },
     "metadata": {},
     "output_type": "display_data"
    }
   ],
   "source": [
    "# Визуализируем итоги на тепловой карте\n",
    "plt.figure(figsize = (7,3))\n",
    "sns.heatmap(df_dead_gender, annot = True, fmt='.0f')\n",
    "plt.show()"
   ]
  },
  {
   "cell_type": "markdown",
   "id": "6d030fa3-2ef0-4188-bb8b-1737a2f553f9",
   "metadata": {},
   "source": [
    "#### 2) Выберем одну категориальную и одну числовую переменную и сформулируем гипотезу об их взаимосвязи\n",
    "В случае, если категориальная переменная принимает только два значения, то мы используем Т-тест (тест Манна-Уитни) для сравнения мат ожиданий количественной переменной в двух группах"
   ]
  },
  {
   "cell_type": "code",
   "execution_count": 18,
   "id": "f19b98f2-f179-4e18-8fb8-556d4fbfed2a",
   "metadata": {},
   "outputs": [
    {
     "data": {
      "text/plain": [
       "(11450, 15)"
      ]
     },
     "execution_count": 18,
     "metadata": {},
     "output_type": "execute_result"
    }
   ],
   "source": [
    "# Сформируем группу 1 - датасет только с мужчинами водителями\n",
    "df_M = df[(df['sex'] == 'm')&(df['occRole'] == 'driver')]\n",
    "df_M.shape"
   ]
  },
  {
   "cell_type": "code",
   "execution_count": 19,
   "id": "790b5aff-a408-4316-bd06-edd3a24242ff",
   "metadata": {},
   "outputs": [
    {
     "data": {
      "text/plain": [
       "(9018, 15)"
      ]
     },
     "execution_count": 19,
     "metadata": {},
     "output_type": "execute_result"
    }
   ],
   "source": [
    "# Сформируем группу 2 - датасет только с женщинами водителями\n",
    "df_F = df[(df['sex'] == 'f')&(df['occRole'] == 'driver')]\n",
    "df_F.shape"
   ]
  },
  {
   "cell_type": "code",
   "execution_count": 20,
   "id": "fda70087-6fc5-44a9-9ed1-a8983f5e3afe",
   "metadata": {},
   "outputs": [
    {
     "data": {
      "image/png": "[encoded data removed]",
      "text/plain": [
       "<Figure size 1500x500 with 2 Axes>"
      ]
     },
     "metadata": {},
     "output_type": "display_data"
    }
   ],
   "source": [
    "# Нарисуем графики распределения ВОЗРАСТОВ по мужчинам-водителям (слева) и женщинам-водителям (справа)\n",
    "fig, ax  = plt.subplots(1,2, figsize = (15,5))\n",
    "sns.histplot(df_M['ageOFocc'], kde = True, ax = ax[0])\n",
    "sns.histplot(df_F['ageOFocc'], kde = True, ax = ax[1])\n",
    "plt.show()"
   ]
  },
  {
   "cell_type": "code",
   "execution_count": 21,
   "id": "6675dc0c-8a21-4e5b-b145-98c1d7f136e4",
   "metadata": {},
   "outputs": [
    {
     "data": {
      "text/plain": [
       "MannwhitneyuResult(statistic=50867692.5, pvalue=0.06994796653328493)"
      ]
     },
     "execution_count": 21,
     "metadata": {},
     "output_type": "execute_result"
    }
   ],
   "source": [
    "# Так как распределение Возраста не является нормальным, то используем Тест Манна-Уитни для тестирования гипотезы о том,\n",
    "# что средний возраст водителей муского и женского пола, попавших в аварию, совпадает\n",
    "stats.mannwhitneyu(df_M['ageOFocc'], df_F['ageOFocc'], alternative = 'two-sided')"
   ]
  },
  {
   "cell_type": "markdown",
   "id": "f69f64ff-3958-40af-9b5c-54ffe13a2057",
   "metadata": {},
   "source": [
    "##### p-значение оказалось выше 5%, то есть нулевая гипотеза не отвергается\n",
    "##### С ПРАКТИЧЕСКОЙ ТОЧКИ ЗРЕНИЯ: средний возраст водителей муского и женского пола, попавших в аварию, совпадает (примерно одинаковый)\n",
    "##### ВЫВОД: возраст не является основным фактором, влияющим на вероятность ДТП"
   ]
  },
  {
   "cell_type": "markdown",
   "id": "ef12c225-30d4-424e-ba8b-8725262f4337",
   "metadata": {},
   "source": [
    "#### 3) Выберем две числовые переменные и сформулируем гипотезу об их взаимосвязи\n",
    "\n",
    "Взаимосвязь двух количественных переменных тестируется либо расчетом коэффициента корреляции, либо построением модели линейной регрессии. Визуализация лучше всего делается точечной диаграммой (scatterplot)"
   ]
  },
  {
   "cell_type": "code",
   "execution_count": 22,
   "id": "a534996b-b6b2-41d2-824c-337b785bac2c",
   "metadata": {},
   "outputs": [
    {
     "data": {
      "text/plain": [
       "0.02044033077853519"
      ]
     },
     "execution_count": 22,
     "metadata": {},
     "output_type": "execute_result"
    }
   ],
   "source": [
    "# К сожалению в датасете кроме следующих двух переменных больше нечего брать, по остальным результаты получаются некрасивые и нечитаемые\n",
    "\n",
    "# Рассчитаем коэфициент корреляции для столбцов возраст человека и Года выпуска ТС\n",
    "df['ageOFocc'].corr(df['yearVeh'])"
   ]
  },
  {
   "cell_type": "code",
   "execution_count": 23,
   "id": "b79e6292-e64f-4f77-ac5f-bbcaee816377",
   "metadata": {},
   "outputs": [
    {
     "data": {
      "image/png": "[encoded data removed]",
      "text/plain": [
       "<Figure size 1500x500 with 1 Axes>"
      ]
     },
     "metadata": {},
     "output_type": "display_data"
    }
   ],
   "source": [
    "# Построим диаграмму зависимости Возраста человека и Года выпуска ТС\n",
    "plt.figure(figsize = (15,5))\n",
    "sns.scatterplot(data = df, x = 'ageOFocc', y = 'yearVeh')\n",
    "plt.show()"
   ]
  },
  {
   "cell_type": "markdown",
   "id": "de7d264d-fae8-4126-b058-deea540dd1d6",
   "metadata": {},
   "source": [
    "##### Точечная диаграмма показывает, что при увеличении возраста человека прослеживается небольшое увеличение года выпуска ТС. Люди старше примерно 55 лет попадали в аварии в основном на ТС с годом выпуска от 1975 года. Люди младше примерно 55 лет попадали в аварии также и на ТС с годом выпуска до 1975 года.\n",
    "##### Расчет корреляции показал, что линейная взаимосвязь Возраста человека и Года выпуска ТС крайне минимальна - почти отсутствует (значение до 0,3). Больше похоже на квадратичную зависимость, будто на графике присутствует одна из ветвей параболы.\n",
    "##### С ПРАКТИЧЕСКОЙ ТОЧКИ ЗРЕНИЯ: линейной взаимосвязи практически нет, но имеет место быть такой факт - так как это данные Америки с 1997 по 2002 гг., то можно предположить, что в это время более молодые люди ездили на ТС более старшего года выпуска вследствие финансового положения, экономики, зарплат, уровня жизни. Соответственно чаще на них попадали в аварии, чем люди постарше.\n",
    "##### ВЫВОД: У СТАРШЕГО ПОКОЛЕНИЯ В НУЛЕВЫЕ ГОДА В АМЕРИКЕ ФИНАНСОВОЕ ПОЛОЖЕНИЕ БЫЛО ЗНАЧИТЕЛЬНО ЛУЧШЕ, ЧЕМ У БОЛЕЕ МОЛОДОГО. Если рассматривать Россию, то тоже в нулевые в основном дядьки ездили на крутых машинах, у молодежи не было денег на них. Сейчас же все наоборот..."
   ]
  },
  {
   "cell_type": "markdown",
   "id": "14e6bcfb-8a86-469d-a261-c8cba2726663",
   "metadata": {},
   "source": [
    "________________________________________________________________________________________________________________________________"
   ]
  },
  {
   "cell_type": "markdown",
   "id": "41c8c6e6-4735-478d-8e20-29a24bc6f843",
   "metadata": {},
   "source": [
    "### VII Для выбранных переменных проведем разведочный анализ данных. Приведем наиболее подходящие описательные статистики, частотные распределения, построим графики, которые бы давали представление как о переменных по отдельности, так и об их взаимосвязи"
   ]
  },
  {
   "cell_type": "markdown",
   "id": "68e2f82a-ab60-4c56-9df7-696bdd753769",
   "metadata": {},
   "source": [
    "#### 1) Попробуем рассмотреть какие-нибудь интересности: сравним смертность между мужчинами-водителями и женщинами-водителями"
   ]
  },
  {
   "cell_type": "code",
   "execution_count": 24,
   "id": "40717da3-719f-49ad-9ef5-48e8cf9da519",
   "metadata": {},
   "outputs": [
    {
     "data": {
      "text/html": [
       "<div>\n",
       "<style scoped>\n",
       "    .dataframe tbody tr th:only-of-type {\n",
       "        vertical-align: middle;\n",
       "    }\n",
       "\n",
       "    .dataframe tbody tr th {\n",
       "        vertical-align: top;\n",
       "    }\n",
       "\n",
       "    .dataframe thead th {\n",
       "        text-align: right;\n",
       "    }\n",
       "</style>\n",
       "<table border=\"1\" class=\"dataframe\">\n",
       "  <thead>\n",
       "    <tr style=\"text-align: right;\">\n",
       "      <th></th>\n",
       "      <th>dvcat</th>\n",
       "      <th>weight</th>\n",
       "      <th>dead</th>\n",
       "      <th>airbag</th>\n",
       "      <th>seatbelt</th>\n",
       "      <th>frontal</th>\n",
       "      <th>sex</th>\n",
       "      <th>ageOFocc</th>\n",
       "      <th>yearacc</th>\n",
       "      <th>yearVeh</th>\n",
       "      <th>abcat</th>\n",
       "      <th>occRole</th>\n",
       "      <th>deploy</th>\n",
       "      <th>injSeverity</th>\n",
       "      <th>caseid</th>\n",
       "      <th>dead1</th>\n",
       "    </tr>\n",
       "  </thead>\n",
       "  <tbody>\n",
       "    <tr>\n",
       "      <th>0</th>\n",
       "      <td>25-39</td>\n",
       "      <td>25.069</td>\n",
       "      <td>alive</td>\n",
       "      <td>none</td>\n",
       "      <td>belted</td>\n",
       "      <td>1</td>\n",
       "      <td>f</td>\n",
       "      <td>26</td>\n",
       "      <td>1997</td>\n",
       "      <td>1990.0</td>\n",
       "      <td>unavail</td>\n",
       "      <td>driver</td>\n",
       "      <td>0</td>\n",
       "      <td>3.0</td>\n",
       "      <td>2:3:1</td>\n",
       "      <td>0</td>\n",
       "    </tr>\n",
       "    <tr>\n",
       "      <th>1</th>\n",
       "      <td>10-24</td>\n",
       "      <td>25.069</td>\n",
       "      <td>alive</td>\n",
       "      <td>airbag</td>\n",
       "      <td>belted</td>\n",
       "      <td>1</td>\n",
       "      <td>f</td>\n",
       "      <td>72</td>\n",
       "      <td>1997</td>\n",
       "      <td>1995.0</td>\n",
       "      <td>deploy</td>\n",
       "      <td>driver</td>\n",
       "      <td>1</td>\n",
       "      <td>1.0</td>\n",
       "      <td>2:3:2</td>\n",
       "      <td>0</td>\n",
       "    </tr>\n",
       "    <tr>\n",
       "      <th>2</th>\n",
       "      <td>10-24</td>\n",
       "      <td>32.379</td>\n",
       "      <td>alive</td>\n",
       "      <td>none</td>\n",
       "      <td>none</td>\n",
       "      <td>1</td>\n",
       "      <td>f</td>\n",
       "      <td>69</td>\n",
       "      <td>1997</td>\n",
       "      <td>1988.0</td>\n",
       "      <td>unavail</td>\n",
       "      <td>driver</td>\n",
       "      <td>0</td>\n",
       "      <td>4.0</td>\n",
       "      <td>2:5:1</td>\n",
       "      <td>0</td>\n",
       "    </tr>\n",
       "    <tr>\n",
       "      <th>3</th>\n",
       "      <td>25-39</td>\n",
       "      <td>495.444</td>\n",
       "      <td>alive</td>\n",
       "      <td>airbag</td>\n",
       "      <td>belted</td>\n",
       "      <td>1</td>\n",
       "      <td>f</td>\n",
       "      <td>53</td>\n",
       "      <td>1997</td>\n",
       "      <td>1995.0</td>\n",
       "      <td>deploy</td>\n",
       "      <td>driver</td>\n",
       "      <td>1</td>\n",
       "      <td>1.0</td>\n",
       "      <td>2:10:1</td>\n",
       "      <td>0</td>\n",
       "    </tr>\n",
       "    <tr>\n",
       "      <th>4</th>\n",
       "      <td>25-39</td>\n",
       "      <td>25.069</td>\n",
       "      <td>alive</td>\n",
       "      <td>none</td>\n",
       "      <td>belted</td>\n",
       "      <td>1</td>\n",
       "      <td>f</td>\n",
       "      <td>32</td>\n",
       "      <td>1997</td>\n",
       "      <td>1988.0</td>\n",
       "      <td>unavail</td>\n",
       "      <td>driver</td>\n",
       "      <td>0</td>\n",
       "      <td>3.0</td>\n",
       "      <td>2:11:1</td>\n",
       "      <td>0</td>\n",
       "    </tr>\n",
       "  </tbody>\n",
       "</table>\n",
       "</div>"
      ],
      "text/plain": [
       "   dvcat   weight   dead  airbag seatbelt  frontal sex  ageOFocc  yearacc  \\\n",
       "0  25-39   25.069  alive    none   belted        1   f        26     1997   \n",
       "1  10-24   25.069  alive  airbag   belted        1   f        72     1997   \n",
       "2  10-24   32.379  alive    none     none        1   f        69     1997   \n",
       "3  25-39  495.444  alive  airbag   belted        1   f        53     1997   \n",
       "4  25-39   25.069  alive    none   belted        1   f        32     1997   \n",
       "\n",
       "   yearVeh    abcat occRole  deploy  injSeverity  caseid  dead1  \n",
       "0   1990.0  unavail  driver       0          3.0   2:3:1      0  \n",
       "1   1995.0   deploy  driver       1          1.0   2:3:2      0  \n",
       "2   1988.0  unavail  driver       0          4.0   2:5:1      0  \n",
       "3   1995.0   deploy  driver       1          1.0  2:10:1      0  \n",
       "4   1988.0  unavail  driver       0          3.0  2:11:1      0  "
      ]
     },
     "execution_count": 24,
     "metadata": {},
     "output_type": "execute_result"
    }
   ],
   "source": [
    "# Создадим вспомогательный столбец: смерть - 1, нет - 0.\n",
    "df['dead1'] = np.where(df['dead'] == 'dead', 1, 0)\n",
    "df.head()"
   ]
  },
  {
   "cell_type": "code",
   "execution_count": 25,
   "id": "65960859-efab-4133-96b3-e3ad3e617028",
   "metadata": {},
   "outputs": [
    {
     "data": {
      "text/plain": [
       "(11450, 16)"
      ]
     },
     "execution_count": 25,
     "metadata": {},
     "output_type": "execute_result"
    }
   ],
   "source": [
    "# Группа 1 - датасет только с мужчинами водителями\n",
    "df_M = df[(df['sex'] == 'm')&(df['occRole'] == 'driver')]\n",
    "df_M.shape"
   ]
  },
  {
   "cell_type": "code",
   "execution_count": 26,
   "id": "9059e472-04c1-47e6-bbb1-850fc5e40dc5",
   "metadata": {},
   "outputs": [
    {
     "data": {
      "text/plain": [
       "(9018, 16)"
      ]
     },
     "execution_count": 26,
     "metadata": {},
     "output_type": "execute_result"
    }
   ],
   "source": [
    "# Группа 2 - датасет только с женщинами водителями\n",
    "df_F = df[(df['sex'] == 'f')&(df['occRole'] == 'driver')]\n",
    "df_F.shape"
   ]
  },
  {
   "cell_type": "code",
   "execution_count": 27,
   "id": "e8825923-a8d9-4882-a75a-cf8268fa49e5",
   "metadata": {},
   "outputs": [
    {
     "data": {
      "text/plain": [
       "(1156, 16)"
      ]
     },
     "execution_count": 27,
     "metadata": {},
     "output_type": "execute_result"
    }
   ],
   "source": [
    "# Поссмотрим количество смертельных ДТП\n",
    "df[df['dead1'] == 1].shape"
   ]
  },
  {
   "cell_type": "code",
   "execution_count": 28,
   "id": "c0cc3c83-c094-42f8-b2e7-f03f5e950ede",
   "metadata": {},
   "outputs": [
    {
     "data": {
      "text/plain": [
       "(576, 16)"
      ]
     },
     "execution_count": 28,
     "metadata": {},
     "output_type": "execute_result"
    }
   ],
   "source": [
    "# Поссмотрим количество умерших мужчин-водителей\n",
    "df_M[df_M['dead1'] == 1].shape"
   ]
  },
  {
   "cell_type": "code",
   "execution_count": 29,
   "id": "81df634d-f072-451e-806e-00dc21e75d2a",
   "metadata": {},
   "outputs": [
    {
     "data": {
      "text/plain": [
       "(297, 16)"
      ]
     },
     "execution_count": 29,
     "metadata": {},
     "output_type": "execute_result"
    }
   ],
   "source": [
    "# Поссмотрим количество умерших женщин-водителей\n",
    "df_F[df_F['dead1'] == 1].shape"
   ]
  },
  {
   "cell_type": "code",
   "execution_count": 30,
   "id": "617c1af7-106f-4b65-a534-6f0e0aa2fc92",
   "metadata": {},
   "outputs": [
    {
     "name": "stdout",
     "output_type": "stream",
     "text": [
      "Конверсия общая: 0.04453519281889278\n",
      "Конверсия группы 1: 0.050305676855895196\n",
      "Конверсия группы 2: 0.03293413173652695\n"
     ]
    }
   ],
   "source": [
    "# Рассчитаем конверсии общую и по группам\n",
    "print('Конверсия общая:', df[df['dead1'] == 1].shape[0] / df.shape[0])            # 1156/25957\n",
    "print('Конверсия группы 1:', df_M[df_M['dead1'] == 1].shape[0] / df_M.shape[0])   # 576/11450\n",
    "print('Конверсия группы 2:', df_F[df_F['dead1'] == 1].shape[0] / df_F.shape[0])   # 297/9018"
   ]
  },
  {
   "cell_type": "code",
   "execution_count": 31,
   "id": "f0fa5442-fce7-4b3d-aaea-ea303c3175b6",
   "metadata": {},
   "outputs": [
    {
     "data": {
      "text/plain": [
       "TtestResult(statistic=6.111234300404044, pvalue=1.0065099571491562e-09, df=20466.0)"
      ]
     },
     "execution_count": 31,
     "metadata": {},
     "output_type": "execute_result"
    }
   ],
   "source": [
    "# Проведем тест на значимость разницы между группами\n",
    "stats.ttest_ind(df_M['dead1'], df_F['dead1'])"
   ]
  },
  {
   "cell_type": "markdown",
   "id": "3b1042f4-0cb2-40da-8b01-0b4c8b141068",
   "metadata": {},
   "source": [
    "##### Нулевая гипотеза: равенство средней конверсии в обеих группах. \n",
    "##### p-значение < 5%, поэтому отвергаем эту гипотезу. Конверсия в группе 1 (мужчины-водители) и конверсия в группе B (женщины-водители), отличаются. Конверсия в группе 1 больше.\n",
    "##### С ПРАКТИЧЕСКОЙ ТОЧКИ ЗРЕНИЯ: при увеличении количества мужчин-водителей в США, количество аварий со смертельным исходом водителей становится больше, чем становилось бы при увеличении количества женщин-водителей.\n",
    "##### ВЫВОД: ЖЕНЩИНЫ ЕЗДЯТ АККУРАТНЕЕ!!!"
   ]
  },
  {
   "cell_type": "markdown",
   "id": "9d8a0546-2650-4041-9cf4-ff08a44e5974",
   "metadata": {},
   "source": [
    "#### 2) Попробуем рассмотреть какие-нибудь интересности: сравним смертность между водителями на ТС с возрастами 0-10 лет и 10-20 лет"
   ]
  },
  {
   "cell_type": "code",
   "execution_count": 32,
   "id": "a062d99a-c70f-413c-acc9-f82dd216d9ac",
   "metadata": {},
   "outputs": [
    {
     "data": {
      "text/plain": [
       "array([ 7.,  2.,  9., 12., 13., 10., 15.,  6.,  3., 11.,  8.,  5.,  4.,\n",
       "       20., 29.,  1., 14.,  0., 16., 18., 23., -1., 24., 21., 17., 22.,\n",
       "       19., 26., 25., 31., 28., 27., 34., 38., 30., 32., 33., 36., 35.,\n",
       "       37., 45., 49.])"
      ]
     },
     "execution_count": 32,
     "metadata": {},
     "output_type": "execute_result"
    }
   ],
   "source": [
    "# Создадим вспомогательный столбец с возрастом автомобиля при аварии\n",
    "df['auto_year'] = df['yearacc']-df['yearVeh']\n",
    "df['auto_year'].unique()"
   ]
  },
  {
   "cell_type": "markdown",
   "id": "14b997bf-d076-4605-a4bc-960e9605bda6",
   "metadata": {},
   "source": [
    "В уникальных значениях есть -1, то есть автомобиль произведен позже, чем случилась авария.. Уберем эти строки с несоответствиями."
   ]
  },
  {
   "cell_type": "code",
   "execution_count": 33,
   "id": "faf2b404-1323-404f-b40b-a111c10e4ae4",
   "metadata": {},
   "outputs": [
    {
     "data": {
      "text/plain": [
       "array([ 7.,  2.,  9., 12., 13., 10., 15.,  6.,  3., 11.,  8.,  5.,  4.,\n",
       "       20., 29.,  1., 14.,  0., 16., 18., 23., 24., 21., 17., 22., 19.,\n",
       "       26., 25., 31., 28., 27., 34., 38., 30., 32., 33., 36., 35., 37.,\n",
       "       45., 49.])"
      ]
     },
     "execution_count": 33,
     "metadata": {},
     "output_type": "execute_result"
    }
   ],
   "source": [
    "df_AY = df[(df['auto_year'] >= 0)]\n",
    "df_AY['auto_year'].unique()"
   ]
  },
  {
   "cell_type": "code",
   "execution_count": 34,
   "id": "0bdf80bf-3a4a-4515-aa43-93d521d595e1",
   "metadata": {},
   "outputs": [
    {
     "data": {
      "image/png": "[encoded data removed]",
      "text/plain": [
       "<Figure size 1500x500 with 1 Axes>"
      ]
     },
     "metadata": {},
     "output_type": "display_data"
    }
   ],
   "source": [
    "# Построим гистограмму распределения ВОЗРАСТОВ автомобилей, попавших в аварии\n",
    "plt.figure(figsize = (15,5))\n",
    "plt.title('Распределение возрастов автомобилей, попавших в аварии')\n",
    "sns.histplot(df_AY['auto_year'], kde = True)\n",
    "plt.show()"
   ]
  },
  {
   "cell_type": "markdown",
   "id": "e396dff2-588e-4858-b26f-8e694e9ec635",
   "metadata": {},
   "source": [
    "По гистограмме видно, что основная масса аварий на автомобилях младше 15 лет...\n",
    "Присутствует большой хвост в графике, значит есть выбросы, избавимся от них"
   ]
  },
  {
   "cell_type": "code",
   "execution_count": 35,
   "id": "68dac233-e89b-4584-b7fc-8c04896c177d",
   "metadata": {},
   "outputs": [
    {
     "name": "stdout",
     "output_type": "stream",
     "text": [
      "Выбросами будут считаться все возрасты автомобилей, значения которых находится за пределами интервала [-10.0, 22.0]\n"
     ]
    }
   ],
   "source": [
    "q1 = df_AY['auto_year'].quantile(0.25)\n",
    "q3 = df_AY['auto_year'].quantile(0.75)\n",
    "iqr = q3 - q1\n",
    "lower_bound = q1 - 1.5*iqr\n",
    "upper_bound = q3 + 1.5*iqr\n",
    "print(f\"Выбросами будут считаться все возрасты автомобилей, значения которых находится за пределами интервала [{lower_bound}, {upper_bound}]\")"
   ]
  },
  {
   "cell_type": "code",
   "execution_count": 36,
   "id": "df9e61e2-27c8-459b-b3aa-49da50e5803a",
   "metadata": {},
   "outputs": [
    {
     "data": {
      "text/plain": [
       "(25528, 17)"
      ]
     },
     "execution_count": 36,
     "metadata": {},
     "output_type": "execute_result"
    }
   ],
   "source": [
    "# Формируем новый датасет без выбросов\n",
    "df_AYnew = df_AY[((df_AY['auto_year'] >= lower_bound) & (df_AY['auto_year'] <= upper_bound))]\n",
    "df_AYnew.shape"
   ]
  },
  {
   "cell_type": "code",
   "execution_count": 37,
   "id": "ad551c52-8aa6-4007-9943-6e4220685a93",
   "metadata": {},
   "outputs": [
    {
     "data": {
      "image/png": "[encoded data removed]",
      "text/plain": [
       "<Figure size 1500x500 with 1 Axes>"
      ]
     },
     "metadata": {},
     "output_type": "display_data"
    }
   ],
   "source": [
    "# Построим гистограмму распределения ВОЗРАСТОВ автомобилей (менее 22 лет), попавших в аварии\n",
    "plt.figure(figsize = (15,5))\n",
    "plt.title('Распределение возрастов автомобилей, попавших в аварии')\n",
    "sns.histplot(df_AYnew['auto_year'], kde = True)\n",
    "plt.show()"
   ]
  },
  {
   "cell_type": "code",
   "execution_count": 38,
   "id": "dd6edecb-a65f-44d7-b572-4e5fb2a342e8",
   "metadata": {},
   "outputs": [
    {
     "data": {
      "text/plain": [
       "(19785, 17)"
      ]
     },
     "execution_count": 38,
     "metadata": {},
     "output_type": "execute_result"
    }
   ],
   "source": [
    "# Группа 1 - датасет с возрастом авто от 0 до 10 лет (включительно)\n",
    "df_AYnew_10 = df_AYnew[(df_AYnew['auto_year'] <= 10)]\n",
    "df_AYnew_10.shape"
   ]
  },
  {
   "cell_type": "code",
   "execution_count": 39,
   "id": "5a288913-f848-4880-b520-46bd34b04d12",
   "metadata": {},
   "outputs": [
    {
     "data": {
      "text/plain": [
       "(5591, 17)"
      ]
     },
     "execution_count": 39,
     "metadata": {},
     "output_type": "execute_result"
    }
   ],
   "source": [
    "# Группа 2 - датасет с возрастом авто от 10 до 20 лет (включительно)\n",
    "df_AYnew_20 = df_AYnew[(df_AYnew['auto_year'] > 10)&(df_AYnew['auto_year'] <= 20)]\n",
    "df_AYnew_20.shape"
   ]
  },
  {
   "cell_type": "code",
   "execution_count": 40,
   "id": "5a58fe89-6661-466a-9e0c-f47934535fe0",
   "metadata": {},
   "outputs": [
    {
     "data": {
      "text/plain": [
       "(1128, 17)"
      ]
     },
     "execution_count": 40,
     "metadata": {},
     "output_type": "execute_result"
    }
   ],
   "source": [
    "# Поссмотрим количество смертельных ДТП\n",
    "df_AYnew[df_AYnew['dead1'] == 1].shape"
   ]
  },
  {
   "cell_type": "code",
   "execution_count": 41,
   "id": "d565878f-8d16-4882-ae82-fa43409c0b64",
   "metadata": {},
   "outputs": [
    {
     "data": {
      "text/plain": [
       "(799, 17)"
      ]
     },
     "execution_count": 41,
     "metadata": {},
     "output_type": "execute_result"
    }
   ],
   "source": [
    "# Поссмотрим количество умерших на авто, возрастом от 0 до 10 лет (включительно)\n",
    "df_AYnew_10[df_AYnew_10['dead1'] == 1].shape"
   ]
  },
  {
   "cell_type": "code",
   "execution_count": 42,
   "id": "fd54e738-860c-4872-b673-e33b995cf3c2",
   "metadata": {},
   "outputs": [
    {
     "data": {
      "text/plain": [
       "(319, 17)"
      ]
     },
     "execution_count": 42,
     "metadata": {},
     "output_type": "execute_result"
    }
   ],
   "source": [
    "# Поссмотрим количество умерших на авто, возрастом от 10 до 20 лет (включительно)\n",
    "df_AYnew_20[df_AYnew_20['dead1'] == 1].shape"
   ]
  },
  {
   "cell_type": "code",
   "execution_count": 43,
   "id": "57aae216-a03b-432b-bee1-48467a4ff800",
   "metadata": {},
   "outputs": [
    {
     "name": "stdout",
     "output_type": "stream",
     "text": [
      "Конверсия общая: 0.04418677530554685\n",
      "Конверсия группы 1: 0.04038412939095274\n",
      "Конверсия группы 2: 0.057055982829547484\n"
     ]
    }
   ],
   "source": [
    "# Рассчитаем конверсии общую и по группам\n",
    "print('Конверсия общая:', df_AYnew[df_AYnew['dead'] == 'dead'].shape[0] / df_AYnew.shape[0])            # 1128/25528\n",
    "print('Конверсия группы 1:', df_AYnew_10[df_AYnew_10['dead'] == 'dead'].shape[0] / df_AYnew_10.shape[0])   # 799/19785\n",
    "print('Конверсия группы 2:', df_AYnew_20[df_AYnew_20['dead'] == 'dead'].shape[0] / df_AYnew_20.shape[0])   # 319/5591"
   ]
  },
  {
   "cell_type": "code",
   "execution_count": 44,
   "id": "2f8d5a12-704c-431f-939f-d8cad6fcf6c9",
   "metadata": {},
   "outputs": [
    {
     "data": {
      "text/plain": [
       "TtestResult(statistic=-5.36647420145184, pvalue=8.099427224258302e-08, df=25374.0)"
      ]
     },
     "execution_count": 44,
     "metadata": {},
     "output_type": "execute_result"
    }
   ],
   "source": [
    "# Проведем тест на значимость разницы между группами\n",
    "stats.ttest_ind(df_AYnew_10['dead1'], df_AYnew_20['dead1'])"
   ]
  },
  {
   "cell_type": "markdown",
   "id": "24a32683-5e83-4533-9883-ce20d06f44cd",
   "metadata": {},
   "source": [
    "##### Нулевая гипотеза: равенство средней конверсии в обеих группах.\n",
    "##### p-значение < 5%, поэтому отвергаем эту гипотезу. Конверсия в группе 1 (авто от 0 до 10 лет) и конверсия в группе 2 (авто от 10 до 20 лет) отличаются. Конверсия в группе 2 больше.\n",
    "##### С ПРАКТИЧЕСКОЙ ТОЧКИ ЗРЕНИЯ: при увеличении количества автомобилей с возрастом более 10 лет, количество аварий со смертельным исходом становится больше, чем становилось бы при увеличении количества автомобилей с возрастом менее 10 лет.\n",
    "##### ВЫВОД: БЕЗОПАСНЕЕ ЕЗДИТЬ НА БОЛЕЕ \"СВЕЖИХ\" АВТОМОБИЛЯХ!!!"
   ]
  },
  {
   "cell_type": "markdown",
   "id": "352d1f69-e97a-49f6-a404-f3b77593e4db",
   "metadata": {},
   "source": [
    "#### 3) Попробуем рассмотреть какие-нибудь интересности: определим зависимость смертности и срабатывания подушек безопасности"
   ]
  },
  {
   "cell_type": "code",
   "execution_count": 45,
   "id": "2b924411-ec1a-470b-9f21-dac5c9f3e70d",
   "metadata": {},
   "outputs": [
    {
     "data": {
      "text/html": [
       "<div>\n",
       "<style scoped>\n",
       "    .dataframe tbody tr th:only-of-type {\n",
       "        vertical-align: middle;\n",
       "    }\n",
       "\n",
       "    .dataframe tbody tr th {\n",
       "        vertical-align: top;\n",
       "    }\n",
       "\n",
       "    .dataframe thead th {\n",
       "        text-align: right;\n",
       "    }\n",
       "</style>\n",
       "<table border=\"1\" class=\"dataframe\">\n",
       "  <thead>\n",
       "    <tr style=\"text-align: right;\">\n",
       "      <th>deploy</th>\n",
       "      <th>0</th>\n",
       "      <th>1</th>\n",
       "    </tr>\n",
       "    <tr>\n",
       "      <th>dead</th>\n",
       "      <th></th>\n",
       "      <th></th>\n",
       "    </tr>\n",
       "  </thead>\n",
       "  <tbody>\n",
       "    <tr>\n",
       "      <th>alive</th>\n",
       "      <td>16391</td>\n",
       "      <td>8410</td>\n",
       "    </tr>\n",
       "    <tr>\n",
       "      <th>dead</th>\n",
       "      <td>797</td>\n",
       "      <td>359</td>\n",
       "    </tr>\n",
       "  </tbody>\n",
       "</table>\n",
       "</div>"
      ],
      "text/plain": [
       "deploy      0     1\n",
       "dead               \n",
       "alive   16391  8410\n",
       "dead      797   359"
      ]
     },
     "execution_count": 45,
     "metadata": {},
     "output_type": "execute_result"
    }
   ],
   "source": [
    "# Сформируем датасеты со столбцами Смертность и срабатыванию подушек безопасности\n",
    "df_dead = df['dead']\n",
    "df_airbag = df['deploy']\n",
    "\n",
    "# Построим таблицу сопряженности\n",
    "df_dead_airbag = pd.crosstab(df_dead, df_airbag)\n",
    "df_dead_airbag"
   ]
  },
  {
   "cell_type": "code",
   "execution_count": 46,
   "id": "d75450d3-7e9e-421b-b05b-65ac5d86f233",
   "metadata": {},
   "outputs": [
    {
     "data": {
      "text/plain": [
       "Chi2ContingencyResult(statistic=3.8967233244950834, pvalue=0.048380379963154814, dof=1, expected_freq=array([[16422.52910583,  8378.47089417],\n",
       "       [  765.47089417,   390.52910583]]))"
      ]
     },
     "execution_count": 46,
     "metadata": {},
     "output_type": "execute_result"
    }
   ],
   "source": [
    "# Используем тест Пирсона (хи-квадрат) для проверки взаимосвязи двух категориальных переменных\n",
    "stats.chi2_contingency(df_dead_airbag)"
   ]
  },
  {
   "cell_type": "markdown",
   "id": "2e0ecdb0-34fc-4405-834b-ca711daa08ab",
   "metadata": {},
   "source": [
    "##### Нулевая гипотеза - между двумя категориальными переменными зависимости нет.\n",
    "##### р-значение чуть ниже 5%, следовательно, данные противоречат нулевой гипотезе и мы можем ее отвергнуть.\n",
    "##### Между смертностью в ДТП и раскрытием подушек безопасности есть зависимость\n",
    "##### С ПРАКТИЧЕСКОЙ ТОЧКИ ЗРЕНИЯ: Раскрытие подушек безопасности при авариях снижает получение тяжелых травм, несовместимых с жизнью.\n",
    "##### ВЫВОД: ПРИ ПОКУПКЕ АВТОМОБИЛЯ ВСЕ-ТАКИ НЕОБХОДИМО РАССМАТРИВАТЬ КОМПЛЕКТАЦИИ С ПОДУШКАМИ БЕЗОПАСНОСТИ."
   ]
  },
  {
   "cell_type": "markdown",
   "id": "5b15d81f-6e92-4519-8522-1e6fa5ee3342",
   "metadata": {},
   "source": [
    "#### 4) Попробуем рассмотреть какие-нибудь интересности: зависимость расчетной скорости удара и серъезности полученных травм"
   ]
  },
  {
   "cell_type": "code",
   "execution_count": 47,
   "id": "406e3a52-6cb8-4205-8f6c-413dcb78071d",
   "metadata": {},
   "outputs": [
    {
     "data": {
      "text/plain": [
       "(25824, 17)"
      ]
     },
     "execution_count": 47,
     "metadata": {},
     "output_type": "execute_result"
    }
   ],
   "source": [
    "# Создадим датасет без строк с Серьезностью аварий 5 и 6, там немного ненужных и непонятных данных.\n",
    "df_S = df[(df['injSeverity'] < 5)]\n",
    "df_S.shape"
   ]
  },
  {
   "cell_type": "code",
   "execution_count": 48,
   "id": "c1fa2cd2-dc6c-4ba2-9995-83b58457bf93",
   "metadata": {},
   "outputs": [
    {
     "data": {
      "text/html": [
       "<div>\n",
       "<style scoped>\n",
       "    .dataframe tbody tr th:only-of-type {\n",
       "        vertical-align: middle;\n",
       "    }\n",
       "\n",
       "    .dataframe tbody tr th {\n",
       "        vertical-align: top;\n",
       "    }\n",
       "\n",
       "    .dataframe thead th {\n",
       "        text-align: right;\n",
       "    }\n",
       "</style>\n",
       "<table border=\"1\" class=\"dataframe\">\n",
       "  <thead>\n",
       "    <tr style=\"text-align: right;\">\n",
       "      <th>injSeverity</th>\n",
       "      <th>0.0</th>\n",
       "      <th>1.0</th>\n",
       "      <th>2.0</th>\n",
       "      <th>3.0</th>\n",
       "      <th>4.0</th>\n",
       "    </tr>\n",
       "    <tr>\n",
       "      <th>dvcat</th>\n",
       "      <th></th>\n",
       "      <th></th>\n",
       "      <th></th>\n",
       "      <th></th>\n",
       "      <th></th>\n",
       "    </tr>\n",
       "  </thead>\n",
       "  <tbody>\n",
       "    <tr>\n",
       "      <th>1-9km/h</th>\n",
       "      <td>363</td>\n",
       "      <td>144</td>\n",
       "      <td>65</td>\n",
       "      <td>90</td>\n",
       "      <td>4</td>\n",
       "    </tr>\n",
       "    <tr>\n",
       "      <th>10-24</th>\n",
       "      <td>4517</td>\n",
       "      <td>3365</td>\n",
       "      <td>1852</td>\n",
       "      <td>2803</td>\n",
       "      <td>108</td>\n",
       "    </tr>\n",
       "    <tr>\n",
       "      <th>25-39</th>\n",
       "      <td>1364</td>\n",
       "      <td>1639</td>\n",
       "      <td>1616</td>\n",
       "      <td>3198</td>\n",
       "      <td>273</td>\n",
       "    </tr>\n",
       "    <tr>\n",
       "      <th>40-54</th>\n",
       "      <td>185</td>\n",
       "      <td>352</td>\n",
       "      <td>548</td>\n",
       "      <td>1532</td>\n",
       "      <td>324</td>\n",
       "    </tr>\n",
       "    <tr>\n",
       "      <th>55+</th>\n",
       "      <td>33</td>\n",
       "      <td>80</td>\n",
       "      <td>143</td>\n",
       "      <td>831</td>\n",
       "      <td>395</td>\n",
       "    </tr>\n",
       "  </tbody>\n",
       "</table>\n",
       "</div>"
      ],
      "text/plain": [
       "injSeverity   0.0   1.0   2.0   3.0  4.0\n",
       "dvcat                                   \n",
       "1-9km/h       363   144    65    90    4\n",
       "10-24        4517  3365  1852  2803  108\n",
       "25-39        1364  1639  1616  3198  273\n",
       "40-54         185   352   548  1532  324\n",
       "55+            33    80   143   831  395"
      ]
     },
     "execution_count": 48,
     "metadata": {},
     "output_type": "execute_result"
    }
   ],
   "source": [
    "# Сформируем датасеты со столбцами Расчетная скорость удара и серъезность полученных травм\n",
    "df_S_speed = df_S['dvcat']\n",
    "df_S_severity = df_S['injSeverity']\n",
    "\n",
    "# Построим таблицу сопряженности\n",
    "df_speed_severity = pd.crosstab(df_S_speed, df_S_severity)\n",
    "df_speed_severity"
   ]
  },
  {
   "cell_type": "code",
   "execution_count": 49,
   "id": "5fbdb379-b139-4d6f-b1d1-cbda782da294",
   "metadata": {},
   "outputs": [
    {
     "data": {
      "text/plain": [
       "Chi2ContingencyResult(statistic=5995.536968520207, pvalue=0.0, dof=16, expected_freq=array([[ 166.65473978,  143.90799257,  108.93680297,  218.02834572,\n",
       "          28.47211896],\n",
       "       [3164.18796468, 2732.30715613, 2068.32713755, 4139.59223978,\n",
       "         540.58550186],\n",
       "       [2024.37964684, 1748.07156134, 1323.27137546, 2648.42239777,\n",
       "         345.85501859],\n",
       "       [ 735.93331784,  635.4855948 ,  481.05576208,  962.79484201,\n",
       "         125.73048327],\n",
       "       [ 370.84433086,  320.22769517,  242.40892193,  485.16217472,\n",
       "          63.35687732]]))"
      ]
     },
     "execution_count": 49,
     "metadata": {},
     "output_type": "execute_result"
    }
   ],
   "source": [
    "# Используем тест Пирсона (хи-квадрат) для проверки взаимосвязи двух категориальных переменных\n",
    "stats.chi2_contingency(df_speed_severity)"
   ]
  },
  {
   "cell_type": "code",
   "execution_count": 50,
   "id": "8a570724-671c-4518-9d86-b40308e1f916",
   "metadata": {},
   "outputs": [
    {
     "data": {
      "image/png": "[encoded data removed]",
      "text/plain": [
       "<Figure size 700x300 with 2 Axes>"
      ]
     },
     "metadata": {},
     "output_type": "display_data"
    }
   ],
   "source": [
    "# Визуализируем итоги на тепловой карте\n",
    "plt.figure(figsize = (7,3))\n",
    "sns.heatmap(df_speed_severity, annot = True, fmt='.0f')\n",
    "plt.show()"
   ]
  },
  {
   "cell_type": "markdown",
   "id": "9b5d11be-8a9d-4669-b9b9-8371e16a7eac",
   "metadata": {},
   "source": [
    "##### Нулевая гипотеза - между двумя категориальными переменными зависимости нет.\n",
    "##### р-значение существенно ниже 5%, следовательно, данные противоречат нулевой гипотезе и мы можем ее отвергнуть.\n",
    "##### Между скоростью удара и серъезностью травм есть значимая зависимость.\n",
    "##### С ПРАКТИЧЕСКОЙ ТОЧКИ ЗРЕНИЯ: чем на большей скорости водитель попал в аварию, тем более сильные травмы он может получить, в том числе и травмы, несовместимые с жизнью.\n",
    "##### ВЫВОД: ТИШЕ ЕДЕШЬ - ДАЛЬШЕ БУДЕШЬ!!!!!!!!!"
   ]
  },
  {
   "cell_type": "markdown",
   "id": "adf0b5cc-4758-436a-950a-b0c5e2ad51ad",
   "metadata": {},
   "source": [
    "________________________________________________________________________________________________________________________________"
   ]
  },
  {
   "cell_type": "markdown",
   "id": "f26e9007-5c6b-4d2e-8958-e10a1e920d5e",
   "metadata": {},
   "source": [
    "### VIII На основе проведенных наблюдений о взаимосвязи между переменными сформулируем задачу классификации или регрессии, которая может иметь практическую ценность"
   ]
  },
  {
   "cell_type": "markdown",
   "id": "85f2f30f-1c28-4251-9fb8-eb676bf059ca",
   "metadata": {},
   "source": [
    "#### Для дальнейшей работы с задачей классификации и составлением прогнозов возьмем датасет с фильтром по ДТП только при ФРОНТАЛЬНОМ УДАРЕ по ВОДИТЕЛЯМ (назовем датасет df_class и дальше будем работать с ним)"
   ]
  },
  {
   "cell_type": "code",
   "execution_count": 51,
   "id": "a2893e42-e52b-4c09-ac1f-7a431ab84105",
   "metadata": {},
   "outputs": [
    {
     "data": {
      "text/plain": [
       "(13353, 17)"
      ]
     },
     "execution_count": 51,
     "metadata": {},
     "output_type": "execute_result"
    }
   ],
   "source": [
    "# Сформируем датасет с ДТП только при фронтальном ударе\n",
    "df_class = df[(df['frontal'] == 1)&(df['occRole'] == 'driver')]\n",
    "df_class.shape"
   ]
  },
  {
   "cell_type": "markdown",
   "id": "06c29455-e57d-46bf-9481-b8dd3e0d11c8",
   "metadata": {},
   "source": [
    "##### Минздрав нас всегда предупреждает... А что, если нас будет предупреждать ИИ в автомобилях. Предположим: недалекое будущее, в каждом автомобиле имеется ИИ для контроля и управления автомобилем. Туда забиваются все данные о водителе и автомобиле, а также текущей информации в процессе поездки. На приборной панели на экране есть значки предупреждения, и одно из них: СМЕРТЬ!.. красным шрифтом. Данный знак будет выходить при наличии некоторых параметров (данные о машине и водителе), при которых ИИ будет понимать, что водителю при аварии грозит смерть. ИИ также будет сигнализировать о том, что нужно предпринять действия или мероприятия, уменьшающие данные риски (уменьшающие вероятность смерти при ДТП). Соответственно водитель, увидев такой сигнал, должен принять соответствующие меры: уменьшить скорость, пристегнуть ремень, или вообще в силу своего возраста, пола и комплектации автомобиля - купить новый укомплектованный различными защитами автомобиль."
   ]
  },
  {
   "cell_type": "code",
   "execution_count": 52,
   "id": "e6e1ceb4-3743-4ce5-bbb4-f8f6c5903231",
   "metadata": {},
   "outputs": [
    {
     "data": {
      "text/html": [
       "<div>\n",
       "<style scoped>\n",
       "    .dataframe tbody tr th:only-of-type {\n",
       "        vertical-align: middle;\n",
       "    }\n",
       "\n",
       "    .dataframe tbody tr th {\n",
       "        vertical-align: top;\n",
       "    }\n",
       "\n",
       "    .dataframe thead th {\n",
       "        text-align: right;\n",
       "    }\n",
       "</style>\n",
       "<table border=\"1\" class=\"dataframe\">\n",
       "  <thead>\n",
       "    <tr style=\"text-align: right;\">\n",
       "      <th></th>\n",
       "      <th>dvcat</th>\n",
       "      <th>weight</th>\n",
       "      <th>dead</th>\n",
       "      <th>airbag</th>\n",
       "      <th>seatbelt</th>\n",
       "      <th>frontal</th>\n",
       "      <th>sex</th>\n",
       "      <th>ageOFocc</th>\n",
       "      <th>yearacc</th>\n",
       "      <th>yearVeh</th>\n",
       "      <th>abcat</th>\n",
       "      <th>occRole</th>\n",
       "      <th>deploy</th>\n",
       "      <th>injSeverity</th>\n",
       "      <th>caseid</th>\n",
       "      <th>dead1</th>\n",
       "      <th>auto_year</th>\n",
       "      <th>target</th>\n",
       "    </tr>\n",
       "  </thead>\n",
       "  <tbody>\n",
       "    <tr>\n",
       "      <th>0</th>\n",
       "      <td>25-39</td>\n",
       "      <td>25.069</td>\n",
       "      <td>alive</td>\n",
       "      <td>none</td>\n",
       "      <td>belted</td>\n",
       "      <td>1</td>\n",
       "      <td>f</td>\n",
       "      <td>26</td>\n",
       "      <td>1997</td>\n",
       "      <td>1990.0</td>\n",
       "      <td>unavail</td>\n",
       "      <td>driver</td>\n",
       "      <td>0</td>\n",
       "      <td>3.0</td>\n",
       "      <td>2:3:1</td>\n",
       "      <td>0</td>\n",
       "      <td>7.0</td>\n",
       "      <td>0</td>\n",
       "    </tr>\n",
       "    <tr>\n",
       "      <th>1</th>\n",
       "      <td>10-24</td>\n",
       "      <td>25.069</td>\n",
       "      <td>alive</td>\n",
       "      <td>airbag</td>\n",
       "      <td>belted</td>\n",
       "      <td>1</td>\n",
       "      <td>f</td>\n",
       "      <td>72</td>\n",
       "      <td>1997</td>\n",
       "      <td>1995.0</td>\n",
       "      <td>deploy</td>\n",
       "      <td>driver</td>\n",
       "      <td>1</td>\n",
       "      <td>1.0</td>\n",
       "      <td>2:3:2</td>\n",
       "      <td>0</td>\n",
       "      <td>2.0</td>\n",
       "      <td>0</td>\n",
       "    </tr>\n",
       "    <tr>\n",
       "      <th>2</th>\n",
       "      <td>10-24</td>\n",
       "      <td>32.379</td>\n",
       "      <td>alive</td>\n",
       "      <td>none</td>\n",
       "      <td>none</td>\n",
       "      <td>1</td>\n",
       "      <td>f</td>\n",
       "      <td>69</td>\n",
       "      <td>1997</td>\n",
       "      <td>1988.0</td>\n",
       "      <td>unavail</td>\n",
       "      <td>driver</td>\n",
       "      <td>0</td>\n",
       "      <td>4.0</td>\n",
       "      <td>2:5:1</td>\n",
       "      <td>0</td>\n",
       "      <td>9.0</td>\n",
       "      <td>0</td>\n",
       "    </tr>\n",
       "    <tr>\n",
       "      <th>3</th>\n",
       "      <td>25-39</td>\n",
       "      <td>495.444</td>\n",
       "      <td>alive</td>\n",
       "      <td>airbag</td>\n",
       "      <td>belted</td>\n",
       "      <td>1</td>\n",
       "      <td>f</td>\n",
       "      <td>53</td>\n",
       "      <td>1997</td>\n",
       "      <td>1995.0</td>\n",
       "      <td>deploy</td>\n",
       "      <td>driver</td>\n",
       "      <td>1</td>\n",
       "      <td>1.0</td>\n",
       "      <td>2:10:1</td>\n",
       "      <td>0</td>\n",
       "      <td>2.0</td>\n",
       "      <td>0</td>\n",
       "    </tr>\n",
       "    <tr>\n",
       "      <th>4</th>\n",
       "      <td>25-39</td>\n",
       "      <td>25.069</td>\n",
       "      <td>alive</td>\n",
       "      <td>none</td>\n",
       "      <td>belted</td>\n",
       "      <td>1</td>\n",
       "      <td>f</td>\n",
       "      <td>32</td>\n",
       "      <td>1997</td>\n",
       "      <td>1988.0</td>\n",
       "      <td>unavail</td>\n",
       "      <td>driver</td>\n",
       "      <td>0</td>\n",
       "      <td>3.0</td>\n",
       "      <td>2:11:1</td>\n",
       "      <td>0</td>\n",
       "      <td>9.0</td>\n",
       "      <td>0</td>\n",
       "    </tr>\n",
       "  </tbody>\n",
       "</table>\n",
       "</div>"
      ],
      "text/plain": [
       "   dvcat   weight   dead  airbag seatbelt  frontal sex  ageOFocc  yearacc  \\\n",
       "0  25-39   25.069  alive    none   belted        1   f        26     1997   \n",
       "1  10-24   25.069  alive  airbag   belted        1   f        72     1997   \n",
       "2  10-24   32.379  alive    none     none        1   f        69     1997   \n",
       "3  25-39  495.444  alive  airbag   belted        1   f        53     1997   \n",
       "4  25-39   25.069  alive    none   belted        1   f        32     1997   \n",
       "\n",
       "   yearVeh    abcat occRole  deploy  injSeverity  caseid  dead1  auto_year  \\\n",
       "0   1990.0  unavail  driver       0          3.0   2:3:1      0        7.0   \n",
       "1   1995.0   deploy  driver       1          1.0   2:3:2      0        2.0   \n",
       "2   1988.0  unavail  driver       0          4.0   2:5:1      0        9.0   \n",
       "3   1995.0   deploy  driver       1          1.0  2:10:1      0        2.0   \n",
       "4   1988.0  unavail  driver       0          3.0  2:11:1      0        9.0   \n",
       "\n",
       "   target  \n",
       "0       0  \n",
       "1       0  \n",
       "2       0  \n",
       "3       0  \n",
       "4       0  "
      ]
     },
     "execution_count": 52,
     "metadata": {},
     "output_type": "execute_result"
    }
   ],
   "source": [
    "# За целевой столбец возьмем столбец Смертьность\n",
    "df_class['target'] = np.where(df_class['dead'] == 'dead', 1, 0)\n",
    "df_class.head()"
   ]
  },
  {
   "cell_type": "markdown",
   "id": "bdd0d067-7b46-4157-9c12-583e88d00bdd",
   "metadata": {},
   "source": [
    "________________________________________________________________________________________________________________________________"
   ]
  },
  {
   "cell_type": "markdown",
   "id": "d02d4468-28fc-475e-8fbb-7f6991937fc8",
   "metadata": {},
   "source": [
    "### IX Подготовим переменные для работы"
   ]
  },
  {
   "cell_type": "markdown",
   "id": "6034ede5-40e6-498a-ac70-5682d6dab9a0",
   "metadata": {},
   "source": [
    "##### Столбцы Вес (weight), год аварии (yearacc), Наличие подушки и срабатывание (abcat), факт срабатывания подушки (deploy), серъезность аварии (injSeverity), ИД (caseid) использовать не будем по причине их нелогичности и ненужности в нашей сформулированной задаче"
   ]
  },
  {
   "cell_type": "code",
   "execution_count": 53,
   "id": "d7b5d480-4d9a-40de-a3e8-a5cf8ff0abfc",
   "metadata": {},
   "outputs": [],
   "source": [
    "# Категориальные переменные\n",
    "cat_vars = ['dvcat', 'airbag', 'seatbelt', 'sex']\n",
    "# Количественные переменные\n",
    "num_vars = ['ageOFocc', 'yearVeh']\n",
    "# Целевая переменная\n",
    "target_var = ['target']"
   ]
  },
  {
   "cell_type": "code",
   "execution_count": 54,
   "id": "4af4e973-e6c8-4661-a39c-cfb79b65b1f6",
   "metadata": {},
   "outputs": [],
   "source": [
    "df_class[cat_vars] = df_class[cat_vars].astype(str)"
   ]
  },
  {
   "cell_type": "markdown",
   "id": "3b2cbf72-02da-4170-a995-1a62473b922d",
   "metadata": {},
   "source": [
    "#### Переведем категориальные переменные в числовой формат"
   ]
  },
  {
   "cell_type": "code",
   "execution_count": 55,
   "id": "e1dd7c12-5b33-40bc-bf39-5a985a279cc5",
   "metadata": {},
   "outputs": [
    {
     "data": {
      "text/html": [
       "<div>\n",
       "<style scoped>\n",
       "    .dataframe tbody tr th:only-of-type {\n",
       "        vertical-align: middle;\n",
       "    }\n",
       "\n",
       "    .dataframe tbody tr th {\n",
       "        vertical-align: top;\n",
       "    }\n",
       "\n",
       "    .dataframe thead th {\n",
       "        text-align: right;\n",
       "    }\n",
       "</style>\n",
       "<table border=\"1\" class=\"dataframe\">\n",
       "  <thead>\n",
       "    <tr style=\"text-align: right;\">\n",
       "      <th></th>\n",
       "      <th>dvcat_10-24</th>\n",
       "      <th>dvcat_25-39</th>\n",
       "      <th>dvcat_40-54</th>\n",
       "      <th>dvcat_55+</th>\n",
       "      <th>airbag_none</th>\n",
       "      <th>seatbelt_none</th>\n",
       "      <th>sex_m</th>\n",
       "    </tr>\n",
       "  </thead>\n",
       "  <tbody>\n",
       "    <tr>\n",
       "      <th>0</th>\n",
       "      <td>0</td>\n",
       "      <td>1</td>\n",
       "      <td>0</td>\n",
       "      <td>0</td>\n",
       "      <td>1</td>\n",
       "      <td>0</td>\n",
       "      <td>0</td>\n",
       "    </tr>\n",
       "    <tr>\n",
       "      <th>1</th>\n",
       "      <td>1</td>\n",
       "      <td>0</td>\n",
       "      <td>0</td>\n",
       "      <td>0</td>\n",
       "      <td>0</td>\n",
       "      <td>0</td>\n",
       "      <td>0</td>\n",
       "    </tr>\n",
       "    <tr>\n",
       "      <th>2</th>\n",
       "      <td>1</td>\n",
       "      <td>0</td>\n",
       "      <td>0</td>\n",
       "      <td>0</td>\n",
       "      <td>1</td>\n",
       "      <td>1</td>\n",
       "      <td>0</td>\n",
       "    </tr>\n",
       "    <tr>\n",
       "      <th>3</th>\n",
       "      <td>0</td>\n",
       "      <td>1</td>\n",
       "      <td>0</td>\n",
       "      <td>0</td>\n",
       "      <td>0</td>\n",
       "      <td>0</td>\n",
       "      <td>0</td>\n",
       "    </tr>\n",
       "    <tr>\n",
       "      <th>4</th>\n",
       "      <td>0</td>\n",
       "      <td>1</td>\n",
       "      <td>0</td>\n",
       "      <td>0</td>\n",
       "      <td>1</td>\n",
       "      <td>0</td>\n",
       "      <td>0</td>\n",
       "    </tr>\n",
       "  </tbody>\n",
       "</table>\n",
       "</div>"
      ],
      "text/plain": [
       "   dvcat_10-24  dvcat_25-39  dvcat_40-54  dvcat_55+  airbag_none  \\\n",
       "0            0            1            0          0            1   \n",
       "1            1            0            0          0            0   \n",
       "2            1            0            0          0            1   \n",
       "3            0            1            0          0            0   \n",
       "4            0            1            0          0            1   \n",
       "\n",
       "   seatbelt_none  sex_m  \n",
       "0              0      0  \n",
       "1              0      0  \n",
       "2              1      0  \n",
       "3              0      0  \n",
       "4              0      0  "
      ]
     },
     "execution_count": 55,
     "metadata": {},
     "output_type": "execute_result"
    }
   ],
   "source": [
    "# Закодируем категориальные переменные числами\n",
    "X = pd.get_dummies(df_class[cat_vars], drop_first = True, dtype = int)\n",
    "X.head()"
   ]
  },
  {
   "cell_type": "markdown",
   "id": "5d7927c3-3afa-4a9f-8d71-dde00fd1bbc4",
   "metadata": {},
   "source": [
    "#### Нормализуем количественные переменные (в шкалу от 0 до 1)"
   ]
  },
  {
   "cell_type": "code",
   "execution_count": 56,
   "id": "6de69c58-6d47-4329-82fd-4bc56e23bd0e",
   "metadata": {},
   "outputs": [
    {
     "data": {
      "text/html": [
       "<style>#sk-container-id-1 {\n",
       "  /* Definition of color scheme common for light and dark mode */\n",
       "  --sklearn-color-text: black;\n",
       "  --sklearn-color-line: gray;\n",
       "  /* Definition of color scheme for unfitted estimators */\n",
       "  --sklearn-color-unfitted-level-0: #fff5e6;\n",
       "  --sklearn-color-unfitted-level-1: #f6e4d2;\n",
       "  --sklearn-color-unfitted-level-2: #ffe0b3;\n",
       "  --sklearn-color-unfitted-level-3: chocolate;\n",
       "  /* Definition of color scheme for fitted estimators */\n",
       "  --sklearn-color-fitted-level-0: #f0f8ff;\n",
       "  --sklearn-color-fitted-level-1: #d4ebff;\n",
       "  --sklearn-color-fitted-level-2: #b3dbfd;\n",
       "  --sklearn-color-fitted-level-3: cornflowerblue;\n",
       "\n",
       "  /* Specific color for light theme */\n",
       "  --sklearn-color-text-on-default-background: var(--sg-text-color, var(--theme-code-foreground, var(--jp-content-font-color1, black)));\n",
       "  --sklearn-color-background: var(--sg-background-color, var(--theme-background, var(--jp-layout-color0, white)));\n",
       "  --sklearn-color-border-box: var(--sg-text-color, var(--theme-code-foreground, var(--jp-content-font-color1, black)));\n",
       "  --sklearn-color-icon: #696969;\n",
       "\n",
       "  @media (prefers-color-scheme: dark) {\n",
       "    /* Redefinition of color scheme for dark theme */\n",
       "    --sklearn-color-text-on-default-background: var(--sg-text-color, var(--theme-code-foreground, var(--jp-content-font-color1, white)));\n",
       "    --sklearn-color-background: var(--sg-background-color, var(--theme-background, var(--jp-layout-color0, #111)));\n",
       "    --sklearn-color-border-box: var(--sg-text-color, var(--theme-code-foreground, var(--jp-content-font-color1, white)));\n",
       "    --sklearn-color-icon: #878787;\n",
       "  }\n",
       "}\n",
       "\n",
       "#sk-container-id-1 {\n",
       "  color: var(--sklearn-color-text);\n",
       "}\n",
       "\n",
       "#sk-container-id-1 pre {\n",
       "  padding: 0;\n",
       "}\n",
       "\n",
       "#sk-container-id-1 input.sk-hidden--visually {\n",
       "  border: 0;\n",
       "  clip: rect(1px 1px 1px 1px);\n",
       "  clip: rect(1px, 1px, 1px, 1px);\n",
       "  height: 1px;\n",
       "  margin: -1px;\n",
       "  overflow: hidden;\n",
       "  padding: 0;\n",
       "  position: absolute;\n",
       "  width: 1px;\n",
       "}\n",
       "\n",
       "#sk-container-id-1 div.sk-dashed-wrapped {\n",
       "  border: 1px dashed var(--sklearn-color-line);\n",
       "  margin: 0 0.4em 0.5em 0.4em;\n",
       "  box-sizing: border-box;\n",
       "  padding-bottom: 0.4em;\n",
       "  background-color: var(--sklearn-color-background);\n",
       "}\n",
       "\n",
       "#sk-container-id-1 div.sk-container {\n",
       "  /* jupyter's `normalize.less` sets `[hidden] { display: none; }`\n",
       "     but bootstrap.min.css set `[hidden] { display: none !important; }`\n",
       "     so we also need the `!important` here to be able to override the\n",
       "     default hidden behavior on the sphinx rendered scikit-learn.org.\n",
       "     See: https://github.com/scikit-learn/scikit-learn/issues/21755 */\n",
       "  display: inline-block !important;\n",
       "  position: relative;\n",
       "}\n",
       "\n",
       "#sk-container-id-1 div.sk-text-repr-fallback {\n",
       "  display: none;\n",
       "}\n",
       "\n",
       "div.sk-parallel-item,\n",
       "div.sk-serial,\n",
       "div.sk-item {\n",
       "  /* draw centered vertical line to link estimators */\n",
       "  background-image: linear-gradient(var(--sklearn-color-text-on-default-background), var(--sklearn-color-text-on-default-background));\n",
       "  background-size: 2px 100%;\n",
       "  background-repeat: no-repeat;\n",
       "  background-position: center center;\n",
       "}\n",
       "\n",
       "/* Parallel-specific style estimator block */\n",
       "\n",
       "#sk-container-id-1 div.sk-parallel-item::after {\n",
       "  content: \"\";\n",
       "  width: 100%;\n",
       "  border-bottom: 2px solid var(--sklearn-color-text-on-default-background);\n",
       "  flex-grow: 1;\n",
       "}\n",
       "\n",
       "#sk-container-id-1 div.sk-parallel {\n",
       "  display: flex;\n",
       "  align-items: stretch;\n",
       "  justify-content: center;\n",
       "  background-color: var(--sklearn-color-background);\n",
       "  position: relative;\n",
       "}\n",
       "\n",
       "#sk-container-id-1 div.sk-parallel-item {\n",
       "  display: flex;\n",
       "  flex-direction: column;\n",
       "}\n",
       "\n",
       "#sk-container-id-1 div.sk-parallel-item:first-child::after {\n",
       "  align-self: flex-end;\n",
       "  width: 50%;\n",
       "}\n",
       "\n",
       "#sk-container-id-1 div.sk-parallel-item:last-child::after {\n",
       "  align-self: flex-start;\n",
       "  width: 50%;\n",
       "}\n",
       "\n",
       "#sk-container-id-1 div.sk-parallel-item:only-child::after {\n",
       "  width: 0;\n",
       "}\n",
       "\n",
       "/* Serial-specific style estimator block */\n",
       "\n",
       "#sk-container-id-1 div.sk-serial {\n",
       "  display: flex;\n",
       "  flex-direction: column;\n",
       "  align-items: center;\n",
       "  background-color: var(--sklearn-color-background);\n",
       "  padding-right: 1em;\n",
       "  padding-left: 1em;\n",
       "}\n",
       "\n",
       "\n",
       "/* Toggleable style: style used for estimator/Pipeline/ColumnTransformer box that is\n",
       "clickable and can be expanded/collapsed.\n",
       "- Pipeline and ColumnTransformer use this feature and define the default style\n",
       "- Estimators will overwrite some part of the style using the `sk-estimator` class\n",
       "*/\n",
       "\n",
       "/* Pipeline and ColumnTransformer style (default) */\n",
       "\n",
       "#sk-container-id-1 div.sk-toggleable {\n",
       "  /* Default theme specific background. It is overwritten whether we have a\n",
       "  specific estimator or a Pipeline/ColumnTransformer */\n",
       "  background-color: var(--sklearn-color-background);\n",
       "}\n",
       "\n",
       "/* Toggleable label */\n",
       "#sk-container-id-1 label.sk-toggleable__label {\n",
       "  cursor: pointer;\n",
       "  display: block;\n",
       "  width: 100%;\n",
       "  margin-bottom: 0;\n",
       "  padding: 0.5em;\n",
       "  box-sizing: border-box;\n",
       "  text-align: center;\n",
       "}\n",
       "\n",
       "#sk-container-id-1 label.sk-toggleable__label-arrow:before {\n",
       "  /* Arrow on the left of the label */\n",
       "  content: \"▸\";\n",
       "  float: left;\n",
       "  margin-right: 0.25em;\n",
       "  color: var(--sklearn-color-icon);\n",
       "}\n",
       "\n",
       "#sk-container-id-1 label.sk-toggleable__label-arrow:hover:before {\n",
       "  color: var(--sklearn-color-text);\n",
       "}\n",
       "\n",
       "/* Toggleable content - dropdown */\n",
       "\n",
       "#sk-container-id-1 div.sk-toggleable__content {\n",
       "  max-height: 0;\n",
       "  max-width: 0;\n",
       "  overflow: hidden;\n",
       "  text-align: left;\n",
       "  /* unfitted */\n",
       "  background-color: var(--sklearn-color-unfitted-level-0);\n",
       "}\n",
       "\n",
       "#sk-container-id-1 div.sk-toggleable__content.fitted {\n",
       "  /* fitted */\n",
       "  background-color: var(--sklearn-color-fitted-level-0);\n",
       "}\n",
       "\n",
       "#sk-container-id-1 div.sk-toggleable__content pre {\n",
       "  margin: 0.2em;\n",
       "  border-radius: 0.25em;\n",
       "  color: var(--sklearn-color-text);\n",
       "  /* unfitted */\n",
       "  background-color: var(--sklearn-color-unfitted-level-0);\n",
       "}\n",
       "\n",
       "#sk-container-id-1 div.sk-toggleable__content.fitted pre {\n",
       "  /* unfitted */\n",
       "  background-color: var(--sklearn-color-fitted-level-0);\n",
       "}\n",
       "\n",
       "#sk-container-id-1 input.sk-toggleable__control:checked~div.sk-toggleable__content {\n",
       "  /* Expand drop-down */\n",
       "  max-height: 200px;\n",
       "  max-width: 100%;\n",
       "  overflow: auto;\n",
       "}\n",
       "\n",
       "#sk-container-id-1 input.sk-toggleable__control:checked~label.sk-toggleable__label-arrow:before {\n",
       "  content: \"▾\";\n",
       "}\n",
       "\n",
       "/* Pipeline/ColumnTransformer-specific style */\n",
       "\n",
       "#sk-container-id-1 div.sk-label input.sk-toggleable__control:checked~label.sk-toggleable__label {\n",
       "  color: var(--sklearn-color-text);\n",
       "  background-color: var(--sklearn-color-unfitted-level-2);\n",
       "}\n",
       "\n",
       "#sk-container-id-1 div.sk-label.fitted input.sk-toggleable__control:checked~label.sk-toggleable__label {\n",
       "  background-color: var(--sklearn-color-fitted-level-2);\n",
       "}\n",
       "\n",
       "/* Estimator-specific style */\n",
       "\n",
       "/* Colorize estimator box */\n",
       "#sk-container-id-1 div.sk-estimator input.sk-toggleable__control:checked~label.sk-toggleable__label {\n",
       "  /* unfitted */\n",
       "  background-color: var(--sklearn-color-unfitted-level-2);\n",
       "}\n",
       "\n",
       "#sk-container-id-1 div.sk-estimator.fitted input.sk-toggleable__control:checked~label.sk-toggleable__label {\n",
       "  /* fitted */\n",
       "  background-color: var(--sklearn-color-fitted-level-2);\n",
       "}\n",
       "\n",
       "#sk-container-id-1 div.sk-label label.sk-toggleable__label,\n",
       "#sk-container-id-1 div.sk-label label {\n",
       "  /* The background is the default theme color */\n",
       "  color: var(--sklearn-color-text-on-default-background);\n",
       "}\n",
       "\n",
       "/* On hover, darken the color of the background */\n",
       "#sk-container-id-1 div.sk-label:hover label.sk-toggleable__label {\n",
       "  color: var(--sklearn-color-text);\n",
       "  background-color: var(--sklearn-color-unfitted-level-2);\n",
       "}\n",
       "\n",
       "/* Label box, darken color on hover, fitted */\n",
       "#sk-container-id-1 div.sk-label.fitted:hover label.sk-toggleable__label.fitted {\n",
       "  color: var(--sklearn-color-text);\n",
       "  background-color: var(--sklearn-color-fitted-level-2);\n",
       "}\n",
       "\n",
       "/* Estimator label */\n",
       "\n",
       "#sk-container-id-1 div.sk-label label {\n",
       "  font-family: monospace;\n",
       "  font-weight: bold;\n",
       "  display: inline-block;\n",
       "  line-height: 1.2em;\n",
       "}\n",
       "\n",
       "#sk-container-id-1 div.sk-label-container {\n",
       "  text-align: center;\n",
       "}\n",
       "\n",
       "/* Estimator-specific */\n",
       "#sk-container-id-1 div.sk-estimator {\n",
       "  font-family: monospace;\n",
       "  border: 1px dotted var(--sklearn-color-border-box);\n",
       "  border-radius: 0.25em;\n",
       "  box-sizing: border-box;\n",
       "  margin-bottom: 0.5em;\n",
       "  /* unfitted */\n",
       "  background-color: var(--sklearn-color-unfitted-level-0);\n",
       "}\n",
       "\n",
       "#sk-container-id-1 div.sk-estimator.fitted {\n",
       "  /* fitted */\n",
       "  background-color: var(--sklearn-color-fitted-level-0);\n",
       "}\n",
       "\n",
       "/* on hover */\n",
       "#sk-container-id-1 div.sk-estimator:hover {\n",
       "  /* unfitted */\n",
       "  background-color: var(--sklearn-color-unfitted-level-2);\n",
       "}\n",
       "\n",
       "#sk-container-id-1 div.sk-estimator.fitted:hover {\n",
       "  /* fitted */\n",
       "  background-color: var(--sklearn-color-fitted-level-2);\n",
       "}\n",
       "\n",
       "/* Specification for estimator info (e.g. \"i\" and \"?\") */\n",
       "\n",
       "/* Common style for \"i\" and \"?\" */\n",
       "\n",
       ".sk-estimator-doc-link,\n",
       "a:link.sk-estimator-doc-link,\n",
       "a:visited.sk-estimator-doc-link {\n",
       "  float: right;\n",
       "  font-size: smaller;\n",
       "  line-height: 1em;\n",
       "  font-family: monospace;\n",
       "  background-color: var(--sklearn-color-background);\n",
       "  border-radius: 1em;\n",
       "  height: 1em;\n",
       "  width: 1em;\n",
       "  text-decoration: none !important;\n",
       "  margin-left: 1ex;\n",
       "  /* unfitted */\n",
       "  border: var(--sklearn-color-unfitted-level-1) 1pt solid;\n",
       "  color: var(--sklearn-color-unfitted-level-1);\n",
       "}\n",
       "\n",
       ".sk-estimator-doc-link.fitted,\n",
       "a:link.sk-estimator-doc-link.fitted,\n",
       "a:visited.sk-estimator-doc-link.fitted {\n",
       "  /* fitted */\n",
       "  border: var(--sklearn-color-fitted-level-1) 1pt solid;\n",
       "  color: var(--sklearn-color-fitted-level-1);\n",
       "}\n",
       "\n",
       "/* On hover */\n",
       "div.sk-estimator:hover .sk-estimator-doc-link:hover,\n",
       ".sk-estimator-doc-link:hover,\n",
       "div.sk-label-container:hover .sk-estimator-doc-link:hover,\n",
       ".sk-estimator-doc-link:hover {\n",
       "  /* unfitted */\n",
       "  background-color: var(--sklearn-color-unfitted-level-3);\n",
       "  color: var(--sklearn-color-background);\n",
       "  text-decoration: none;\n",
       "}\n",
       "\n",
       "div.sk-estimator.fitted:hover .sk-estimator-doc-link.fitted:hover,\n",
       ".sk-estimator-doc-link.fitted:hover,\n",
       "div.sk-label-container:hover .sk-estimator-doc-link.fitted:hover,\n",
       ".sk-estimator-doc-link.fitted:hover {\n",
       "  /* fitted */\n",
       "  background-color: var(--sklearn-color-fitted-level-3);\n",
       "  color: var(--sklearn-color-background);\n",
       "  text-decoration: none;\n",
       "}\n",
       "\n",
       "/* Span, style for the box shown on hovering the info icon */\n",
       ".sk-estimator-doc-link span {\n",
       "  display: none;\n",
       "  z-index: 9999;\n",
       "  position: relative;\n",
       "  font-weight: normal;\n",
       "  right: .2ex;\n",
       "  padding: .5ex;\n",
       "  margin: .5ex;\n",
       "  width: min-content;\n",
       "  min-width: 20ex;\n",
       "  max-width: 50ex;\n",
       "  color: var(--sklearn-color-text);\n",
       "  box-shadow: 2pt 2pt 4pt #999;\n",
       "  /* unfitted */\n",
       "  background: var(--sklearn-color-unfitted-level-0);\n",
       "  border: .5pt solid var(--sklearn-color-unfitted-level-3);\n",
       "}\n",
       "\n",
       ".sk-estimator-doc-link.fitted span {\n",
       "  /* fitted */\n",
       "  background: var(--sklearn-color-fitted-level-0);\n",
       "  border: var(--sklearn-color-fitted-level-3);\n",
       "}\n",
       "\n",
       ".sk-estimator-doc-link:hover span {\n",
       "  display: block;\n",
       "}\n",
       "\n",
       "/* \"?\"-specific style due to the `<a>` HTML tag */\n",
       "\n",
       "#sk-container-id-1 a.estimator_doc_link {\n",
       "  float: right;\n",
       "  font-size: 1rem;\n",
       "  line-height: 1em;\n",
       "  font-family: monospace;\n",
       "  background-color: var(--sklearn-color-background);\n",
       "  border-radius: 1rem;\n",
       "  height: 1rem;\n",
       "  width: 1rem;\n",
       "  text-decoration: none;\n",
       "  /* unfitted */\n",
       "  color: var(--sklearn-color-unfitted-level-1);\n",
       "  border: var(--sklearn-color-unfitted-level-1) 1pt solid;\n",
       "}\n",
       "\n",
       "#sk-container-id-1 a.estimator_doc_link.fitted {\n",
       "  /* fitted */\n",
       "  border: var(--sklearn-color-fitted-level-1) 1pt solid;\n",
       "  color: var(--sklearn-color-fitted-level-1);\n",
       "}\n",
       "\n",
       "/* On hover */\n",
       "#sk-container-id-1 a.estimator_doc_link:hover {\n",
       "  /* unfitted */\n",
       "  background-color: var(--sklearn-color-unfitted-level-3);\n",
       "  color: var(--sklearn-color-background);\n",
       "  text-decoration: none;\n",
       "}\n",
       "\n",
       "#sk-container-id-1 a.estimator_doc_link.fitted:hover {\n",
       "  /* fitted */\n",
       "  background-color: var(--sklearn-color-fitted-level-3);\n",
       "}\n",
       "</style><div id=\"sk-container-id-1\" class=\"sk-top-container\"><div class=\"sk-text-repr-fallback\"><pre>MinMaxScaler()</pre><b>In a Jupyter environment, please rerun this cell to show the HTML representation or trust the notebook. <br />On GitHub, the HTML representation is unable to render, please try loading this page with nbviewer.org.</b></div><div class=\"sk-container\" hidden><div class=\"sk-item\"><div class=\"sk-estimator fitted sk-toggleable\"><input class=\"sk-toggleable__control sk-hidden--visually\" id=\"sk-estimator-id-1\" type=\"checkbox\" checked><label for=\"sk-estimator-id-1\" class=\"sk-toggleable__label fitted sk-toggleable__label-arrow fitted\">&nbsp;&nbsp;MinMaxScaler<a class=\"sk-estimator-doc-link fitted\" rel=\"noreferrer\" target=\"_blank\" href=\"https://scikit-learn.org/1.4/modules/generated/sklearn.preprocessing.MinMaxScaler.html\">?<span>Documentation for MinMaxScaler</span></a><span class=\"sk-estimator-doc-link fitted\">i<span>Fitted</span></span></label><div class=\"sk-toggleable__content fitted\"><pre>MinMaxScaler()</pre></div> </div></div></div></div>"
      ],
      "text/plain": [
       "MinMaxScaler()"
      ]
     },
     "execution_count": 56,
     "metadata": {},
     "output_type": "execute_result"
    }
   ],
   "source": [
    "scaler = MinMaxScaler()\n",
    "scaler.fit(df_class[num_vars])"
   ]
  },
  {
   "cell_type": "code",
   "execution_count": 57,
   "id": "f4d1eaf4-a4e7-4a61-9e7f-3428dae63a82",
   "metadata": {},
   "outputs": [
    {
     "data": {
      "text/html": [
       "<div>\n",
       "<style scoped>\n",
       "    .dataframe tbody tr th:only-of-type {\n",
       "        vertical-align: middle;\n",
       "    }\n",
       "\n",
       "    .dataframe tbody tr th {\n",
       "        vertical-align: top;\n",
       "    }\n",
       "\n",
       "    .dataframe thead th {\n",
       "        text-align: right;\n",
       "    }\n",
       "</style>\n",
       "<table border=\"1\" class=\"dataframe\">\n",
       "  <thead>\n",
       "    <tr style=\"text-align: right;\">\n",
       "      <th></th>\n",
       "      <th>dvcat_10-24</th>\n",
       "      <th>dvcat_25-39</th>\n",
       "      <th>dvcat_40-54</th>\n",
       "      <th>dvcat_55+</th>\n",
       "      <th>airbag_none</th>\n",
       "      <th>seatbelt_none</th>\n",
       "      <th>sex_m</th>\n",
       "      <th>ageOFocc</th>\n",
       "      <th>yearVeh</th>\n",
       "    </tr>\n",
       "  </thead>\n",
       "  <tbody>\n",
       "    <tr>\n",
       "      <th>0</th>\n",
       "      <td>0</td>\n",
       "      <td>1</td>\n",
       "      <td>0</td>\n",
       "      <td>0</td>\n",
       "      <td>1</td>\n",
       "      <td>0</td>\n",
       "      <td>0</td>\n",
       "      <td>0.140845</td>\n",
       "      <td>0.74</td>\n",
       "    </tr>\n",
       "    <tr>\n",
       "      <th>1</th>\n",
       "      <td>1</td>\n",
       "      <td>0</td>\n",
       "      <td>0</td>\n",
       "      <td>0</td>\n",
       "      <td>0</td>\n",
       "      <td>0</td>\n",
       "      <td>0</td>\n",
       "      <td>0.788732</td>\n",
       "      <td>0.84</td>\n",
       "    </tr>\n",
       "    <tr>\n",
       "      <th>2</th>\n",
       "      <td>1</td>\n",
       "      <td>0</td>\n",
       "      <td>0</td>\n",
       "      <td>0</td>\n",
       "      <td>1</td>\n",
       "      <td>1</td>\n",
       "      <td>0</td>\n",
       "      <td>0.746479</td>\n",
       "      <td>0.70</td>\n",
       "    </tr>\n",
       "    <tr>\n",
       "      <th>3</th>\n",
       "      <td>0</td>\n",
       "      <td>1</td>\n",
       "      <td>0</td>\n",
       "      <td>0</td>\n",
       "      <td>0</td>\n",
       "      <td>0</td>\n",
       "      <td>0</td>\n",
       "      <td>0.521127</td>\n",
       "      <td>0.84</td>\n",
       "    </tr>\n",
       "    <tr>\n",
       "      <th>4</th>\n",
       "      <td>0</td>\n",
       "      <td>1</td>\n",
       "      <td>0</td>\n",
       "      <td>0</td>\n",
       "      <td>1</td>\n",
       "      <td>0</td>\n",
       "      <td>0</td>\n",
       "      <td>0.225352</td>\n",
       "      <td>0.70</td>\n",
       "    </tr>\n",
       "  </tbody>\n",
       "</table>\n",
       "</div>"
      ],
      "text/plain": [
       "   dvcat_10-24  dvcat_25-39  dvcat_40-54  dvcat_55+  airbag_none  \\\n",
       "0            0            1            0          0            1   \n",
       "1            1            0            0          0            0   \n",
       "2            1            0            0          0            1   \n",
       "3            0            1            0          0            0   \n",
       "4            0            1            0          0            1   \n",
       "\n",
       "   seatbelt_none  sex_m  ageOFocc  yearVeh  \n",
       "0              0      0  0.140845     0.74  \n",
       "1              0      0  0.788732     0.84  \n",
       "2              1      0  0.746479     0.70  \n",
       "3              0      0  0.521127     0.84  \n",
       "4              0      0  0.225352     0.70  "
      ]
     },
     "execution_count": 57,
     "metadata": {},
     "output_type": "execute_result"
    }
   ],
   "source": [
    "X[num_vars] = scaler.transform(df_class[num_vars])\n",
    "X.head()"
   ]
  },
  {
   "cell_type": "markdown",
   "id": "67105ea8-a2ee-4fd1-af8c-8ef5286f0161",
   "metadata": {},
   "source": [
    "#### Теперь переменные готовы для обучения!!!"
   ]
  },
  {
   "cell_type": "markdown",
   "id": "5b427c03-ddac-4ff5-bbe3-634053b9ca55",
   "metadata": {},
   "source": [
    "________________________________________________________________________________________________________________________________"
   ]
  },
  {
   "cell_type": "markdown",
   "id": "85dfa851-d3fd-4b2c-a325-149c4dbea0e6",
   "metadata": {},
   "source": [
    "### X Разделим датасет на обучающую (60%) и тестовую (40%) выборки. Далее тестовую выборку разделим пополам (20% и 20%)"
   ]
  },
  {
   "cell_type": "markdown",
   "id": "7190a776-d7bc-4078-af08-9bcbb307a436",
   "metadata": {},
   "source": [
    "##### 1) Первую половину будем использовать для оценки качества модели. Предполагаем, что здесь мы знаем наблюдаемые значения таргета, и можем сравнивать их с предсказаниями.\n",
    "##### 2) Вторую половину будем использовать для построения прогнозов. Предполагаем, что здесь значения таргета нам неизвестны – как в практической ситуации использования моделей прогнозирования."
   ]
  },
  {
   "cell_type": "code",
   "execution_count": 58,
   "id": "e4164d07-1e48-4360-a65d-b121cf2057d1",
   "metadata": {},
   "outputs": [],
   "source": [
    "y = df_class[target_var].values\n",
    "# Разделяем переменные\n",
    "X_train, X_test, y_train, y_test = train_test_split(X, y, test_size = 0.4, random_state = 42)\n",
    "\n",
    "# Разделим тестовую выборку пополам\n",
    "X_test1, X_test2, y_test1, y_test2 = train_test_split(X_test, y_test, test_size = 0.5, random_state = 42)"
   ]
  },
  {
   "cell_type": "markdown",
   "id": "3de0c014-dbf9-4dbb-856d-b902662ab89c",
   "metadata": {},
   "source": [
    "________________________________________________________________________________________________________________________________"
   ]
  },
  {
   "cell_type": "markdown",
   "id": "01a8ad04-c841-44ac-9126-216585c2bd3e",
   "metadata": {},
   "source": [
    "### XI Обучим различные модели, проведем оценку их качества на первой половине тестовой выборки"
   ]
  },
  {
   "cell_type": "markdown",
   "id": "d40d5c84-8814-43b1-9f49-ec57b58079a1",
   "metadata": {},
   "source": [
    "##### Модели, которые дали крайне низкий результата или никакого, в данный блокнот не включены. Это Модель SVM"
   ]
  },
  {
   "cell_type": "markdown",
   "id": "e67ee575-3dd3-42f0-941e-3e29fa07c42c",
   "metadata": {},
   "source": [
    "#### 1) Модель KNeighborsClassifier"
   ]
  },
  {
   "cell_type": "code",
   "execution_count": 59,
   "id": "07df10e6-cf4b-414d-b7e4-780b6e04df83",
   "metadata": {},
   "outputs": [
    {
     "data": {
      "text/html": [
       "<style>#sk-container-id-2 {\n",
       "  /* Definition of color scheme common for light and dark mode */\n",
       "  --sklearn-color-text: black;\n",
       "  --sklearn-color-line: gray;\n",
       "  /* Definition of color scheme for unfitted estimators */\n",
       "  --sklearn-color-unfitted-level-0: #fff5e6;\n",
       "  --sklearn-color-unfitted-level-1: #f6e4d2;\n",
       "  --sklearn-color-unfitted-level-2: #ffe0b3;\n",
       "  --sklearn-color-unfitted-level-3: chocolate;\n",
       "  /* Definition of color scheme for fitted estimators */\n",
       "  --sklearn-color-fitted-level-0: #f0f8ff;\n",
       "  --sklearn-color-fitted-level-1: #d4ebff;\n",
       "  --sklearn-color-fitted-level-2: #b3dbfd;\n",
       "  --sklearn-color-fitted-level-3: cornflowerblue;\n",
       "\n",
       "  /* Specific color for light theme */\n",
       "  --sklearn-color-text-on-default-background: var(--sg-text-color, var(--theme-code-foreground, var(--jp-content-font-color1, black)));\n",
       "  --sklearn-color-background: var(--sg-background-color, var(--theme-background, var(--jp-layout-color0, white)));\n",
       "  --sklearn-color-border-box: var(--sg-text-color, var(--theme-code-foreground, var(--jp-content-font-color1, black)));\n",
       "  --sklearn-color-icon: #696969;\n",
       "\n",
       "  @media (prefers-color-scheme: dark) {\n",
       "    /* Redefinition of color scheme for dark theme */\n",
       "    --sklearn-color-text-on-default-background: var(--sg-text-color, var(--theme-code-foreground, var(--jp-content-font-color1, white)));\n",
       "    --sklearn-color-background: var(--sg-background-color, var(--theme-background, var(--jp-layout-color0, #111)));\n",
       "    --sklearn-color-border-box: var(--sg-text-color, var(--theme-code-foreground, var(--jp-content-font-color1, white)));\n",
       "    --sklearn-color-icon: #878787;\n",
       "  }\n",
       "}\n",
       "\n",
       "#sk-container-id-2 {\n",
       "  color: var(--sklearn-color-text);\n",
       "}\n",
       "\n",
       "#sk-container-id-2 pre {\n",
       "  padding: 0;\n",
       "}\n",
       "\n",
       "#sk-container-id-2 input.sk-hidden--visually {\n",
       "  border: 0;\n",
       "  clip: rect(1px 1px 1px 1px);\n",
       "  clip: rect(1px, 1px, 1px, 1px);\n",
       "  height: 1px;\n",
       "  margin: -1px;\n",
       "  overflow: hidden;\n",
       "  padding: 0;\n",
       "  position: absolute;\n",
       "  width: 1px;\n",
       "}\n",
       "\n",
       "#sk-container-id-2 div.sk-dashed-wrapped {\n",
       "  border: 1px dashed var(--sklearn-color-line);\n",
       "  margin: 0 0.4em 0.5em 0.4em;\n",
       "  box-sizing: border-box;\n",
       "  padding-bottom: 0.4em;\n",
       "  background-color: var(--sklearn-color-background);\n",
       "}\n",
       "\n",
       "#sk-container-id-2 div.sk-container {\n",
       "  /* jupyter's `normalize.less` sets `[hidden] { display: none; }`\n",
       "     but bootstrap.min.css set `[hidden] { display: none !important; }`\n",
       "     so we also need the `!important` here to be able to override the\n",
       "     default hidden behavior on the sphinx rendered scikit-learn.org.\n",
       "     See: https://github.com/scikit-learn/scikit-learn/issues/21755 */\n",
       "  display: inline-block !important;\n",
       "  position: relative;\n",
       "}\n",
       "\n",
       "#sk-container-id-2 div.sk-text-repr-fallback {\n",
       "  display: none;\n",
       "}\n",
       "\n",
       "div.sk-parallel-item,\n",
       "div.sk-serial,\n",
       "div.sk-item {\n",
       "  /* draw centered vertical line to link estimators */\n",
       "  background-image: linear-gradient(var(--sklearn-color-text-on-default-background), var(--sklearn-color-text-on-default-background));\n",
       "  background-size: 2px 100%;\n",
       "  background-repeat: no-repeat;\n",
       "  background-position: center center;\n",
       "}\n",
       "\n",
       "/* Parallel-specific style estimator block */\n",
       "\n",
       "#sk-container-id-2 div.sk-parallel-item::after {\n",
       "  content: \"\";\n",
       "  width: 100%;\n",
       "  border-bottom: 2px solid var(--sklearn-color-text-on-default-background);\n",
       "  flex-grow: 1;\n",
       "}\n",
       "\n",
       "#sk-container-id-2 div.sk-parallel {\n",
       "  display: flex;\n",
       "  align-items: stretch;\n",
       "  justify-content: center;\n",
       "  background-color: var(--sklearn-color-background);\n",
       "  position: relative;\n",
       "}\n",
       "\n",
       "#sk-container-id-2 div.sk-parallel-item {\n",
       "  display: flex;\n",
       "  flex-direction: column;\n",
       "}\n",
       "\n",
       "#sk-container-id-2 div.sk-parallel-item:first-child::after {\n",
       "  align-self: flex-end;\n",
       "  width: 50%;\n",
       "}\n",
       "\n",
       "#sk-container-id-2 div.sk-parallel-item:last-child::after {\n",
       "  align-self: flex-start;\n",
       "  width: 50%;\n",
       "}\n",
       "\n",
       "#sk-container-id-2 div.sk-parallel-item:only-child::after {\n",
       "  width: 0;\n",
       "}\n",
       "\n",
       "/* Serial-specific style estimator block */\n",
       "\n",
       "#sk-container-id-2 div.sk-serial {\n",
       "  display: flex;\n",
       "  flex-direction: column;\n",
       "  align-items: center;\n",
       "  background-color: var(--sklearn-color-background);\n",
       "  padding-right: 1em;\n",
       "  padding-left: 1em;\n",
       "}\n",
       "\n",
       "\n",
       "/* Toggleable style: style used for estimator/Pipeline/ColumnTransformer box that is\n",
       "clickable and can be expanded/collapsed.\n",
       "- Pipeline and ColumnTransformer use this feature and define the default style\n",
       "- Estimators will overwrite some part of the style using the `sk-estimator` class\n",
       "*/\n",
       "\n",
       "/* Pipeline and ColumnTransformer style (default) */\n",
       "\n",
       "#sk-container-id-2 div.sk-toggleable {\n",
       "  /* Default theme specific background. It is overwritten whether we have a\n",
       "  specific estimator or a Pipeline/ColumnTransformer */\n",
       "  background-color: var(--sklearn-color-background);\n",
       "}\n",
       "\n",
       "/* Toggleable label */\n",
       "#sk-container-id-2 label.sk-toggleable__label {\n",
       "  cursor: pointer;\n",
       "  display: block;\n",
       "  width: 100%;\n",
       "  margin-bottom: 0;\n",
       "  padding: 0.5em;\n",
       "  box-sizing: border-box;\n",
       "  text-align: center;\n",
       "}\n",
       "\n",
       "#sk-container-id-2 label.sk-toggleable__label-arrow:before {\n",
       "  /* Arrow on the left of the label */\n",
       "  content: \"▸\";\n",
       "  float: left;\n",
       "  margin-right: 0.25em;\n",
       "  color: var(--sklearn-color-icon);\n",
       "}\n",
       "\n",
       "#sk-container-id-2 label.sk-toggleable__label-arrow:hover:before {\n",
       "  color: var(--sklearn-color-text);\n",
       "}\n",
       "\n",
       "/* Toggleable content - dropdown */\n",
       "\n",
       "#sk-container-id-2 div.sk-toggleable__content {\n",
       "  max-height: 0;\n",
       "  max-width: 0;\n",
       "  overflow: hidden;\n",
       "  text-align: left;\n",
       "  /* unfitted */\n",
       "  background-color: var(--sklearn-color-unfitted-level-0);\n",
       "}\n",
       "\n",
       "#sk-container-id-2 div.sk-toggleable__content.fitted {\n",
       "  /* fitted */\n",
       "  background-color: var(--sklearn-color-fitted-level-0);\n",
       "}\n",
       "\n",
       "#sk-container-id-2 div.sk-toggleable__content pre {\n",
       "  margin: 0.2em;\n",
       "  border-radius: 0.25em;\n",
       "  color: var(--sklearn-color-text);\n",
       "  /* unfitted */\n",
       "  background-color: var(--sklearn-color-unfitted-level-0);\n",
       "}\n",
       "\n",
       "#sk-container-id-2 div.sk-toggleable__content.fitted pre {\n",
       "  /* unfitted */\n",
       "  background-color: var(--sklearn-color-fitted-level-0);\n",
       "}\n",
       "\n",
       "#sk-container-id-2 input.sk-toggleable__control:checked~div.sk-toggleable__content {\n",
       "  /* Expand drop-down */\n",
       "  max-height: 200px;\n",
       "  max-width: 100%;\n",
       "  overflow: auto;\n",
       "}\n",
       "\n",
       "#sk-container-id-2 input.sk-toggleable__control:checked~label.sk-toggleable__label-arrow:before {\n",
       "  content: \"▾\";\n",
       "}\n",
       "\n",
       "/* Pipeline/ColumnTransformer-specific style */\n",
       "\n",
       "#sk-container-id-2 div.sk-label input.sk-toggleable__control:checked~label.sk-toggleable__label {\n",
       "  color: var(--sklearn-color-text);\n",
       "  background-color: var(--sklearn-color-unfitted-level-2);\n",
       "}\n",
       "\n",
       "#sk-container-id-2 div.sk-label.fitted input.sk-toggleable__control:checked~label.sk-toggleable__label {\n",
       "  background-color: var(--sklearn-color-fitted-level-2);\n",
       "}\n",
       "\n",
       "/* Estimator-specific style */\n",
       "\n",
       "/* Colorize estimator box */\n",
       "#sk-container-id-2 div.sk-estimator input.sk-toggleable__control:checked~label.sk-toggleable__label {\n",
       "  /* unfitted */\n",
       "  background-color: var(--sklearn-color-unfitted-level-2);\n",
       "}\n",
       "\n",
       "#sk-container-id-2 div.sk-estimator.fitted input.sk-toggleable__control:checked~label.sk-toggleable__label {\n",
       "  /* fitted */\n",
       "  background-color: var(--sklearn-color-fitted-level-2);\n",
       "}\n",
       "\n",
       "#sk-container-id-2 div.sk-label label.sk-toggleable__label,\n",
       "#sk-container-id-2 div.sk-label label {\n",
       "  /* The background is the default theme color */\n",
       "  color: var(--sklearn-color-text-on-default-background);\n",
       "}\n",
       "\n",
       "/* On hover, darken the color of the background */\n",
       "#sk-container-id-2 div.sk-label:hover label.sk-toggleable__label {\n",
       "  color: var(--sklearn-color-text);\n",
       "  background-color: var(--sklearn-color-unfitted-level-2);\n",
       "}\n",
       "\n",
       "/* Label box, darken color on hover, fitted */\n",
       "#sk-container-id-2 div.sk-label.fitted:hover label.sk-toggleable__label.fitted {\n",
       "  color: var(--sklearn-color-text);\n",
       "  background-color: var(--sklearn-color-fitted-level-2);\n",
       "}\n",
       "\n",
       "/* Estimator label */\n",
       "\n",
       "#sk-container-id-2 div.sk-label label {\n",
       "  font-family: monospace;\n",
       "  font-weight: bold;\n",
       "  display: inline-block;\n",
       "  line-height: 1.2em;\n",
       "}\n",
       "\n",
       "#sk-container-id-2 div.sk-label-container {\n",
       "  text-align: center;\n",
       "}\n",
       "\n",
       "/* Estimator-specific */\n",
       "#sk-container-id-2 div.sk-estimator {\n",
       "  font-family: monospace;\n",
       "  border: 1px dotted var(--sklearn-color-border-box);\n",
       "  border-radius: 0.25em;\n",
       "  box-sizing: border-box;\n",
       "  margin-bottom: 0.5em;\n",
       "  /* unfitted */\n",
       "  background-color: var(--sklearn-color-unfitted-level-0);\n",
       "}\n",
       "\n",
       "#sk-container-id-2 div.sk-estimator.fitted {\n",
       "  /* fitted */\n",
       "  background-color: var(--sklearn-color-fitted-level-0);\n",
       "}\n",
       "\n",
       "/* on hover */\n",
       "#sk-container-id-2 div.sk-estimator:hover {\n",
       "  /* unfitted */\n",
       "  background-color: var(--sklearn-color-unfitted-level-2);\n",
       "}\n",
       "\n",
       "#sk-container-id-2 div.sk-estimator.fitted:hover {\n",
       "  /* fitted */\n",
       "  background-color: var(--sklearn-color-fitted-level-2);\n",
       "}\n",
       "\n",
       "/* Specification for estimator info (e.g. \"i\" and \"?\") */\n",
       "\n",
       "/* Common style for \"i\" and \"?\" */\n",
       "\n",
       ".sk-estimator-doc-link,\n",
       "a:link.sk-estimator-doc-link,\n",
       "a:visited.sk-estimator-doc-link {\n",
       "  float: right;\n",
       "  font-size: smaller;\n",
       "  line-height: 1em;\n",
       "  font-family: monospace;\n",
       "  background-color: var(--sklearn-color-background);\n",
       "  border-radius: 1em;\n",
       "  height: 1em;\n",
       "  width: 1em;\n",
       "  text-decoration: none !important;\n",
       "  margin-left: 1ex;\n",
       "  /* unfitted */\n",
       "  border: var(--sklearn-color-unfitted-level-1) 1pt solid;\n",
       "  color: var(--sklearn-color-unfitted-level-1);\n",
       "}\n",
       "\n",
       ".sk-estimator-doc-link.fitted,\n",
       "a:link.sk-estimator-doc-link.fitted,\n",
       "a:visited.sk-estimator-doc-link.fitted {\n",
       "  /* fitted */\n",
       "  border: var(--sklearn-color-fitted-level-1) 1pt solid;\n",
       "  color: var(--sklearn-color-fitted-level-1);\n",
       "}\n",
       "\n",
       "/* On hover */\n",
       "div.sk-estimator:hover .sk-estimator-doc-link:hover,\n",
       ".sk-estimator-doc-link:hover,\n",
       "div.sk-label-container:hover .sk-estimator-doc-link:hover,\n",
       ".sk-estimator-doc-link:hover {\n",
       "  /* unfitted */\n",
       "  background-color: var(--sklearn-color-unfitted-level-3);\n",
       "  color: var(--sklearn-color-background);\n",
       "  text-decoration: none;\n",
       "}\n",
       "\n",
       "div.sk-estimator.fitted:hover .sk-estimator-doc-link.fitted:hover,\n",
       ".sk-estimator-doc-link.fitted:hover,\n",
       "div.sk-label-container:hover .sk-estimator-doc-link.fitted:hover,\n",
       ".sk-estimator-doc-link.fitted:hover {\n",
       "  /* fitted */\n",
       "  background-color: var(--sklearn-color-fitted-level-3);\n",
       "  color: var(--sklearn-color-background);\n",
       "  text-decoration: none;\n",
       "}\n",
       "\n",
       "/* Span, style for the box shown on hovering the info icon */\n",
       ".sk-estimator-doc-link span {\n",
       "  display: none;\n",
       "  z-index: 9999;\n",
       "  position: relative;\n",
       "  font-weight: normal;\n",
       "  right: .2ex;\n",
       "  padding: .5ex;\n",
       "  margin: .5ex;\n",
       "  width: min-content;\n",
       "  min-width: 20ex;\n",
       "  max-width: 50ex;\n",
       "  color: var(--sklearn-color-text);\n",
       "  box-shadow: 2pt 2pt 4pt #999;\n",
       "  /* unfitted */\n",
       "  background: var(--sklearn-color-unfitted-level-0);\n",
       "  border: .5pt solid var(--sklearn-color-unfitted-level-3);\n",
       "}\n",
       "\n",
       ".sk-estimator-doc-link.fitted span {\n",
       "  /* fitted */\n",
       "  background: var(--sklearn-color-fitted-level-0);\n",
       "  border: var(--sklearn-color-fitted-level-3);\n",
       "}\n",
       "\n",
       ".sk-estimator-doc-link:hover span {\n",
       "  display: block;\n",
       "}\n",
       "\n",
       "/* \"?\"-specific style due to the `<a>` HTML tag */\n",
       "\n",
       "#sk-container-id-2 a.estimator_doc_link {\n",
       "  float: right;\n",
       "  font-size: 1rem;\n",
       "  line-height: 1em;\n",
       "  font-family: monospace;\n",
       "  background-color: var(--sklearn-color-background);\n",
       "  border-radius: 1rem;\n",
       "  height: 1rem;\n",
       "  width: 1rem;\n",
       "  text-decoration: none;\n",
       "  /* unfitted */\n",
       "  color: var(--sklearn-color-unfitted-level-1);\n",
       "  border: var(--sklearn-color-unfitted-level-1) 1pt solid;\n",
       "}\n",
       "\n",
       "#sk-container-id-2 a.estimator_doc_link.fitted {\n",
       "  /* fitted */\n",
       "  border: var(--sklearn-color-fitted-level-1) 1pt solid;\n",
       "  color: var(--sklearn-color-fitted-level-1);\n",
       "}\n",
       "\n",
       "/* On hover */\n",
       "#sk-container-id-2 a.estimator_doc_link:hover {\n",
       "  /* unfitted */\n",
       "  background-color: var(--sklearn-color-unfitted-level-3);\n",
       "  color: var(--sklearn-color-background);\n",
       "  text-decoration: none;\n",
       "}\n",
       "\n",
       "#sk-container-id-2 a.estimator_doc_link.fitted:hover {\n",
       "  /* fitted */\n",
       "  background-color: var(--sklearn-color-fitted-level-3);\n",
       "}\n",
       "</style><div id=\"sk-container-id-2\" class=\"sk-top-container\"><div class=\"sk-text-repr-fallback\"><pre>KNeighborsClassifier(n_neighbors=3)</pre><b>In a Jupyter environment, please rerun this cell to show the HTML representation or trust the notebook. <br />On GitHub, the HTML representation is unable to render, please try loading this page with nbviewer.org.</b></div><div class=\"sk-container\" hidden><div class=\"sk-item\"><div class=\"sk-estimator fitted sk-toggleable\"><input class=\"sk-toggleable__control sk-hidden--visually\" id=\"sk-estimator-id-2\" type=\"checkbox\" checked><label for=\"sk-estimator-id-2\" class=\"sk-toggleable__label fitted sk-toggleable__label-arrow fitted\">&nbsp;&nbsp;KNeighborsClassifier<a class=\"sk-estimator-doc-link fitted\" rel=\"noreferrer\" target=\"_blank\" href=\"https://scikit-learn.org/1.4/modules/generated/sklearn.neighbors.KNeighborsClassifier.html\">?<span>Documentation for KNeighborsClassifier</span></a><span class=\"sk-estimator-doc-link fitted\">i<span>Fitted</span></span></label><div class=\"sk-toggleable__content fitted\"><pre>KNeighborsClassifier(n_neighbors=3)</pre></div> </div></div></div></div>"
      ],
      "text/plain": [
       "KNeighborsClassifier(n_neighbors=3)"
      ]
     },
     "execution_count": 59,
     "metadata": {},
     "output_type": "execute_result"
    }
   ],
   "source": [
    "# Обучаем модель на обучающей части данных с помощью модели классификации KNN\n",
    "neigh = KNeighborsClassifier(n_neighbors = 3)\n",
    "neigh.fit(X_train, y_train)"
   ]
  },
  {
   "cell_type": "code",
   "execution_count": 60,
   "id": "e05c8067-6b7c-4cbc-a2a7-49076c2bc065",
   "metadata": {},
   "outputs": [],
   "source": [
    "# Предсказываем для тестовой части значение целевой переменной\n",
    "y_pred = neigh.predict(X_test1)"
   ]
  },
  {
   "cell_type": "code",
   "execution_count": 61,
   "id": "ded203e0-a4b3-406f-a316-15c1599e7527",
   "metadata": {},
   "outputs": [
    {
     "data": {
      "text/plain": [
       "85"
      ]
     },
     "execution_count": 61,
     "metadata": {},
     "output_type": "execute_result"
    }
   ],
   "source": [
    "# Количество реальных смертельных исходов\n",
    "np.sum(y_test1)"
   ]
  },
  {
   "cell_type": "code",
   "execution_count": 62,
   "id": "f9c77627-97dc-4219-929d-08b3d3369110",
   "metadata": {},
   "outputs": [
    {
     "data": {
      "text/plain": [
       "40"
      ]
     },
     "execution_count": 62,
     "metadata": {},
     "output_type": "execute_result"
    }
   ],
   "source": [
    "# Количество предсказанных смертельных исходов\n",
    "np.sum(y_pred)"
   ]
  },
  {
   "cell_type": "code",
   "execution_count": 63,
   "id": "548ff9ec-d8cd-400f-9d7a-8812e7cd19e0",
   "metadata": {},
   "outputs": [
    {
     "data": {
      "text/html": [
       "<div>\n",
       "<style scoped>\n",
       "    .dataframe tbody tr th:only-of-type {\n",
       "        vertical-align: middle;\n",
       "    }\n",
       "\n",
       "    .dataframe tbody tr th {\n",
       "        vertical-align: top;\n",
       "    }\n",
       "\n",
       "    .dataframe thead th {\n",
       "        text-align: right;\n",
       "    }\n",
       "</style>\n",
       "<table border=\"1\" class=\"dataframe\">\n",
       "  <thead>\n",
       "    <tr style=\"text-align: right;\">\n",
       "      <th></th>\n",
       "      <th>Pred 0</th>\n",
       "      <th>Pred 1</th>\n",
       "    </tr>\n",
       "  </thead>\n",
       "  <tbody>\n",
       "    <tr>\n",
       "      <th>True 0</th>\n",
       "      <td>2552</td>\n",
       "      <td>34</td>\n",
       "    </tr>\n",
       "    <tr>\n",
       "      <th>True 1</th>\n",
       "      <td>79</td>\n",
       "      <td>6</td>\n",
       "    </tr>\n",
       "  </tbody>\n",
       "</table>\n",
       "</div>"
      ],
      "text/plain": [
       "        Pred 0  Pred 1\n",
       "True 0    2552      34\n",
       "True 1      79       6"
      ]
     },
     "execution_count": 63,
     "metadata": {},
     "output_type": "execute_result"
    }
   ],
   "source": [
    "# Сравниваем предсказанные значения с реальными значениями\n",
    "pd.DataFrame(confusion_matrix(y_test1, y_pred), index = ['True 0', 'True 1'], columns = ['Pred 0', 'Pred 1'])"
   ]
  },
  {
   "cell_type": "markdown",
   "id": "9e8a96ad-1940-4cd0-929c-7388ce7f7ca6",
   "metadata": {},
   "source": [
    "##### Из 85 реальных смертельных исходов, предсказаны только 6. Из 40 предсказанных смертельных исходов, реально было 6 смертельных случаев."
   ]
  },
  {
   "cell_type": "code",
   "execution_count": 64,
   "id": "94fb4523-0b16-46c6-8949-9e1a31d4599e",
   "metadata": {},
   "outputs": [
    {
     "name": "stdout",
     "output_type": "stream",
     "text": [
      "Precision 0.15\n",
      "Recall 0.07058823529411765\n"
     ]
    }
   ],
   "source": [
    "# Рассмотрим метрики качества модели\n",
    "print('Precision', precision_score(y_test1, y_pred))\n",
    "print('Recall', recall_score(y_test1, y_pred))"
   ]
  },
  {
   "cell_type": "markdown",
   "id": "51120271-f521-4d05-881b-da3184d1e39f",
   "metadata": {},
   "source": [
    "##### Качество модели - очень низкое. Процент смертей, которые модель корректно обозначает, составялет 15%, а процент реальных смертей, которые модель способна поймать - 7%."
   ]
  },
  {
   "cell_type": "markdown",
   "id": "dd912c40-4540-4eb2-b36c-1c9a57cdc25c",
   "metadata": {},
   "source": [
    "##### Пробуем подобрать значение гиперпараметра"
   ]
  },
  {
   "cell_type": "code",
   "execution_count": 65,
   "id": "de800e6f-1d31-4853-9b6b-a73b1f108bad",
   "metadata": {},
   "outputs": [
    {
     "name": "stdout",
     "output_type": "stream",
     "text": [
      "Neigbors: 3 Precision: 0.15 Recall 0.071\n",
      "Neigbors: 5 Precision: 0.207 Recall 0.071\n",
      "Neigbors: 7 Precision: 0.2 Recall 0.059\n",
      "Neigbors: 9 Precision: 0.25 Recall 0.059\n",
      "Neigbors: 11 Precision: 0.167 Recall 0.024\n",
      "Neigbors: 13 Precision: 0.2 Recall 0.024\n",
      "Neigbors: 15 Precision: 0.0 Recall 0.0\n",
      "Neigbors: 17 Precision: 0.333 Recall 0.012\n",
      "Neigbors: 19 Precision: 0.5 Recall 0.012\n",
      "Neigbors: 21 Precision: 0.0 Recall 0.0\n",
      "Neigbors: 23 Precision: 0.0 Recall 0.0\n",
      "Neigbors: 25 Precision: 0.0 Recall 0.0\n",
      "Neigbors: 27 Precision: 0.0 Recall 0.0\n",
      "Neigbors: 29 Precision: 0.0 Recall 0.0\n"
     ]
    }
   ],
   "source": [
    "for i in range(3, 30, 2):\n",
    "    neigh = KNeighborsClassifier(n_neighbors = i)\n",
    "    neigh.fit(X_train, y_train)\n",
    "    y_pred = neigh.predict(X_test1)\n",
    "    print('Neigbors:', i, \n",
    "          'Precision:', np.round(precision_score(y_test1, y_pred),3), \n",
    "          'Recall', np.round(recall_score(y_test1, y_pred),3)\n",
    "         )"
   ]
  },
  {
   "cell_type": "markdown",
   "id": "e58fd396-bdc9-4b3c-8973-27f8e1264057",
   "metadata": {},
   "source": [
    "##### При значении параметра 9 - получаются оптимальные значения: процент смертей, которые модель корректно обозначает, составялет 25%, а процент реальных смертей, которые модель способна поймать - 5,9%.\n",
    "##### При значении параметра 19 - процент смертей, которые модель корректно обозначает, составялет 50%, а процент реальных смертей, которые модель способна поймать - всего 1,2%."
   ]
  },
  {
   "cell_type": "markdown",
   "id": "3a585c5e-6e38-4feb-99f0-128b7c1295fb",
   "metadata": {},
   "source": [
    "#### 2) Модель Decision tree"
   ]
  },
  {
   "cell_type": "code",
   "execution_count": 66,
   "id": "381de2d9-420a-4769-a770-9a6134b6e4d0",
   "metadata": {},
   "outputs": [
    {
     "name": "stdout",
     "output_type": "stream",
     "text": [
      "Precision: 0.125 Recall 0.141\n"
     ]
    }
   ],
   "source": [
    "from sklearn.tree import DecisionTreeClassifier\n",
    "tree_clf = DecisionTreeClassifier()\n",
    "tree_clf.fit(X_train, y_train)\n",
    "y_pred = tree_clf.predict(X_test1)\n",
    "print(\n",
    "    'Precision:', np.round(precision_score(y_test1, y_pred),3), \n",
    "    'Recall', np.round(recall_score(y_test1, y_pred),3)\n",
    ")"
   ]
  },
  {
   "cell_type": "markdown",
   "id": "2f042f66-e502-479a-8ceb-ccf333eb4a59",
   "metadata": {},
   "source": [
    "##### В модели Decision tree - процент смертей, которые модель корректно обозначает, составялет 12,5%, а процент реальных смертей, которые модель способна поймать - 14,1%. (цифры иногда чуточку меняются при перезагрузке блокнота)"
   ]
  },
  {
   "cell_type": "markdown",
   "id": "285aa925-40e4-4037-8fb3-d96e4e99e4c0",
   "metadata": {},
   "source": [
    "#### 3) Модель Benchmark - модель случайного предсказания"
   ]
  },
  {
   "cell_type": "code",
   "execution_count": 67,
   "id": "fb2c9d76-5e89-4d87-878d-296e10c6f029",
   "metadata": {},
   "outputs": [
    {
     "name": "stdout",
     "output_type": "stream",
     "text": [
      "Precision: 0.024 Recall 0.024\n"
     ]
    }
   ],
   "source": [
    "prob = np.mean(y_test1)\n",
    "from scipy.stats import bernoulli\n",
    "y_pred = bernoulli.rvs(prob, size = len(y_test1))\n",
    "print(\n",
    "    'Precision:', np.round(precision_score(y_test1, y_pred),3), \n",
    "    'Recall', np.round(recall_score(y_test1, y_pred),3)\n",
    ")"
   ]
  },
  {
   "cell_type": "markdown",
   "id": "ba6fd1d0-18d7-474d-9ee4-76274ebac34d",
   "metadata": {},
   "source": [
    "##### В модели Benchmark - процент смертей, которые модель корректно обозначает, составялет 2,4%, а процент реальных смертей, которые модель способна поймать - 2,4%. (цифры иногда чуточку меняются при перезагрузке блокнота)"
   ]
  },
  {
   "cell_type": "markdown",
   "id": "cfe4b3b1-c6e5-4bdd-bf80-cdfd65bd6c85",
   "metadata": {},
   "source": [
    "#### 4) Модель Random Forest"
   ]
  },
  {
   "cell_type": "code",
   "execution_count": 68,
   "id": "cb743da7-36ff-4d80-b4fe-d19c222dfdd5",
   "metadata": {},
   "outputs": [
    {
     "name": "stdout",
     "output_type": "stream",
     "text": [
      "Depth: 1 Precision: 0.0 Recall 0.0\n",
      "Depth: 3 Precision: 0.0 Recall 0.0\n",
      "Depth: 5 Precision: 0.667 Recall 0.021\n",
      "Depth: 7 Precision: 0.412 Recall 0.037\n",
      "Depth: 9 Precision: 0.357 Recall 0.053\n",
      "Depth: 11 Precision: 0.289 Recall 0.069\n",
      "Depth: 13 Precision: 0.219 Recall 0.085\n",
      "Depth: 15 Precision: 0.256 Recall 0.117\n",
      "Depth: 17 Precision: 0.228 Recall 0.122\n",
      "Depth: 19 Precision: 0.223 Recall 0.122\n",
      "Depth: 21 Precision: 0.228 Recall 0.122\n",
      "Depth: 23 Precision: 0.238 Recall 0.128\n",
      "Depth: 25 Precision: 0.238 Recall 0.128\n",
      "Depth: 27 Precision: 0.238 Recall 0.128\n",
      "Depth: 29 Precision: 0.238 Recall 0.128\n"
     ]
    }
   ],
   "source": [
    "from sklearn.ensemble import RandomForestClassifier\n",
    "for i in range(1, 30, 2):\n",
    "    rf_clf = RandomForestClassifier(max_depth=i, random_state=42)\n",
    "    rf_clf.fit(X_train, y_train)\n",
    "    y_pred = rf_clf.predict(X_test)\n",
    "    print('Depth:', i, \n",
    "          'Precision:', np.round(precision_score(y_test, y_pred),3), \n",
    "          'Recall', np.round(recall_score(y_test, y_pred),3)\n",
    "         )"
   ]
  },
  {
   "cell_type": "markdown",
   "id": "3e6278ac-88b3-4d43-8804-0e04971b7e95",
   "metadata": {},
   "source": [
    "##### При значении параметра 5 - процент смертей, которые модель корректно обозначает, составялет 66,7%, а процент реальных смертей, которых модель способна поймать - 2,1%.\n",
    "##### При значении параметра 23 - получаются оптимальные значения: процент смертей, которые модель корректно обозначает, составялет 23,8%, а процент реальных смертей, которых модель способна поймать - всего 12,8%."
   ]
  },
  {
   "cell_type": "markdown",
   "id": "fd9777f8-5b90-4060-b7ef-7e0d456b39a9",
   "metadata": {},
   "source": [
    "________________________________________________________________________________________________________________________________"
   ]
  },
  {
   "cell_type": "markdown",
   "id": "37eb9cba-ebdf-4d7a-adb2-a2abf189a135",
   "metadata": {},
   "source": [
    "### XII Выберем модель и набор переменных, которые дают наиболее удовлетворительное качество"
   ]
  },
  {
   "cell_type": "markdown",
   "id": "38af73e7-3fb5-4d39-b835-e588f655b430",
   "metadata": {},
   "source": [
    "#### По моему мнению в нашем анализе важна метрика Recall - это процент реальных смертей, которые модель способна поймать (чем выше это число, тем лучше), тем более вероятно, что человеку на экране будут высвечиваться реальные предсказания-предупреждения. И нам практически не важна метрика Precision, так как если ИИ спрогнозирует фейковую смерть на экране, и человек произведет мероприятия по уменьшению вероятности смерти, то в этом нет ничего плохого, наоборот даже лучше, так сказать с запасом)))."
   ]
  },
  {
   "cell_type": "markdown",
   "id": "da84ed49-f11e-4f27-8c9c-bdb365542917",
   "metadata": {},
   "source": [
    "##### 1) Из расчетов, проделанных выше, метрика Recall выше у модели Decision tree - 14,1%.\n",
    "##### 2) Проделал аналогичные расчеты в другом файлике, убрав одну количествунную переменную \"yearVeh\" (год выпуска авто). Метрика Recall выше у модели Decision tree - 12,9%.\n",
    "##### 3) Проделал аналогичные расчеты в другом файлике, переместив переменную \"yearVeh\" (год выпуска авто) из блока количественных и блок категориальных. Метрика Recall выше у модели Decision tree - 17,6%."
   ]
  },
  {
   "cell_type": "markdown",
   "id": "83c043c6-8752-48fc-b0b0-9153c0ac630c",
   "metadata": {},
   "source": [
    "#### В итоге получаем, что качество моделей низкое при текущих переменных, возможно необходим другой набор переменных, возможно больше количественных, чем категориальных.\n",
    "#### Но даже с учетом небольших скачущих значений модели Decision tree, мы выбираем именно её, так как она показывает наилучшие результаты из пробного файла.\n",
    "#### Ниже воспроизведем модель Decision tree из пробного файла, у которой метрика Recall - 17,6% (предварительно переместив переменную \"yearVeh\" (год выпуска авто) из блока количественных и блок категориальных)"
   ]
  },
  {
   "cell_type": "code",
   "execution_count": 69,
   "id": "8d83af1e-e3b3-4bb9-a469-2032eabcfa26",
   "metadata": {},
   "outputs": [
    {
     "name": "stdout",
     "output_type": "stream",
     "text": [
      "Precision: 0.163 Recall 0.176\n"
     ]
    }
   ],
   "source": [
    "# Дублирую весь код, который был в пробном файле, начиная с выбора блоков переменных, деления на выборки, и заканчивая моделью Decision tree\n",
    "cat_vars = ['dvcat', 'airbag', 'seatbelt', 'sex', 'yearVeh']     # Вот тут ключевое различие, столбец yearVeh перемещен в cat_vars!!!\n",
    "num_vars = ['ageOFocc']\n",
    "df_class[cat_vars] = df_class[cat_vars].astype(str)\n",
    "X = pd.get_dummies(df_class[cat_vars], drop_first = True, dtype = int)\n",
    "scaler = MinMaxScaler()\n",
    "scaler.fit(df_class[num_vars])\n",
    "X[num_vars] = scaler.transform(df_class[num_vars])\n",
    "y = df_class['target'].values\n",
    "X_train, X_test, y_train, y_test = train_test_split(X, y, test_size = 0.4, random_state = 42)\n",
    "X_test1, X_test2, y_test1, y_test2 = train_test_split(X_test, y_test, test_size = 0.5, random_state = 42)\n",
    "tree_clf = DecisionTreeClassifier()\n",
    "tree_clf.fit(X_train, y_train)\n",
    "y_pred = tree_clf.predict(X_test1)\n",
    "print(\n",
    "    'Precision:', np.round(precision_score(y_test1, y_pred),3), \n",
    "    'Recall', np.round(recall_score(y_test1, y_pred),3)\n",
    ")"
   ]
  },
  {
   "cell_type": "markdown",
   "id": "34b2997d-db66-4317-926a-f7ae06cdd9a0",
   "metadata": {},
   "source": [
    "##### В модели Decision tree - процент смертей, которые модель корректно обозначает, составялет 16,3%, а процент реальных смертей, которые модель способна поймать - 17,6%."
   ]
  },
  {
   "cell_type": "markdown",
   "id": "08605568-9350-4c39-a132-20468c4413ad",
   "metadata": {},
   "source": [
    "________________________________________________________________________________________________________________________________"
   ]
  },
  {
   "cell_type": "markdown",
   "id": "3f554596-ff91-4983-a86d-15ed6c11befb",
   "metadata": {},
   "source": [
    "### XIII На основе второй половины тестовой выборки сделаем предсказание целевой переменной. На основе предсказаний сделаем рекомендации для потенциальных пользователей нашего анализа."
   ]
  },
  {
   "cell_type": "code",
   "execution_count": 70,
   "id": "e70df4fd-c123-4101-b7b2-990063347e08",
   "metadata": {},
   "outputs": [
    {
     "data": {
      "text/plain": [
       "(2671, 7)"
      ]
     },
     "execution_count": 70,
     "metadata": {},
     "output_type": "execute_result"
    }
   ],
   "source": [
    "# Формируем прогнозный массив\n",
    "X_predskazanie = df_class.loc[X_test2.index, cat_vars + num_vars + target_var]\n",
    "X_predskazanie.shape"
   ]
  },
  {
   "cell_type": "code",
   "execution_count": 71,
   "id": "4b93bba2-8a36-4512-8b58-26e4694250bc",
   "metadata": {},
   "outputs": [],
   "source": [
    "# Делаем предсказание\n",
    "y_predskazanie = tree_clf.predict(X_test2)"
   ]
  },
  {
   "cell_type": "code",
   "execution_count": 72,
   "id": "5f61f7cd-4e1e-4ae6-93ee-4d6c4570c435",
   "metadata": {},
   "outputs": [
    {
     "data": {
      "text/html": [
       "<div>\n",
       "<style scoped>\n",
       "    .dataframe tbody tr th:only-of-type {\n",
       "        vertical-align: middle;\n",
       "    }\n",
       "\n",
       "    .dataframe tbody tr th {\n",
       "        vertical-align: top;\n",
       "    }\n",
       "\n",
       "    .dataframe thead th {\n",
       "        text-align: right;\n",
       "    }\n",
       "</style>\n",
       "<table border=\"1\" class=\"dataframe\">\n",
       "  <thead>\n",
       "    <tr style=\"text-align: right;\">\n",
       "      <th></th>\n",
       "      <th>dvcat</th>\n",
       "      <th>airbag</th>\n",
       "      <th>seatbelt</th>\n",
       "      <th>sex</th>\n",
       "      <th>yearVeh</th>\n",
       "      <th>ageOFocc</th>\n",
       "      <th>target</th>\n",
       "      <th>dead_pred</th>\n",
       "    </tr>\n",
       "  </thead>\n",
       "  <tbody>\n",
       "    <tr>\n",
       "      <th>12181</th>\n",
       "      <td>10-24</td>\n",
       "      <td>airbag</td>\n",
       "      <td>none</td>\n",
       "      <td>f</td>\n",
       "      <td>1997.0</td>\n",
       "      <td>60</td>\n",
       "      <td>0</td>\n",
       "      <td>0</td>\n",
       "    </tr>\n",
       "    <tr>\n",
       "      <th>4605</th>\n",
       "      <td>10-24</td>\n",
       "      <td>airbag</td>\n",
       "      <td>belted</td>\n",
       "      <td>f</td>\n",
       "      <td>1997.0</td>\n",
       "      <td>39</td>\n",
       "      <td>0</td>\n",
       "      <td>0</td>\n",
       "    </tr>\n",
       "    <tr>\n",
       "      <th>15599</th>\n",
       "      <td>10-24</td>\n",
       "      <td>airbag</td>\n",
       "      <td>belted</td>\n",
       "      <td>m</td>\n",
       "      <td>1999.0</td>\n",
       "      <td>43</td>\n",
       "      <td>0</td>\n",
       "      <td>0</td>\n",
       "    </tr>\n",
       "    <tr>\n",
       "      <th>17328</th>\n",
       "      <td>25-39</td>\n",
       "      <td>none</td>\n",
       "      <td>none</td>\n",
       "      <td>f</td>\n",
       "      <td>1993.0</td>\n",
       "      <td>34</td>\n",
       "      <td>0</td>\n",
       "      <td>0</td>\n",
       "    </tr>\n",
       "    <tr>\n",
       "      <th>14840</th>\n",
       "      <td>25-39</td>\n",
       "      <td>none</td>\n",
       "      <td>belted</td>\n",
       "      <td>m</td>\n",
       "      <td>1987.0</td>\n",
       "      <td>20</td>\n",
       "      <td>0</td>\n",
       "      <td>0</td>\n",
       "    </tr>\n",
       "    <tr>\n",
       "      <th>...</th>\n",
       "      <td>...</td>\n",
       "      <td>...</td>\n",
       "      <td>...</td>\n",
       "      <td>...</td>\n",
       "      <td>...</td>\n",
       "      <td>...</td>\n",
       "      <td>...</td>\n",
       "      <td>...</td>\n",
       "    </tr>\n",
       "    <tr>\n",
       "      <th>13540</th>\n",
       "      <td>10-24</td>\n",
       "      <td>airbag</td>\n",
       "      <td>belted</td>\n",
       "      <td>f</td>\n",
       "      <td>1997.0</td>\n",
       "      <td>29</td>\n",
       "      <td>0</td>\n",
       "      <td>0</td>\n",
       "    </tr>\n",
       "    <tr>\n",
       "      <th>19959</th>\n",
       "      <td>25-39</td>\n",
       "      <td>airbag</td>\n",
       "      <td>belted</td>\n",
       "      <td>f</td>\n",
       "      <td>1999.0</td>\n",
       "      <td>57</td>\n",
       "      <td>0</td>\n",
       "      <td>0</td>\n",
       "    </tr>\n",
       "    <tr>\n",
       "      <th>17098</th>\n",
       "      <td>10-24</td>\n",
       "      <td>airbag</td>\n",
       "      <td>belted</td>\n",
       "      <td>f</td>\n",
       "      <td>2000.0</td>\n",
       "      <td>53</td>\n",
       "      <td>0</td>\n",
       "      <td>0</td>\n",
       "    </tr>\n",
       "    <tr>\n",
       "      <th>15131</th>\n",
       "      <td>10-24</td>\n",
       "      <td>airbag</td>\n",
       "      <td>belted</td>\n",
       "      <td>m</td>\n",
       "      <td>1996.0</td>\n",
       "      <td>23</td>\n",
       "      <td>0</td>\n",
       "      <td>0</td>\n",
       "    </tr>\n",
       "    <tr>\n",
       "      <th>18173</th>\n",
       "      <td>10-24</td>\n",
       "      <td>airbag</td>\n",
       "      <td>belted</td>\n",
       "      <td>f</td>\n",
       "      <td>2001.0</td>\n",
       "      <td>51</td>\n",
       "      <td>0</td>\n",
       "      <td>0</td>\n",
       "    </tr>\n",
       "  </tbody>\n",
       "</table>\n",
       "<p>2671 rows × 8 columns</p>\n",
       "</div>"
      ],
      "text/plain": [
       "       dvcat  airbag seatbelt sex yearVeh  ageOFocc  target  dead_pred\n",
       "12181  10-24  airbag     none   f  1997.0        60       0          0\n",
       "4605   10-24  airbag   belted   f  1997.0        39       0          0\n",
       "15599  10-24  airbag   belted   m  1999.0        43       0          0\n",
       "17328  25-39    none     none   f  1993.0        34       0          0\n",
       "14840  25-39    none   belted   m  1987.0        20       0          0\n",
       "...      ...     ...      ...  ..     ...       ...     ...        ...\n",
       "13540  10-24  airbag   belted   f  1997.0        29       0          0\n",
       "19959  25-39  airbag   belted   f  1999.0        57       0          0\n",
       "17098  10-24  airbag   belted   f  2000.0        53       0          0\n",
       "15131  10-24  airbag   belted   m  1996.0        23       0          0\n",
       "18173  10-24  airbag   belted   f  2001.0        51       0          0\n",
       "\n",
       "[2671 rows x 8 columns]"
      ]
     },
     "execution_count": 72,
     "metadata": {},
     "output_type": "execute_result"
    }
   ],
   "source": [
    "# Добавляем столбец с предсказаниями в наш прогнозный массив\n",
    "X_predskazanie['dead_pred'] = y_predskazanie\n",
    "X_predskazanie "
   ]
  },
  {
   "cell_type": "code",
   "execution_count": 73,
   "id": "f3bb4824-0a8d-4382-b759-14aed7595b13",
   "metadata": {},
   "outputs": [
    {
     "data": {
      "text/plain": [
       "100"
      ]
     },
     "execution_count": 73,
     "metadata": {},
     "output_type": "execute_result"
    }
   ],
   "source": [
    "# Смотрим количество предсказанных смертельных исходов в 2671 автокатастроф\n",
    "X_predskazanie['dead_pred'].sum()"
   ]
  },
  {
   "cell_type": "code",
   "execution_count": 74,
   "id": "a4f1a9e6-e833-4ba8-93f6-a44984ae4432",
   "metadata": {},
   "outputs": [
    {
     "data": {
      "text/html": [
       "<div>\n",
       "<style scoped>\n",
       "    .dataframe tbody tr th:only-of-type {\n",
       "        vertical-align: middle;\n",
       "    }\n",
       "\n",
       "    .dataframe tbody tr th {\n",
       "        vertical-align: top;\n",
       "    }\n",
       "\n",
       "    .dataframe thead th {\n",
       "        text-align: right;\n",
       "    }\n",
       "</style>\n",
       "<table border=\"1\" class=\"dataframe\">\n",
       "  <thead>\n",
       "    <tr style=\"text-align: right;\">\n",
       "      <th></th>\n",
       "      <th>dvcat</th>\n",
       "      <th>airbag</th>\n",
       "      <th>seatbelt</th>\n",
       "      <th>sex</th>\n",
       "      <th>yearVeh</th>\n",
       "      <th>ageOFocc</th>\n",
       "      <th>target</th>\n",
       "      <th>dead_pred</th>\n",
       "    </tr>\n",
       "  </thead>\n",
       "  <tbody>\n",
       "    <tr>\n",
       "      <th>5715</th>\n",
       "      <td>25-39</td>\n",
       "      <td>none</td>\n",
       "      <td>none</td>\n",
       "      <td>m</td>\n",
       "      <td>1993.0</td>\n",
       "      <td>20</td>\n",
       "      <td>0</td>\n",
       "      <td>1</td>\n",
       "    </tr>\n",
       "    <tr>\n",
       "      <th>25609</th>\n",
       "      <td>55+</td>\n",
       "      <td>none</td>\n",
       "      <td>none</td>\n",
       "      <td>m</td>\n",
       "      <td>1980.0</td>\n",
       "      <td>71</td>\n",
       "      <td>1</td>\n",
       "      <td>1</td>\n",
       "    </tr>\n",
       "    <tr>\n",
       "      <th>15663</th>\n",
       "      <td>55+</td>\n",
       "      <td>none</td>\n",
       "      <td>none</td>\n",
       "      <td>f</td>\n",
       "      <td>1993.0</td>\n",
       "      <td>24</td>\n",
       "      <td>0</td>\n",
       "      <td>1</td>\n",
       "    </tr>\n",
       "    <tr>\n",
       "      <th>17846</th>\n",
       "      <td>10-24</td>\n",
       "      <td>airbag</td>\n",
       "      <td>none</td>\n",
       "      <td>f</td>\n",
       "      <td>1998.0</td>\n",
       "      <td>21</td>\n",
       "      <td>0</td>\n",
       "      <td>1</td>\n",
       "    </tr>\n",
       "    <tr>\n",
       "      <th>593</th>\n",
       "      <td>40-54</td>\n",
       "      <td>none</td>\n",
       "      <td>none</td>\n",
       "      <td>m</td>\n",
       "      <td>1991.0</td>\n",
       "      <td>70</td>\n",
       "      <td>0</td>\n",
       "      <td>1</td>\n",
       "    </tr>\n",
       "  </tbody>\n",
       "</table>\n",
       "</div>"
      ],
      "text/plain": [
       "       dvcat  airbag seatbelt sex yearVeh  ageOFocc  target  dead_pred\n",
       "5715   25-39    none     none   m  1993.0        20       0          1\n",
       "25609    55+    none     none   m  1980.0        71       1          1\n",
       "15663    55+    none     none   f  1993.0        24       0          1\n",
       "17846  10-24  airbag     none   f  1998.0        21       0          1\n",
       "593    40-54    none     none   m  1991.0        70       0          1"
      ]
     },
     "execution_count": 74,
     "metadata": {},
     "output_type": "execute_result"
    }
   ],
   "source": [
    "# Выберем только ДТП со смертельными исходами\n",
    "X_predskazanie1 = X_predskazanie[X_predskazanie['dead_pred'] == 1]\n",
    "X_predskazanie1.head()"
   ]
  },
  {
   "cell_type": "markdown",
   "id": "8ac7179a-2da0-4fc5-9d3e-846e4a83d6f2",
   "metadata": {},
   "source": [
    "##### Для составления рекомендаций необходимо привести примерную статистику по каждому столбцу.\n",
    "##### Проссматривая данные каждого столбца с помощью метода value_counts() можно дать следующие рекомендации водителям:\n",
    "##### 1) Одна из основных причин смертельного ДТП при фронтальном столкновении - это конечно же скорость! Количество предсказанных смертельных исходов увеличивается с увеличением скоростного режима транспорта. Скоростной режим необходимо выбирать с умом!\n",
    "##### 2) Наличие подушек безопасности и наличие ремней безопасности не всегда играют решающую роль для ухода от смертельного ДТП. С ними конечно вероятнее остаться живыми, но не всегда они помогают. Поэтому однозначно необходимо ими укомплектовывать автомобиль.\n",
    "##### 3) Кто бы что ни говорил, но женщины ездят аккуратнее и с ними меньше смертельных ДТП. Поэтому не стоит бояться быть пассажиром, когда за рулем женщина.\n",
    "##### 4) Ну и конечно возраст водителя. Молодые водители находятся в большей зоне риска попасть в смертельное ДТП, поэтому не стоит переоценивать своих возможностей пока опыта не набрались..."
   ]
  },
  {
   "cell_type": "markdown",
   "id": "05ea53bc-826c-4121-a85c-aed29e0b1e85",
   "metadata": {},
   "source": [
    "### НА ЭТОМ Я ЗАКОНЧИЛ СВОЙ АНАЛИЗ ДАННЫХ.\n",
    "### СПАСИБО ЗА ОБУЧЕНИЕ!!!\n",
    "### БЫЛО ООООЧЕНЬ СЛОЖНО, НО ООООЧЕНЬ ИНТЕРЕСНО!!!"
   ]
  }
 ],
 "metadata": {
  "kernelspec": {
   "display_name": "Python 3 (ipykernel)",
   "language": "python",
   "name": "python3"
  },
  "language_info": {
   "codemirror_mode": {
    "name": "ipython",
    "version": 3
   },
   "file_extension": ".py",
   "mimetype": "text/x-python",
   "name": "python",
   "nbconvert_exporter": "python",
   "pygments_lexer": "ipython3",
   "version": "3.12.4"
  }
 },
 "nbformat": 4,
 "nbformat_minor": 5
}
