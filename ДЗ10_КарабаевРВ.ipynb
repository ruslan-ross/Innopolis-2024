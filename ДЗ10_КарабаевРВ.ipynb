{
 "cells": [
  {
   "cell_type": "markdown",
   "id": "654c955a-cbc2-4275-8fd3-1b9754a2ec9a",
   "metadata": {
    "jp-MarkdownHeadingCollapsed": true
   },
   "source": [
    "### Начало работы"
   ]
  },
  {
   "cell_type": "code",
   "execution_count": 1,
   "id": "992f58e0-7aab-4bc8-9630-3568ec4f66c3",
   "metadata": {},
   "outputs": [],
   "source": [
    "# Подключаем библиотеки\n",
    "\n",
    "import pandas as pd\n",
    "import numpy as np\n",
    "import matplotlib.pyplot as plt\n",
    "import seaborn as sns"
   ]
  },
  {
   "cell_type": "code",
   "execution_count": 7,
   "id": "e63c2999-1ccf-4eb4-9b2b-91096d5fede3",
   "metadata": {},
   "outputs": [
    {
     "data": {
      "text/html": [
       "<div>\n",
       "<style scoped>\n",
       "    .dataframe tbody tr th:only-of-type {\n",
       "        vertical-align: middle;\n",
       "    }\n",
       "\n",
       "    .dataframe tbody tr th {\n",
       "        vertical-align: top;\n",
       "    }\n",
       "\n",
       "    .dataframe thead th {\n",
       "        text-align: right;\n",
       "    }\n",
       "</style>\n",
       "<table border=\"1\" class=\"dataframe\">\n",
       "  <thead>\n",
       "    <tr style=\"text-align: right;\">\n",
       "      <th></th>\n",
       "      <th>method</th>\n",
       "      <th>number</th>\n",
       "      <th>orbital_period</th>\n",
       "      <th>mass</th>\n",
       "      <th>distance</th>\n",
       "      <th>year</th>\n",
       "    </tr>\n",
       "  </thead>\n",
       "  <tbody>\n",
       "    <tr>\n",
       "      <th>0</th>\n",
       "      <td>Radial Velocity</td>\n",
       "      <td>1</td>\n",
       "      <td>269.300</td>\n",
       "      <td>7.10</td>\n",
       "      <td>77.40</td>\n",
       "      <td>2006</td>\n",
       "    </tr>\n",
       "    <tr>\n",
       "      <th>1</th>\n",
       "      <td>Radial Velocity</td>\n",
       "      <td>1</td>\n",
       "      <td>874.774</td>\n",
       "      <td>2.21</td>\n",
       "      <td>56.95</td>\n",
       "      <td>2008</td>\n",
       "    </tr>\n",
       "    <tr>\n",
       "      <th>2</th>\n",
       "      <td>Radial Velocity</td>\n",
       "      <td>1</td>\n",
       "      <td>763.000</td>\n",
       "      <td>2.60</td>\n",
       "      <td>19.84</td>\n",
       "      <td>2011</td>\n",
       "    </tr>\n",
       "    <tr>\n",
       "      <th>3</th>\n",
       "      <td>Radial Velocity</td>\n",
       "      <td>1</td>\n",
       "      <td>326.030</td>\n",
       "      <td>19.40</td>\n",
       "      <td>110.62</td>\n",
       "      <td>2007</td>\n",
       "    </tr>\n",
       "    <tr>\n",
       "      <th>4</th>\n",
       "      <td>Radial Velocity</td>\n",
       "      <td>1</td>\n",
       "      <td>516.220</td>\n",
       "      <td>10.50</td>\n",
       "      <td>119.47</td>\n",
       "      <td>2009</td>\n",
       "    </tr>\n",
       "  </tbody>\n",
       "</table>\n",
       "</div>"
      ],
      "text/plain": [
       "            method  number  orbital_period   mass  distance  year\n",
       "0  Radial Velocity       1         269.300   7.10     77.40  2006\n",
       "1  Radial Velocity       1         874.774   2.21     56.95  2008\n",
       "2  Radial Velocity       1         763.000   2.60     19.84  2011\n",
       "3  Radial Velocity       1         326.030  19.40    110.62  2007\n",
       "4  Radial Velocity       1         516.220  10.50    119.47  2009"
      ]
     },
     "execution_count": 7,
     "metadata": {},
     "output_type": "execute_result"
    }
   ],
   "source": [
    "# Считываем csv файл с GitHub\n",
    "\n",
    "df_planets = pd.read_csv(r\"https://raw.githubusercontent.com/YBI-Foundation/Dataset/refs/heads/main/Planets.csv\")\n",
    "df_planets.head()"
   ]
  },
  {
   "cell_type": "code",
   "execution_count": 35,
   "id": "c08c69cf-934e-435f-aaf7-78ab538acd47",
   "metadata": {},
   "outputs": [
    {
     "data": {
      "text/plain": [
       "(1035, 6)"
      ]
     },
     "execution_count": 35,
     "metadata": {},
     "output_type": "execute_result"
    }
   ],
   "source": [
    "df_planets.shape"
   ]
  },
  {
   "cell_type": "code",
   "execution_count": 8,
   "id": "a4aadb5c-f769-4ec9-a333-f1bad66beb48",
   "metadata": {},
   "outputs": [
    {
     "data": {
      "text/plain": [
       "method              0\n",
       "number              0\n",
       "orbital_period     43\n",
       "mass              522\n",
       "distance          227\n",
       "year                0\n",
       "dtype: int64"
      ]
     },
     "execution_count": 8,
     "metadata": {},
     "output_type": "execute_result"
    }
   ],
   "source": [
    "df_planets.isna().sum()"
   ]
  },
  {
   "cell_type": "code",
   "execution_count": 12,
   "id": "ed95cc8e-5193-4c2f-87d5-47ed667cd8ee",
   "metadata": {},
   "outputs": [
    {
     "data": {
      "text/plain": [
       "method            0\n",
       "number            0\n",
       "orbital_period    0\n",
       "mass              0\n",
       "distance          0\n",
       "year              0\n",
       "dtype: int64"
      ]
     },
     "execution_count": 12,
     "metadata": {},
     "output_type": "execute_result"
    }
   ],
   "source": [
    "# Заполним все пропуски (код из ДЗ7)\n",
    "for i in ['orbital_period', 'mass', 'distance']:\n",
    "    df_planets.loc[df_planets[i].isna(), i] = np.random.uniform(df_planets[i].min(), df_planets[i].max(), df_planets[i].isna().sum())\n",
    "df_planets.isna().sum()     # В итоге все значения заполнены"
   ]
  },
  {
   "attachments": {},
   "cell_type": "markdown",
   "id": "b7fa65f3-322e-4fb5-b4ba-b4a4903f4908",
   "metadata": {},
   "source": [
    "### Построим столбчатую диаграмму"
   ]
  },
  {
   "cell_type": "code",
   "execution_count": 28,
   "id": "085a04f7-6391-46b9-8aa7-b8f496437ffe",
   "metadata": {},
   "outputs": [
    {
     "data": {
      "text/html": [
       "<div>\n",
       "<style scoped>\n",
       "    .dataframe tbody tr th:only-of-type {\n",
       "        vertical-align: middle;\n",
       "    }\n",
       "\n",
       "    .dataframe tbody tr th {\n",
       "        vertical-align: top;\n",
       "    }\n",
       "\n",
       "    .dataframe thead th {\n",
       "        text-align: right;\n",
       "    }\n",
       "</style>\n",
       "<table border=\"1\" class=\"dataframe\">\n",
       "  <thead>\n",
       "    <tr style=\"text-align: right;\">\n",
       "      <th></th>\n",
       "      <th>Средняя дистанция</th>\n",
       "    </tr>\n",
       "  </thead>\n",
       "  <tbody>\n",
       "    <tr>\n",
       "      <th>Astrometry</th>\n",
       "      <td>17.875000</td>\n",
       "    </tr>\n",
       "    <tr>\n",
       "      <th>ETV</th>\n",
       "      <td>1763.310935</td>\n",
       "    </tr>\n",
       "    <tr>\n",
       "      <th>Imaging</th>\n",
       "      <td>678.632286</td>\n",
       "    </tr>\n",
       "    <tr>\n",
       "      <th>Microlensing</th>\n",
       "      <td>4581.908330</td>\n",
       "    </tr>\n",
       "    <tr>\n",
       "      <th>OBM</th>\n",
       "      <td>2033.217427</td>\n",
       "    </tr>\n",
       "    <tr>\n",
       "      <th>PT</th>\n",
       "      <td>3623.528825</td>\n",
       "    </tr>\n",
       "    <tr>\n",
       "      <th>PTV</th>\n",
       "      <td>6431.056029</td>\n",
       "    </tr>\n",
       "    <tr>\n",
       "      <th>RV</th>\n",
       "      <td>218.202723</td>\n",
       "    </tr>\n",
       "    <tr>\n",
       "      <th>Transit</th>\n",
       "      <td>2150.671142</td>\n",
       "    </tr>\n",
       "    <tr>\n",
       "      <th>TTV</th>\n",
       "      <td>1565.395115</td>\n",
       "    </tr>\n",
       "  </tbody>\n",
       "</table>\n",
       "</div>"
      ],
      "text/plain": [
       "              Средняя дистанция\n",
       "Astrometry            17.875000\n",
       "ETV                 1763.310935\n",
       "Imaging              678.632286\n",
       "Microlensing        4581.908330\n",
       "OBM                 2033.217427\n",
       "PT                  3623.528825\n",
       "PTV                 6431.056029\n",
       "RV                   218.202723\n",
       "Transit             2150.671142\n",
       "TTV                 1565.395115"
      ]
     },
     "execution_count": 28,
     "metadata": {},
     "output_type": "execute_result"
    }
   ],
   "source": [
    "# Возьмем 2 числовые переменные mass (Масса) и distance (Дистанция)\n",
    "\n",
    "df_planets_st_diag = df_planets.groupby('method').agg({'distance': [('Средняя дистанция', 'mean')]})\n",
    "df_planets_st_diag.columns = ['Средняя дистанция']\n",
    "df_planets_st_diag.index = ['Astrometry', 'ETV', 'Imaging', 'Microlensing', 'OBM', 'PT', 'PTV', 'RV', 'Transit', 'TTV']\n",
    "df_planets_st_diag"
   ]
  },
  {
   "cell_type": "code",
   "execution_count": 29,
   "id": "f32dada6-3fb5-4284-a521-1aac6d69a795",
   "metadata": {},
   "outputs": [
    {
     "data": {
      "image/png": "[encoded data removed]",
      "text/plain": [
       "<Figure size 1500x500 with 1 Axes>"
      ]
     },
     "metadata": {},
     "output_type": "display_data"
    }
   ],
   "source": [
    "plt.figure(figsize = (15,5))\n",
    "plt.bar(x = df_planets_st_diag.index, height = df_planets_st_diag['Средняя дистанция'])\n",
    "plt.title('Средняя дистанция от планет до звезд')\n",
    "plt.show()"
   ]
  },
  {
   "cell_type": "markdown",
   "id": "3bbb11ee-33c7-46a6-a94f-6e2c5ac4d9e3",
   "metadata": {},
   "source": [
    "##### Методы нахождения экзопланет различаются технологиями. На столбчатой диаграмме видно, что некоторые методы в основном ипользуют для открытия близлежащих к звездам планет, а у некоторых алгоритмы подходят и для планет с дальними дистанциями."
   ]
  },
  {
   "attachments": {},
   "cell_type": "markdown",
   "id": "37468341-8e6c-4295-b1d0-2efc2a079627",
   "metadata": {},
   "source": [
    "### Построим гистограмму с распределением числовой переменной"
   ]
  },
  {
   "cell_type": "code",
   "execution_count": 36,
   "id": "3e9ee3fd-fea9-450c-9a63-84f941bb0e95",
   "metadata": {},
   "outputs": [
    {
     "data": {
      "image/png": "[encoded data removed]",
      "text/plain": [
       "<Figure size 1500x500 with 1 Axes>"
      ]
     },
     "metadata": {},
     "output_type": "display_data"
    }
   ],
   "source": [
    "plt.figure(figsize = (15,5))\n",
    "sns.histplot(df_planets['mass'], kde = True)\n",
    "plt.show()"
   ]
  },
  {
   "cell_type": "markdown",
   "id": "3f090852-ad34-4910-b1ba-25a09581c14e",
   "metadata": {},
   "source": [
    "##### Гистограмма показывет, что примерно 35% (370*100/1035) открытых планет имеют "
   ]
  },
  {
   "attachments": {},
   "cell_type": "markdown",
   "id": "ac7929a5-e0d0-4cfb-9841-64b71ef286aa",
   "metadata": {},
   "source": [
    "### Построим точечную диаграмму для двух числовых переменных"
   ]
  },
  {
   "cell_type": "code",
   "execution_count": null,
   "id": "786ce32e-9dc6-41d5-b3ee-f798fab7d45a",
   "metadata": {},
   "outputs": [],
   "source": []
  },
  {
   "attachments": {},
   "cell_type": "markdown",
   "id": "334af3cf-c76e-49ca-af06-a39c2439db59",
   "metadata": {},
   "source": [
    "### Построим тепловую карту для двух категориальных переменных"
   ]
  },
  {
   "cell_type": "code",
   "execution_count": null,
   "id": "1fe16242-833b-4b8a-8fd4-137fa63b2532",
   "metadata": {},
   "outputs": [],
   "source": []
  }
 ],
 "metadata": {
  "kernelspec": {
   "display_name": "Python 3 (ipykernel)",
   "language": "python",
   "name": "python3"
  },
  "language_info": {
   "codemirror_mode": {
    "name": "ipython",
    "version": 3
   },
   "file_extension": ".py",
   "mimetype": "text/x-python",
   "name": "python",
   "nbconvert_exporter": "python",
   "pygments_lexer": "ipython3",
   "version": "3.12.4"
  }
 },
 "nbformat": 4,
 "nbformat_minor": 5
}
