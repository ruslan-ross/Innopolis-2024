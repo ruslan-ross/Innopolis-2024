{
 "cells": [
  {
   "attachments": {},
   "cell_type": "markdown",
   "id": "654c955a-cbc2-4275-8fd3-1b9754a2ec9a",
   "metadata": {},
   "source": [
    "## Проанализируем группы клиентов и постараемся ответим на вопрос, какой тип рекламы успешнее. Все выводы об эффективности подтвердим статистическими тестами."
   ]
  },
  {
   "cell_type": "markdown",
   "id": "15cc6135-233d-43ed-91f1-d4c69794acce",
   "metadata": {},
   "source": [
    "### Загрузка и подготовка данных"
   ]
  },
  {
   "cell_type": "code",
   "execution_count": 18,
   "id": "992f58e0-7aab-4bc8-9630-3568ec4f66c3",
   "metadata": {},
   "outputs": [],
   "source": [
    "# Подключаем библиотеки\n",
    "import pandas as pd\n",
    "import numpy as np\n",
    "import matplotlib.pyplot as plt\n",
    "import seaborn as sns\n",
    "from scipy import stats"
   ]
  },
  {
   "cell_type": "code",
   "execution_count": 42,
   "id": "25261e0d-cce0-482a-a784-428c79e0328b",
   "metadata": {},
   "outputs": [
    {
     "data": {
      "text/html": [
       "<div>\n",
       "<style scoped>\n",
       "    .dataframe tbody tr th:only-of-type {\n",
       "        vertical-align: middle;\n",
       "    }\n",
       "\n",
       "    .dataframe tbody tr th {\n",
       "        vertical-align: top;\n",
       "    }\n",
       "\n",
       "    .dataframe thead th {\n",
       "        text-align: right;\n",
       "    }\n",
       "</style>\n",
       "<table border=\"1\" class=\"dataframe\">\n",
       "  <thead>\n",
       "    <tr style=\"text-align: right;\">\n",
       "      <th></th>\n",
       "      <th>Unnamed: 0</th>\n",
       "      <th>user id</th>\n",
       "      <th>test group</th>\n",
       "      <th>converted</th>\n",
       "      <th>total ads</th>\n",
       "      <th>most ads day</th>\n",
       "      <th>most ads hour</th>\n",
       "    </tr>\n",
       "  </thead>\n",
       "  <tbody>\n",
       "    <tr>\n",
       "      <th>0</th>\n",
       "      <td>0</td>\n",
       "      <td>1069124</td>\n",
       "      <td>ad</td>\n",
       "      <td>False</td>\n",
       "      <td>130</td>\n",
       "      <td>Monday</td>\n",
       "      <td>20</td>\n",
       "    </tr>\n",
       "    <tr>\n",
       "      <th>1</th>\n",
       "      <td>1</td>\n",
       "      <td>1119715</td>\n",
       "      <td>ad</td>\n",
       "      <td>False</td>\n",
       "      <td>93</td>\n",
       "      <td>Tuesday</td>\n",
       "      <td>22</td>\n",
       "    </tr>\n",
       "    <tr>\n",
       "      <th>2</th>\n",
       "      <td>2</td>\n",
       "      <td>1144181</td>\n",
       "      <td>ad</td>\n",
       "      <td>False</td>\n",
       "      <td>21</td>\n",
       "      <td>Tuesday</td>\n",
       "      <td>18</td>\n",
       "    </tr>\n",
       "    <tr>\n",
       "      <th>3</th>\n",
       "      <td>3</td>\n",
       "      <td>1435133</td>\n",
       "      <td>ad</td>\n",
       "      <td>False</td>\n",
       "      <td>355</td>\n",
       "      <td>Tuesday</td>\n",
       "      <td>10</td>\n",
       "    </tr>\n",
       "    <tr>\n",
       "      <th>4</th>\n",
       "      <td>4</td>\n",
       "      <td>1015700</td>\n",
       "      <td>ad</td>\n",
       "      <td>False</td>\n",
       "      <td>276</td>\n",
       "      <td>Friday</td>\n",
       "      <td>14</td>\n",
       "    </tr>\n",
       "  </tbody>\n",
       "</table>\n",
       "</div>"
      ],
      "text/plain": [
       "   Unnamed: 0  user id test group  converted  total ads most ads day  \\\n",
       "0           0  1069124         ad      False        130       Monday   \n",
       "1           1  1119715         ad      False         93      Tuesday   \n",
       "2           2  1144181         ad      False         21      Tuesday   \n",
       "3           3  1435133         ad      False        355      Tuesday   \n",
       "4           4  1015700         ad      False        276       Friday   \n",
       "\n",
       "   most ads hour  \n",
       "0             20  \n",
       "1             22  \n",
       "2             18  \n",
       "3             10  \n",
       "4             14  "
      ]
     },
     "execution_count": 42,
     "metadata": {},
     "output_type": "execute_result"
    }
   ],
   "source": [
    "# Считываем csv файл с данными\n",
    "\n",
    "df = pd.read_csv(r\"D:\\marketing_AB.csv\")\n",
    "df.head()"
   ]
  },
  {
   "cell_type": "code",
   "execution_count": 71,
   "id": "b2e4bf85-e659-468b-8aa0-90a33162d545",
   "metadata": {},
   "outputs": [
    {
     "data": {
      "text/html": [
       "<div>\n",
       "<style scoped>\n",
       "    .dataframe tbody tr th:only-of-type {\n",
       "        vertical-align: middle;\n",
       "    }\n",
       "\n",
       "    .dataframe tbody tr th {\n",
       "        vertical-align: top;\n",
       "    }\n",
       "\n",
       "    .dataframe thead th {\n",
       "        text-align: right;\n",
       "    }\n",
       "</style>\n",
       "<table border=\"1\" class=\"dataframe\">\n",
       "  <thead>\n",
       "    <tr style=\"text-align: right;\">\n",
       "      <th></th>\n",
       "      <th>Unnamed: 0</th>\n",
       "      <th>user id</th>\n",
       "      <th>test group</th>\n",
       "      <th>converted</th>\n",
       "      <th>total ads</th>\n",
       "      <th>most ads day</th>\n",
       "      <th>most ads hour</th>\n",
       "      <th>days</th>\n",
       "    </tr>\n",
       "  </thead>\n",
       "  <tbody>\n",
       "    <tr>\n",
       "      <th>0</th>\n",
       "      <td>0</td>\n",
       "      <td>1069124</td>\n",
       "      <td>ad</td>\n",
       "      <td>False</td>\n",
       "      <td>130</td>\n",
       "      <td>Monday</td>\n",
       "      <td>20</td>\n",
       "      <td>work days</td>\n",
       "    </tr>\n",
       "    <tr>\n",
       "      <th>1</th>\n",
       "      <td>1</td>\n",
       "      <td>1119715</td>\n",
       "      <td>ad</td>\n",
       "      <td>False</td>\n",
       "      <td>93</td>\n",
       "      <td>Tuesday</td>\n",
       "      <td>22</td>\n",
       "      <td>work days</td>\n",
       "    </tr>\n",
       "    <tr>\n",
       "      <th>2</th>\n",
       "      <td>2</td>\n",
       "      <td>1144181</td>\n",
       "      <td>ad</td>\n",
       "      <td>False</td>\n",
       "      <td>21</td>\n",
       "      <td>Tuesday</td>\n",
       "      <td>18</td>\n",
       "      <td>work days</td>\n",
       "    </tr>\n",
       "    <tr>\n",
       "      <th>3</th>\n",
       "      <td>3</td>\n",
       "      <td>1435133</td>\n",
       "      <td>ad</td>\n",
       "      <td>False</td>\n",
       "      <td>355</td>\n",
       "      <td>Tuesday</td>\n",
       "      <td>10</td>\n",
       "      <td>work days</td>\n",
       "    </tr>\n",
       "    <tr>\n",
       "      <th>4</th>\n",
       "      <td>4</td>\n",
       "      <td>1015700</td>\n",
       "      <td>ad</td>\n",
       "      <td>False</td>\n",
       "      <td>276</td>\n",
       "      <td>Friday</td>\n",
       "      <td>14</td>\n",
       "      <td>work days</td>\n",
       "    </tr>\n",
       "  </tbody>\n",
       "</table>\n",
       "</div>"
      ],
      "text/plain": [
       "   Unnamed: 0  user id test group  converted  total ads most ads day  \\\n",
       "0           0  1069124         ad      False        130       Monday   \n",
       "1           1  1119715         ad      False         93      Tuesday   \n",
       "2           2  1144181         ad      False         21      Tuesday   \n",
       "3           3  1435133         ad      False        355      Tuesday   \n",
       "4           4  1015700         ad      False        276       Friday   \n",
       "\n",
       "   most ads hour       days  \n",
       "0             20  work days  \n",
       "1             22  work days  \n",
       "2             18  work days  \n",
       "3             10  work days  \n",
       "4             14  work days  "
      ]
     },
     "execution_count": 71,
     "metadata": {},
     "output_type": "execute_result"
    }
   ],
   "source": [
    "# Создадим новый столбец, в котором укажем какой именно день наибольшего количества рекламы - будни или выходные\n",
    "df['days'] = np.where((df['most ads day'] == 'Saturday')|(df['most ads day'] == 'Sunday'), 'weekend', 'work days')\n",
    "df.head()"
   ]
  },
  {
   "cell_type": "code",
   "execution_count": 78,
   "id": "5a99078d-fe07-471b-b899-653d70ab050c",
   "metadata": {},
   "outputs": [
    {
     "data": {
      "text/plain": [
       "(588101, 8)"
      ]
     },
     "execution_count": 78,
     "metadata": {},
     "output_type": "execute_result"
    }
   ],
   "source": [
    "df.shape"
   ]
  },
  {
   "cell_type": "code",
   "execution_count": 72,
   "id": "f9233fc8-90e7-4029-9f03-4cc6c66c7ca1",
   "metadata": {},
   "outputs": [
    {
     "data": {
      "text/plain": [
       "(564577, 8)"
      ]
     },
     "execution_count": 72,
     "metadata": {},
     "output_type": "execute_result"
    }
   ],
   "source": [
    "# Создадим датасет по группе А - те, кто видел базовую рекламу ad\n",
    "group_a = df[df['test group'] == \"ad\"]\n",
    "group_a.shape"
   ]
  },
  {
   "cell_type": "code",
   "execution_count": 73,
   "id": "d9733382-3b5e-4449-81b4-cfad97c509f0",
   "metadata": {},
   "outputs": [
    {
     "data": {
      "text/plain": [
       "(23524, 8)"
      ]
     },
     "execution_count": 73,
     "metadata": {},
     "output_type": "execute_result"
    }
   ],
   "source": [
    "# Создадим датасет по группе B - те, кто видел социальную рекламу psa\n",
    "group_b = df[df['test group'] == \"psa\"]\n",
    "group_b.shape"
   ]
  },
  {
   "cell_type": "code",
   "execution_count": 74,
   "id": "77ea0c02-f47e-4718-b34c-fcc580d0d7eb",
   "metadata": {},
   "outputs": [
    {
     "data": {
      "text/plain": [
       "(14843, 8)"
      ]
     },
     "execution_count": 74,
     "metadata": {},
     "output_type": "execute_result"
    }
   ],
   "source": [
    "# Количество людей, которые купили продукт\n",
    "df[df['converted'] == True].shape"
   ]
  },
  {
   "cell_type": "code",
   "execution_count": 75,
   "id": "253e0394-b52d-4933-a52d-c67c27fc982a",
   "metadata": {},
   "outputs": [
    {
     "data": {
      "text/plain": [
       "(14423, 8)"
      ]
     },
     "execution_count": 75,
     "metadata": {},
     "output_type": "execute_result"
    }
   ],
   "source": [
    "# Количество людей из группы А, которые купили продукт\n",
    "group_a[group_a['converted'] == True].shape"
   ]
  },
  {
   "cell_type": "code",
   "execution_count": 76,
   "id": "be075a4c-69b3-4633-8506-ff5e4377eb15",
   "metadata": {},
   "outputs": [
    {
     "data": {
      "text/plain": [
       "(420, 8)"
      ]
     },
     "execution_count": 76,
     "metadata": {},
     "output_type": "execute_result"
    }
   ],
   "source": [
    "# Количество людей из группы B, которые купили продукт\n",
    "group_b[group_b['converted'] == True].shape"
   ]
  },
  {
   "cell_type": "markdown",
   "id": "abf2f5e9-b270-41c8-bb2a-02ee90b50e6f",
   "metadata": {},
   "source": [
    "### Расчет конверсии"
   ]
  },
  {
   "cell_type": "code",
   "execution_count": null,
   "id": "0c96937d-d12e-4d21-937a-38a4d93ce6fc",
   "metadata": {},
   "outputs": [],
   "source": [
    "print('Конверсия общая:', df[df['converted'] == True].shape[0] / df.shape[0])\n",
    "print('Конверсия группы А:', group_a[group_a['Purchased'] == 1].shape[0] / group_a.shape[0])\n",
    "print('Конверсия группы Б:', group_b[group_b['Purchased'] == 1].shape[0] / group_b.shape[0])"
   ]
  },
  {
   "cell_type": "code",
   "execution_count": null,
   "id": "c585f635-fba3-4bb6-afb2-2fde296850db",
   "metadata": {},
   "outputs": [],
   "source": []
  }
 ],
 "metadata": {
  "kernelspec": {
   "display_name": "Python 3 (ipykernel)",
   "language": "python",
   "name": "python3"
  },
  "language_info": {
   "codemirror_mode": {
    "name": "ipython",
    "version": 3
   },
   "file_extension": ".py",
   "mimetype": "text/x-python",
   "name": "python",
   "nbconvert_exporter": "python",
   "pygments_lexer": "ipython3",
   "version": "3.12.4"
  }
 },
 "nbformat": 4,
 "nbformat_minor": 5
}
