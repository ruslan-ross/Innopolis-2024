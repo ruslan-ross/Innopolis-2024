{
 "cells": [
  {
   "cell_type": "markdown",
   "id": "f8dac0e8-f9f3-4488-9599-d1d8691d06ce",
   "metadata": {},
   "source": [
    "### Буду менять названия переменных по возможности на транслит, чтобы не было будто ctrl+c, ctrl+v"
   ]
  },
  {
   "cell_type": "code",
   "execution_count": 1,
   "id": "31cc10fe-e3cf-43de-bf8a-e731c6e26e02",
   "metadata": {},
   "outputs": [],
   "source": [
    "# Подключаем библиотеки\n",
    "\n",
    "import pandas as pd\n",
    "import numpy as np"
   ]
  },
  {
   "cell_type": "code",
   "execution_count": 2,
   "id": "734c438d-6eb9-4334-863e-3860a94675a1",
   "metadata": {},
   "outputs": [],
   "source": [
    "# Подключаем библиотеку для коннекта с базой sql и коннектимся к базе \"Демо\"\n",
    "\n",
    "import psycopg2\n",
    "soedinenie = psycopg2.connect(\"dbname='demo' user='postgres' host='localhost' port='5432' password='r128256512'\")"
   ]
  },
  {
   "cell_type": "code",
   "execution_count": 3,
   "id": "8f5d4d89-e519-4dd9-8e58-91f3e6f4ab0a",
   "metadata": {},
   "outputs": [
    {
     "name": "stderr",
     "output_type": "stream",
     "text": [
      "C:\\Users\\Руслан\\AppData\\Local\\Temp\\ipykernel_6972\\2557928005.py:62: UserWarning: pandas only supports SQLAlchemy connectable (engine/connection) or database string URI or sqlite3 DBAPI2 connection. Other DBAPI2 objects are not tested. Please consider using SQLAlchemy.\n",
      "  tablica = pd.read_sql(zapros, con=soedinenie)\n"
     ]
    },
    {
     "data": {
      "text/html": [
       "<div>\n",
       "<style scoped>\n",
       "    .dataframe tbody tr th:only-of-type {\n",
       "        vertical-align: middle;\n",
       "    }\n",
       "\n",
       "    .dataframe tbody tr th {\n",
       "        vertical-align: top;\n",
       "    }\n",
       "\n",
       "    .dataframe thead th {\n",
       "        text-align: right;\n",
       "    }\n",
       "</style>\n",
       "<table border=\"1\" class=\"dataframe\">\n",
       "  <thead>\n",
       "    <tr style=\"text-align: right;\">\n",
       "      <th></th>\n",
       "      <th>id_poleta</th>\n",
       "      <th>samolet</th>\n",
       "      <th>max_rass</th>\n",
       "      <th>nachalo_poleta</th>\n",
       "      <th>konec_poleta</th>\n",
       "      <th>kilometraj</th>\n",
       "      <th>srednee_km</th>\n",
       "      <th>summa_za_reis</th>\n",
       "      <th>marka</th>\n",
       "    </tr>\n",
       "  </thead>\n",
       "  <tbody>\n",
       "    <tr>\n",
       "      <th>0</th>\n",
       "      <td>1</td>\n",
       "      <td>Airbus A321-200</td>\n",
       "      <td>5600</td>\n",
       "      <td>Домодедово</td>\n",
       "      <td>Пулково</td>\n",
       "      <td>666.883841</td>\n",
       "      <td>1024.622756</td>\n",
       "      <td>922100.0</td>\n",
       "      <td>Airbus</td>\n",
       "    </tr>\n",
       "    <tr>\n",
       "      <th>1</th>\n",
       "      <td>2</td>\n",
       "      <td>Airbus A321-200</td>\n",
       "      <td>5600</td>\n",
       "      <td>Домодедово</td>\n",
       "      <td>Пулково</td>\n",
       "      <td>666.883841</td>\n",
       "      <td>1024.622756</td>\n",
       "      <td>1075800.0</td>\n",
       "      <td>Airbus</td>\n",
       "    </tr>\n",
       "    <tr>\n",
       "      <th>2</th>\n",
       "      <td>5</td>\n",
       "      <td>Airbus A321-200</td>\n",
       "      <td>5600</td>\n",
       "      <td>Домодедово</td>\n",
       "      <td>Пулково</td>\n",
       "      <td>666.883841</td>\n",
       "      <td>1024.622756</td>\n",
       "      <td>449400.0</td>\n",
       "      <td>Airbus</td>\n",
       "    </tr>\n",
       "    <tr>\n",
       "      <th>3</th>\n",
       "      <td>6</td>\n",
       "      <td>Airbus A321-200</td>\n",
       "      <td>5600</td>\n",
       "      <td>Домодедово</td>\n",
       "      <td>Пулково</td>\n",
       "      <td>666.883841</td>\n",
       "      <td>1024.622756</td>\n",
       "      <td>847400.0</td>\n",
       "      <td>Airbus</td>\n",
       "    </tr>\n",
       "    <tr>\n",
       "      <th>4</th>\n",
       "      <td>9</td>\n",
       "      <td>Airbus A321-200</td>\n",
       "      <td>5600</td>\n",
       "      <td>Домодедово</td>\n",
       "      <td>Пулково</td>\n",
       "      <td>666.883841</td>\n",
       "      <td>1024.622756</td>\n",
       "      <td>891100.0</td>\n",
       "      <td>Airbus</td>\n",
       "    </tr>\n",
       "    <tr>\n",
       "      <th>...</th>\n",
       "      <td>...</td>\n",
       "      <td>...</td>\n",
       "      <td>...</td>\n",
       "      <td>...</td>\n",
       "      <td>...</td>\n",
       "      <td>...</td>\n",
       "      <td>...</td>\n",
       "      <td>...</td>\n",
       "      <td>...</td>\n",
       "    </tr>\n",
       "    <tr>\n",
       "      <th>24673</th>\n",
       "      <td>65297</td>\n",
       "      <td>Sukhoi Superjet-100</td>\n",
       "      <td>3000</td>\n",
       "      <td>Беслан</td>\n",
       "      <td>Внуково</td>\n",
       "      <td>1474.333621</td>\n",
       "      <td>1154.592627</td>\n",
       "      <td>250100.0</td>\n",
       "      <td>Sukhoi</td>\n",
       "    </tr>\n",
       "    <tr>\n",
       "      <th>24674</th>\n",
       "      <td>65298</td>\n",
       "      <td>Sukhoi Superjet-100</td>\n",
       "      <td>3000</td>\n",
       "      <td>Беслан</td>\n",
       "      <td>Внуково</td>\n",
       "      <td>1474.333621</td>\n",
       "      <td>1154.592627</td>\n",
       "      <td>29400.0</td>\n",
       "      <td>Sukhoi</td>\n",
       "    </tr>\n",
       "    <tr>\n",
       "      <th>24675</th>\n",
       "      <td>65299</td>\n",
       "      <td>Sukhoi Superjet-100</td>\n",
       "      <td>3000</td>\n",
       "      <td>Беслан</td>\n",
       "      <td>Внуково</td>\n",
       "      <td>1474.333621</td>\n",
       "      <td>1154.592627</td>\n",
       "      <td>176500.0</td>\n",
       "      <td>Sukhoi</td>\n",
       "    </tr>\n",
       "    <tr>\n",
       "      <th>24676</th>\n",
       "      <td>65300</td>\n",
       "      <td>Sukhoi Superjet-100</td>\n",
       "      <td>3000</td>\n",
       "      <td>Беслан</td>\n",
       "      <td>Внуково</td>\n",
       "      <td>1474.333621</td>\n",
       "      <td>1154.592627</td>\n",
       "      <td>441300.0</td>\n",
       "      <td>Sukhoi</td>\n",
       "    </tr>\n",
       "    <tr>\n",
       "      <th>24677</th>\n",
       "      <td>65301</td>\n",
       "      <td>Sukhoi Superjet-100</td>\n",
       "      <td>3000</td>\n",
       "      <td>Беслан</td>\n",
       "      <td>Внуково</td>\n",
       "      <td>1474.333621</td>\n",
       "      <td>1154.592627</td>\n",
       "      <td>367800.0</td>\n",
       "      <td>Sukhoi</td>\n",
       "    </tr>\n",
       "  </tbody>\n",
       "</table>\n",
       "<p>24678 rows × 9 columns</p>\n",
       "</div>"
      ],
      "text/plain": [
       "       id_poleta              samolet  max_rass nachalo_poleta konec_poleta  \\\n",
       "0              1      Airbus A321-200      5600     Домодедово      Пулково   \n",
       "1              2      Airbus A321-200      5600     Домодедово      Пулково   \n",
       "2              5      Airbus A321-200      5600     Домодедово      Пулково   \n",
       "3              6      Airbus A321-200      5600     Домодедово      Пулково   \n",
       "4              9      Airbus A321-200      5600     Домодедово      Пулково   \n",
       "...          ...                  ...       ...            ...          ...   \n",
       "24673      65297  Sukhoi Superjet-100      3000         Беслан      Внуково   \n",
       "24674      65298  Sukhoi Superjet-100      3000         Беслан      Внуково   \n",
       "24675      65299  Sukhoi Superjet-100      3000         Беслан      Внуково   \n",
       "24676      65300  Sukhoi Superjet-100      3000         Беслан      Внуково   \n",
       "24677      65301  Sukhoi Superjet-100      3000         Беслан      Внуково   \n",
       "\n",
       "        kilometraj   srednee_km  summa_za_reis   marka  \n",
       "0       666.883841  1024.622756       922100.0  Airbus  \n",
       "1       666.883841  1024.622756      1075800.0  Airbus  \n",
       "2       666.883841  1024.622756       449400.0  Airbus  \n",
       "3       666.883841  1024.622756       847400.0  Airbus  \n",
       "4       666.883841  1024.622756       891100.0  Airbus  \n",
       "...            ...          ...            ...     ...  \n",
       "24673  1474.333621  1154.592627       250100.0  Sukhoi  \n",
       "24674  1474.333621  1154.592627        29400.0  Sukhoi  \n",
       "24675  1474.333621  1154.592627       176500.0  Sukhoi  \n",
       "24676  1474.333621  1154.592627       441300.0  Sukhoi  \n",
       "24677  1474.333621  1154.592627       367800.0  Sukhoi  \n",
       "\n",
       "[24678 rows x 9 columns]"
      ]
     },
     "execution_count": 3,
     "metadata": {},
     "output_type": "execute_result"
    }
   ],
   "source": [
    "# Формируем запрос к базе \"Демо\" на языке SQL\n",
    "\n",
    "zapros = \"\"\"\n",
    "WITH analiz AS\n",
    "(\t\n",
    "\tSELECT\n",
    "\t\taircrafts.model::jsonb->>'en' AS samolet,\n",
    "\t\taircrafts.range AS max_rass,\n",
    "\t\tflights.flight_id AS ID_poleta,\n",
    "\t\tdep_air.airport_name::jsonb->'ru' AS nachalo_poleta,\n",
    "\t\tarr_air.airport_name::jsonb->'ru' AS konec_poleta,\n",
    "\t\tACOS((SIN(PI()*dep_air.coordinates[1]/180)*SIN(PI()*arr_air.coordinates[1]/180))+(COS(PI()*dep_air.coordinates[1]/180)*COS(PI()*arr_air.coordinates[1]/180)*COS(PI()*dep_air.coordinates[0]/180-PI()*arr_air.coordinates[0]/180)))*6371 AS kilometraj\n",
    "\tFROM\n",
    "\t\taircrafts_data AS aircrafts\n",
    "\tJOIN\n",
    "\t\tflights\n",
    "\t\tON aircrafts.aircraft_code = flights.aircraft_code\n",
    "\tJOIN\n",
    "\t\tairports_data AS dep_air\n",
    "\t\tON flights.departure_airport = dep_air.airport_code\n",
    "\tJOIN\n",
    "\t\tairports_data AS arr_air\n",
    "\t\tON flights.arrival_airport = arr_air.airport_code\n",
    ")\n",
    "SELECT\n",
    "\tID_poleta,\n",
    "\tsamolet,\n",
    "\tmax_rass,\n",
    "\tnachalo_poleta,\n",
    "\tkonec_poleta,\n",
    "\tkilometraj,\n",
    "\tAVG(kilometraj) OVER(PARTITION BY samolet) AS srednee_km,\n",
    "\tSUM (tick.amount) AS summa_za_reis,\n",
    "\tCASE \n",
    "\t\tWHEN samolet LIKE '%Boeing%' THEN 'Boeing'\n",
    "\t\tWHEN samolet LIKE '%Sukhoi%' THEN 'Sukhoi'\n",
    "\t\tWHEN samolet LIKE '%Airbus%' THEN 'Airbus'\n",
    "\tEND AS marka\n",
    "FROM\n",
    "\tanaliz\n",
    "JOIN\n",
    "\tticket_flights AS tick\n",
    "\tON analiz.ID_poleta = tick.flight_id\n",
    "WHERE\n",
    "\tsamolet LIKE '%Boeing%' \n",
    "\tOR samolet LIKE '%Sukhoi%'\n",
    "\tOR samolet LIKE '%Airbus%'\n",
    "GROUP BY\n",
    "\tID_poleta,\n",
    "\tsamolet,\n",
    "\tmax_rass,\n",
    "\tID_poleta,\n",
    "\tnachalo_poleta,\n",
    "\tkonec_poleta,\n",
    "\tkilometraj\n",
    "ORDER BY\n",
    "\tID_poleta\n",
    "\"\"\"\n",
    "\n",
    "# Отправляем запрос и вытаскиваем данные в переменную\n",
    "\n",
    "tablica = pd.read_sql(zapros, con=soedinenie)\n",
    "tablica"
   ]
  },
  {
   "cell_type": "code",
   "execution_count": 4,
   "id": "70cd6b95-7c8c-46c6-ba36-f16e302fa220",
   "metadata": {},
   "outputs": [
    {
     "data": {
      "text/plain": [
       "(24678, 9)"
      ]
     },
     "execution_count": 4,
     "metadata": {},
     "output_type": "execute_result"
    }
   ],
   "source": [
    "# Показываем количество строк и столбцов\n",
    "\n",
    "tablica.shape"
   ]
  },
  {
   "cell_type": "code",
   "execution_count": 5,
   "id": "04b1696a-463d-49b7-a66e-bd19ea15aaad",
   "metadata": {},
   "outputs": [
    {
     "data": {
      "text/plain": [
       "id_poleta           int64\n",
       "samolet            object\n",
       "max_rass            int64\n",
       "nachalo_poleta     object\n",
       "konec_poleta       object\n",
       "kilometraj        float64\n",
       "srednee_km        float64\n",
       "summa_za_reis     float64\n",
       "marka              object\n",
       "dtype: object"
      ]
     },
     "execution_count": 5,
     "metadata": {},
     "output_type": "execute_result"
    }
   ],
   "source": [
    "# Показываем типы данных по столбцам\n",
    "\n",
    "tablica.dtypes"
   ]
  },
  {
   "cell_type": "code",
   "execution_count": 6,
   "id": "d4048398-129f-48f3-865a-377f36038911",
   "metadata": {},
   "outputs": [
    {
     "name": "stdout",
     "output_type": "stream",
     "text": [
      "['Airbus' 'Boeing' 'Sukhoi']\n",
      "3\n"
     ]
    }
   ],
   "source": [
    "# Считаем количество уникальных значений по строковой переменной\n",
    "\n",
    "print(tablica['marka'].unique())\n",
    "print(tablica['marka'].unique().size)"
   ]
  },
  {
   "cell_type": "code",
   "execution_count": 7,
   "id": "a1db1edd-2f50-4cd6-8f0a-8fdd6f442d95",
   "metadata": {},
   "outputs": [
    {
     "data": {
      "text/plain": [
       "marka\n",
       "Sukhoi    13980\n",
       "Boeing     5937\n",
       "Airbus     4761\n",
       "Name: count, dtype: int64"
      ]
     },
     "execution_count": 7,
     "metadata": {},
     "output_type": "execute_result"
    }
   ],
   "source": [
    "# Считаем частоту встречающихся значений по строковой переменной\n",
    "\n",
    "tablica['marka'].value_counts()"
   ]
  },
  {
   "cell_type": "code",
   "execution_count": 8,
   "id": "1723122f-7ceb-4ec0-beef-864b1606932d",
   "metadata": {},
   "outputs": [
    {
     "name": "stdout",
     "output_type": "stream",
     "text": [
      "Минимальный километраж -  304.3019636114598\n",
      "Средний километраж -  1682.9512922473236\n",
      "Максимальный километраж -  6774.7292687675135\n",
      "Медиана по километражу -  1168.3448688604883\n"
     ]
    }
   ],
   "source": [
    "# Считаем минимум, среднюю, медиану, максимум по числовой переменной\n",
    "\n",
    "print('Минимальный километраж - ', tablica['kilometraj'].min())\n",
    "print('Средний километраж - ', tablica['kilometraj'].mean())\n",
    "print('Максимальный километраж - ', tablica['kilometraj'].max())\n",
    "print('Медиана по километражу - ', np.median(tablica['kilometraj']))"
   ]
  },
  {
   "cell_type": "code",
   "execution_count": 9,
   "id": "67664727-2039-4bf6-9a38-ebc25e08d8b9",
   "metadata": {},
   "outputs": [
    {
     "data": {
      "text/plain": [
       "count    24678.000000\n",
       "mean      1682.951292\n",
       "std       1556.967041\n",
       "min        304.301964\n",
       "25%        629.860554\n",
       "50%       1168.344869\n",
       "75%       1908.399432\n",
       "max       6774.729269\n",
       "Name: kilometraj, dtype: float64"
      ]
     },
     "execution_count": 9,
     "metadata": {},
     "output_type": "execute_result"
    }
   ],
   "source": [
    "# Сравним найденные значения со значениями функции .describe()\n",
    "\n",
    "tablica['kilometraj'].describe()"
   ]
  },
  {
   "cell_type": "code",
   "execution_count": 10,
   "id": "f0b4c23a-ab79-4ed3-baf2-9823ccc4a654",
   "metadata": {},
   "outputs": [],
   "source": [
    "# Получается всё верно!"
   ]
  }
 ],
 "metadata": {
  "kernelspec": {
   "display_name": "Python 3 (ipykernel)",
   "language": "python",
   "name": "python3"
  },
  "language_info": {
   "codemirror_mode": {
    "name": "ipython",
    "version": 3
   },
   "file_extension": ".py",
   "mimetype": "text/x-python",
   "name": "python",
   "nbconvert_exporter": "python",
   "pygments_lexer": "ipython3",
   "version": "3.12.4"
  }
 },
 "nbformat": 4,
 "nbformat_minor": 5
}
