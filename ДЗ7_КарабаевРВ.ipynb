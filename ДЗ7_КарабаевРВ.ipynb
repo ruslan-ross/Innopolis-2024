{
 "cells": [
  {
   "cell_type": "markdown",
   "id": "7b879230-0f33-4cd2-8587-438e031f7efd",
   "metadata": {},
   "source": [
    "### Выбираем датасет, подключаем и изучаем его"
   ]
  },
  {
   "cell_type": "code",
   "execution_count": 1,
   "id": "992f58e0-7aab-4bc8-9630-3568ec4f66c3",
   "metadata": {},
   "outputs": [],
   "source": [
    "# Подключаем библиотеки numpy и pandas\n",
    "\n",
    "import numpy as np\n",
    "import pandas as pd"
   ]
  },
  {
   "cell_type": "code",
   "execution_count": 2,
   "id": "e63c2999-1ccf-4eb4-9b2b-91096d5fede3",
   "metadata": {},
   "outputs": [],
   "source": [
    "# Считываем csv файл с данными про открытие планет\n",
    "\n",
    "df_planets = pd.read_csv(r\"D:\\Innopolis-2024\\Planets.csv\")"
   ]
  },
  {
   "cell_type": "code",
   "execution_count": 3,
   "id": "9de952fe-a8db-42a8-9594-712f3263db1a",
   "metadata": {},
   "outputs": [
    {
     "ename": "NameError",
     "evalue": "name 'df_planets' is not defined",
     "output_type": "error",
     "traceback": [
      "\u001b[1;31m---------------------------------------------------------------------------\u001b[0m",
      "\u001b[1;31mNameError\u001b[0m                                 Traceback (most recent call last)",
      "Cell \u001b[1;32mIn[3], line 4\u001b[0m\n\u001b[0;32m      1\u001b[0m \u001b[38;5;66;03m# Поссмотрим как выглядит табличка, увидим столбцы Метод открытия, номер (не понятно для чего), \u001b[39;00m\n\u001b[0;32m      2\u001b[0m \u001b[38;5;66;03m# орбитальный период, масса, дистанция в световых годах, год открытия\u001b[39;00m\n\u001b[1;32m----> 4\u001b[0m df_planets\u001b[38;5;241m.\u001b[39mdescribe()\n",
      "\u001b[1;31mNameError\u001b[0m: name 'df_planets' is not defined"
     ]
    }
   ],
   "source": [
    "# Поссмотрим как выглядит табличка, увидим столбцы Метод открытия, номер (не понятно для чего), \n",
    "# орбитальный период, масса, дистанция в световых годах, год открытия\n",
    "\n",
    "df_planets.describe()"
   ]
  },
  {
   "cell_type": "code",
   "execution_count": 4,
   "id": "5b47c463-6eeb-433f-b058-7d49bec6c365",
   "metadata": {},
   "outputs": [
    {
     "data": {
      "text/plain": [
       "array(['Radial Velocity', 'Imaging', 'Eclipse Timing Variations',\n",
       "       'Transit', 'Astrometry', 'Transit Timing Variations',\n",
       "       'Orbital Brightness Modulation', 'Microlensing', 'Pulsar Timing',\n",
       "       'Pulsation Timing Variations'], dtype=object)"
      ]
     },
     "execution_count": 4,
     "metadata": {},
     "output_type": "execute_result"
    }
   ],
   "source": [
    "# Рассмотрим какие методы открытия планет есть в таблице\n",
    "\n",
    "df_planets['method'].unique()"
   ]
  },
  {
   "cell_type": "code",
   "execution_count": 5,
   "id": "1f8f0aa5-2126-4a08-bff7-f111fa711d57",
   "metadata": {},
   "outputs": [
    {
     "data": {
      "text/plain": [
       "count    1035.000000\n",
       "mean     2009.070531\n",
       "std         3.972567\n",
       "min      1989.000000\n",
       "25%      2007.000000\n",
       "50%      2010.000000\n",
       "75%      2012.000000\n",
       "max      2014.000000\n",
       "Name: year, dtype: float64"
      ]
     },
     "execution_count": 5,
     "metadata": {},
     "output_type": "execute_result"
    }
   ],
   "source": [
    "# Рассмотрим статистику по столбцу Год открытия\n",
    "\n",
    "df_planets['year'].describe()"
   ]
  },
  {
   "cell_type": "code",
   "execution_count": 6,
   "id": "1313e016-8fa0-48f3-b343-01a9d5ac1be8",
   "metadata": {},
   "outputs": [
    {
     "data": {
      "text/plain": [
       "(1035, 6)"
      ]
     },
     "execution_count": 6,
     "metadata": {},
     "output_type": "execute_result"
    }
   ],
   "source": [
    "# Рассчитаем количество строк и столбцов в датафрейме Planets\n",
    "\n",
    "df_planets.shape"
   ]
  },
  {
   "cell_type": "markdown",
   "id": "a7ce3919-df2e-4277-b033-b8a922f13f53",
   "metadata": {},
   "source": [
    "### Делим датасет на 2 части и собираем обратно"
   ]
  },
  {
   "cell_type": "code",
   "execution_count": 7,
   "id": "35012e96-1992-45f3-a618-9caebea5acfa",
   "metadata": {},
   "outputs": [
    {
     "data": {
      "text/plain": [
       "(438, 6)"
      ]
     },
     "execution_count": 7,
     "metadata": {},
     "output_type": "execute_result"
    }
   ],
   "source": [
    "# Создаем новый датафрейм, который является частью датафрейма Planets, с открытиями планет, которые произошли ранее 2009 года включительно\n",
    "# Расчитываем количество строк и столбцов\n",
    "\n",
    "df_pl_1 = df_planets.loc[df_planets['year'] <= 2009]\n",
    "df_pl_1.shape"
   ]
  },
  {
   "cell_type": "code",
   "execution_count": 8,
   "id": "e111d98d-de63-48fb-8d54-b95e51238de7",
   "metadata": {},
   "outputs": [
    {
     "data": {
      "text/plain": [
       "(597, 6)"
      ]
     },
     "execution_count": 8,
     "metadata": {},
     "output_type": "execute_result"
    }
   ],
   "source": [
    "# Создаем новый датафрейм, который является частью датафрейма Planets, с открытиями планет, которые произошли позднее 2009 года\n",
    "# Расчитываем количество строк и столбцов\n",
    "\n",
    "df_pl_2 = df_planets.loc[df_planets['year'] > 2009]\n",
    "df_pl_2.shape"
   ]
  },
  {
   "cell_type": "code",
   "execution_count": 9,
   "id": "2ad779f9-caf6-4ee7-ae65-0497282d536e",
   "metadata": {},
   "outputs": [
    {
     "data": {
      "text/plain": [
       "array([ True,  True,  True,  True,  True,  True])"
      ]
     },
     "execution_count": 9,
     "metadata": {},
     "output_type": "execute_result"
    }
   ],
   "source": [
    "# Проверяем схожесть столбцов двух новых датафреймов\n",
    "\n",
    "df_pl_1.columns == df_pl_2.columns"
   ]
  },
  {
   "cell_type": "code",
   "execution_count": 10,
   "id": "d0bebf22-7ca0-4cb0-be7e-0d455b6b69c5",
   "metadata": {},
   "outputs": [
    {
     "data": {
      "text/html": [
       "<div>\n",
       "<style scoped>\n",
       "    .dataframe tbody tr th:only-of-type {\n",
       "        vertical-align: middle;\n",
       "    }\n",
       "\n",
       "    .dataframe tbody tr th {\n",
       "        vertical-align: top;\n",
       "    }\n",
       "\n",
       "    .dataframe thead th {\n",
       "        text-align: right;\n",
       "    }\n",
       "</style>\n",
       "<table border=\"1\" class=\"dataframe\">\n",
       "  <thead>\n",
       "    <tr style=\"text-align: right;\">\n",
       "      <th></th>\n",
       "      <th>method</th>\n",
       "      <th>number</th>\n",
       "      <th>orbital_period</th>\n",
       "      <th>mass</th>\n",
       "      <th>distance</th>\n",
       "      <th>year</th>\n",
       "    </tr>\n",
       "  </thead>\n",
       "  <tbody>\n",
       "    <tr>\n",
       "      <th>0</th>\n",
       "      <td>Radial Velocity</td>\n",
       "      <td>1</td>\n",
       "      <td>269.300000</td>\n",
       "      <td>7.10</td>\n",
       "      <td>77.40</td>\n",
       "      <td>2006</td>\n",
       "    </tr>\n",
       "    <tr>\n",
       "      <th>1</th>\n",
       "      <td>Radial Velocity</td>\n",
       "      <td>1</td>\n",
       "      <td>874.774000</td>\n",
       "      <td>2.21</td>\n",
       "      <td>56.95</td>\n",
       "      <td>2008</td>\n",
       "    </tr>\n",
       "    <tr>\n",
       "      <th>2</th>\n",
       "      <td>Radial Velocity</td>\n",
       "      <td>1</td>\n",
       "      <td>763.000000</td>\n",
       "      <td>2.60</td>\n",
       "      <td>19.84</td>\n",
       "      <td>2011</td>\n",
       "    </tr>\n",
       "    <tr>\n",
       "      <th>3</th>\n",
       "      <td>Radial Velocity</td>\n",
       "      <td>1</td>\n",
       "      <td>326.030000</td>\n",
       "      <td>19.40</td>\n",
       "      <td>110.62</td>\n",
       "      <td>2007</td>\n",
       "    </tr>\n",
       "    <tr>\n",
       "      <th>4</th>\n",
       "      <td>Radial Velocity</td>\n",
       "      <td>1</td>\n",
       "      <td>516.220000</td>\n",
       "      <td>10.50</td>\n",
       "      <td>119.47</td>\n",
       "      <td>2009</td>\n",
       "    </tr>\n",
       "    <tr>\n",
       "      <th>...</th>\n",
       "      <td>...</td>\n",
       "      <td>...</td>\n",
       "      <td>...</td>\n",
       "      <td>...</td>\n",
       "      <td>...</td>\n",
       "      <td>...</td>\n",
       "    </tr>\n",
       "    <tr>\n",
       "      <th>1030</th>\n",
       "      <td>Transit</td>\n",
       "      <td>1</td>\n",
       "      <td>3.941507</td>\n",
       "      <td>NaN</td>\n",
       "      <td>172.00</td>\n",
       "      <td>2006</td>\n",
       "    </tr>\n",
       "    <tr>\n",
       "      <th>1031</th>\n",
       "      <td>Transit</td>\n",
       "      <td>1</td>\n",
       "      <td>2.615864</td>\n",
       "      <td>NaN</td>\n",
       "      <td>148.00</td>\n",
       "      <td>2007</td>\n",
       "    </tr>\n",
       "    <tr>\n",
       "      <th>1032</th>\n",
       "      <td>Transit</td>\n",
       "      <td>1</td>\n",
       "      <td>3.191524</td>\n",
       "      <td>NaN</td>\n",
       "      <td>174.00</td>\n",
       "      <td>2007</td>\n",
       "    </tr>\n",
       "    <tr>\n",
       "      <th>1033</th>\n",
       "      <td>Transit</td>\n",
       "      <td>1</td>\n",
       "      <td>4.125083</td>\n",
       "      <td>NaN</td>\n",
       "      <td>293.00</td>\n",
       "      <td>2008</td>\n",
       "    </tr>\n",
       "    <tr>\n",
       "      <th>1034</th>\n",
       "      <td>Transit</td>\n",
       "      <td>1</td>\n",
       "      <td>4.187757</td>\n",
       "      <td>NaN</td>\n",
       "      <td>260.00</td>\n",
       "      <td>2008</td>\n",
       "    </tr>\n",
       "  </tbody>\n",
       "</table>\n",
       "<p>1035 rows × 6 columns</p>\n",
       "</div>"
      ],
      "text/plain": [
       "               method  number  orbital_period   mass  distance  year\n",
       "0     Radial Velocity       1      269.300000   7.10     77.40  2006\n",
       "1     Radial Velocity       1      874.774000   2.21     56.95  2008\n",
       "2     Radial Velocity       1      763.000000   2.60     19.84  2011\n",
       "3     Radial Velocity       1      326.030000  19.40    110.62  2007\n",
       "4     Radial Velocity       1      516.220000  10.50    119.47  2009\n",
       "...               ...     ...             ...    ...       ...   ...\n",
       "1030          Transit       1        3.941507    NaN    172.00  2006\n",
       "1031          Transit       1        2.615864    NaN    148.00  2007\n",
       "1032          Transit       1        3.191524    NaN    174.00  2007\n",
       "1033          Transit       1        4.125083    NaN    293.00  2008\n",
       "1034          Transit       1        4.187757    NaN    260.00  2008\n",
       "\n",
       "[1035 rows x 6 columns]"
      ]
     },
     "execution_count": 10,
     "metadata": {},
     "output_type": "execute_result"
    }
   ],
   "source": [
    "# Соединяем два новых датафрейма обратно в один целый и сразу же сортируем по индексу\n",
    "\n",
    "pd.concat([df_pl_1, df_pl_2]).sort_index()"
   ]
  },
  {
   "cell_type": "markdown",
   "id": "2dc70cbb-1c46-4d56-b7cb-ed821e6bc157",
   "metadata": {},
   "source": [
    "### Проверим, есть ли в датасете дубликаты, если есть удалим"
   ]
  },
  {
   "cell_type": "code",
   "execution_count": 11,
   "id": "98e51761-81fe-43f4-bed5-e0102a4513b3",
   "metadata": {},
   "outputs": [
    {
     "data": {
      "text/html": [
       "<div>\n",
       "<style scoped>\n",
       "    .dataframe tbody tr th:only-of-type {\n",
       "        vertical-align: middle;\n",
       "    }\n",
       "\n",
       "    .dataframe tbody tr th {\n",
       "        vertical-align: top;\n",
       "    }\n",
       "\n",
       "    .dataframe thead th {\n",
       "        text-align: right;\n",
       "    }\n",
       "</style>\n",
       "<table border=\"1\" class=\"dataframe\">\n",
       "  <thead>\n",
       "    <tr style=\"text-align: right;\">\n",
       "      <th></th>\n",
       "      <th>method</th>\n",
       "      <th>number</th>\n",
       "      <th>orbital_period</th>\n",
       "      <th>mass</th>\n",
       "      <th>distance</th>\n",
       "      <th>year</th>\n",
       "    </tr>\n",
       "  </thead>\n",
       "  <tbody>\n",
       "    <tr>\n",
       "      <th>903</th>\n",
       "      <td>Microlensing</td>\n",
       "      <td>1</td>\n",
       "      <td>NaN</td>\n",
       "      <td>NaN</td>\n",
       "      <td>NaN</td>\n",
       "      <td>2008</td>\n",
       "    </tr>\n",
       "    <tr>\n",
       "      <th>923</th>\n",
       "      <td>Microlensing</td>\n",
       "      <td>1</td>\n",
       "      <td>NaN</td>\n",
       "      <td>NaN</td>\n",
       "      <td>NaN</td>\n",
       "      <td>2009</td>\n",
       "    </tr>\n",
       "    <tr>\n",
       "      <th>926</th>\n",
       "      <td>Microlensing</td>\n",
       "      <td>2</td>\n",
       "      <td>NaN</td>\n",
       "      <td>NaN</td>\n",
       "      <td>4080.0</td>\n",
       "      <td>2012</td>\n",
       "    </tr>\n",
       "    <tr>\n",
       "      <th>957</th>\n",
       "      <td>Imaging</td>\n",
       "      <td>1</td>\n",
       "      <td>NaN</td>\n",
       "      <td>NaN</td>\n",
       "      <td>NaN</td>\n",
       "      <td>2008</td>\n",
       "    </tr>\n",
       "  </tbody>\n",
       "</table>\n",
       "</div>"
      ],
      "text/plain": [
       "           method  number  orbital_period  mass  distance  year\n",
       "903  Microlensing       1             NaN   NaN       NaN  2008\n",
       "923  Microlensing       1             NaN   NaN       NaN  2009\n",
       "926  Microlensing       2             NaN   NaN    4080.0  2012\n",
       "957       Imaging       1             NaN   NaN       NaN  2008"
      ]
     },
     "execution_count": 11,
     "metadata": {},
     "output_type": "execute_result"
    }
   ],
   "source": [
    "# Проверяем, есть ли в датасете дубликаты строк\n",
    "\n",
    "df_planets[df_planets.duplicated()]"
   ]
  },
  {
   "cell_type": "code",
   "execution_count": 12,
   "id": "0b60f6f4-9b34-4e26-a96f-1abfaa2f96b9",
   "metadata": {},
   "outputs": [
    {
     "data": {
      "text/plain": [
       "(1031, 6)"
      ]
     },
     "execution_count": 12,
     "metadata": {},
     "output_type": "execute_result"
    }
   ],
   "source": [
    "# Дубликаты бы сути быть не должны, одну планету не могут 2 раза найти, если бы только разным методом.\n",
    "# Дубликаты образовались по причине того, что отсутствует некоторые записи в строках, а по оставшимся есть соответственно подобные строки\n",
    "# Удаляем найденные 4 дубликата, создаем новый датасет без дубликатов (в нем останется 1035-4=1031 строк)\n",
    "\n",
    "df_planets_unique = df_planets.drop_duplicates()\n",
    "df_planets_unique.shape"
   ]
  },
  {
   "cell_type": "markdown",
   "id": "96b9f4b8-1fba-424e-8f90-9f5663274954",
   "metadata": {},
   "source": [
    "### Проверим, есть ли в датасете пропуски"
   ]
  },
  {
   "cell_type": "code",
   "execution_count": 13,
   "id": "962c829d-7a9e-4ef2-a5c0-fd7a8eefbd66",
   "metadata": {},
   "outputs": [
    {
     "data": {
      "text/plain": [
       "method              0\n",
       "number              0\n",
       "orbital_period     43\n",
       "mass              522\n",
       "distance          227\n",
       "year                0\n",
       "dtype: int64"
      ]
     },
     "execution_count": 13,
     "metadata": {},
     "output_type": "execute_result"
    }
   ],
   "source": [
    "# Проверяем количество пропуском в датасете по столбцам\n",
    "\n",
    "df_planets.isna().sum()"
   ]
  },
  {
   "cell_type": "markdown",
   "id": "72e8105c-59b7-48b2-afbe-d1499eb0b630",
   "metadata": {},
   "source": [
    "### Заполним пропуски"
   ]
  },
  {
   "cell_type": "code",
   "execution_count": 14,
   "id": "5879a862-32c5-400b-a317-b9401c5292c3",
   "metadata": {},
   "outputs": [
    {
     "data": {
      "text/plain": [
       "method              0\n",
       "number              0\n",
       "orbital_period     43\n",
       "mass                0\n",
       "distance          227\n",
       "year                0\n",
       "dtype: int64"
      ]
     },
     "execution_count": 14,
     "metadata": {},
     "output_type": "execute_result"
    }
   ],
   "source": [
    "size_na = df_planets['mass'].isna().sum()     # Считаем количество строк с пустыми массами\n",
    "\n",
    "# random_mass = df_planets['mass'].dropna().sample(size_na).values\n",
    "# вот эта штука не сработает, потому что пустых строк получается больше, чем непустых, брать рандомные неоткуда, вылазит ошибка\n",
    "\n",
    "min_mass = df_planets['mass'].min()     # Находим минимальную массу\n",
    "max_mass = df_planets['mass'].max()     # Находим максимальную массу\n",
    "random_mass = np.random.uniform(min_mass, max_mass, size_na)     # Создаем массив из нужного количества случайных чисел в диапазоне от min до max\n",
    "df_planets.loc[df_planets['mass'].isna(), 'mass'] = random_mass     # Присваиваем пустым значениям в столбце Масса значения массива случайных чисел\n",
    "df_planets.isna().sum()     # В итоге все значения в столбце Масса заполнены"
   ]
  },
  {
   "cell_type": "markdown",
   "id": "56e66507-0618-41f5-8e85-66eadea28273",
   "metadata": {},
   "source": [
    "### Проверяем выбросы"
   ]
  },
  {
   "cell_type": "code",
   "execution_count": 15,
   "id": "6ae35273-4fcd-4349-abf0-080ec496256e",
   "metadata": {},
   "outputs": [
    {
     "name": "stdout",
     "output_type": "stream",
     "text": [
      "Выбросами будут считаться все растояния, значения которых находится за пределами интервала [-186.35, 397.40999999999997]\n"
     ]
    }
   ],
   "source": [
    "# Выбросы интереснее искать не по массе, а по дистации, так как массы планет в масштабах галактик очень сильно различаться не будут.\n",
    "# Возьмем метод через IQR\n",
    "\n",
    "q1 = df_planets['distance'].quantile(0.25)\n",
    "q3 = df_planets['distance'].quantile(0.75)\n",
    "iqr = q3 - q1\n",
    "lower_bound = q1 - 1.5*iqr\n",
    "upper_bound = q3 + 1.5*iqr\n",
    "print(f\"Выбросами будут считаться все растояния, значения которых находится за пределами интервала [{lower_bound}, {upper_bound}]\")"
   ]
  },
  {
   "cell_type": "code",
   "execution_count": 16,
   "id": "582e7e58-d966-4eee-afad-5d1bf28eb81f",
   "metadata": {},
   "outputs": [
    {
     "data": {
      "text/plain": [
       "(108, 6)"
      ]
     },
     "execution_count": 16,
     "metadata": {},
     "output_type": "execute_result"
    }
   ],
   "source": [
    "# Поссмотрим сколько будет выбросов за пределами верхнего интервала. Снизу не будет, расстояние отрицательное не бывает\n",
    "\n",
    "df_planets[df_planets['distance'] >= upper_bound].shape"
   ]
  },
  {
   "cell_type": "code",
   "execution_count": 17,
   "id": "6475754c-19f6-46e0-b994-b153a767fadf",
   "metadata": {},
   "outputs": [
    {
     "data": {
      "text/html": [
       "<div>\n",
       "<style scoped>\n",
       "    .dataframe tbody tr th:only-of-type {\n",
       "        vertical-align: middle;\n",
       "    }\n",
       "\n",
       "    .dataframe tbody tr th {\n",
       "        vertical-align: top;\n",
       "    }\n",
       "\n",
       "    .dataframe thead th {\n",
       "        text-align: right;\n",
       "    }\n",
       "</style>\n",
       "<table border=\"1\" class=\"dataframe\">\n",
       "  <thead>\n",
       "    <tr style=\"text-align: right;\">\n",
       "      <th></th>\n",
       "      <th>method</th>\n",
       "      <th>number</th>\n",
       "      <th>orbital_period</th>\n",
       "      <th>mass</th>\n",
       "      <th>distance</th>\n",
       "      <th>year</th>\n",
       "    </tr>\n",
       "  </thead>\n",
       "  <tbody>\n",
       "    <tr>\n",
       "      <th>0</th>\n",
       "      <td>Radial Velocity</td>\n",
       "      <td>1</td>\n",
       "      <td>269.300000</td>\n",
       "      <td>7.100000</td>\n",
       "      <td>77.40</td>\n",
       "      <td>2006</td>\n",
       "    </tr>\n",
       "    <tr>\n",
       "      <th>1</th>\n",
       "      <td>Radial Velocity</td>\n",
       "      <td>1</td>\n",
       "      <td>874.774000</td>\n",
       "      <td>2.210000</td>\n",
       "      <td>56.95</td>\n",
       "      <td>2008</td>\n",
       "    </tr>\n",
       "    <tr>\n",
       "      <th>2</th>\n",
       "      <td>Radial Velocity</td>\n",
       "      <td>1</td>\n",
       "      <td>763.000000</td>\n",
       "      <td>2.600000</td>\n",
       "      <td>19.84</td>\n",
       "      <td>2011</td>\n",
       "    </tr>\n",
       "    <tr>\n",
       "      <th>3</th>\n",
       "      <td>Radial Velocity</td>\n",
       "      <td>1</td>\n",
       "      <td>326.030000</td>\n",
       "      <td>19.400000</td>\n",
       "      <td>110.62</td>\n",
       "      <td>2007</td>\n",
       "    </tr>\n",
       "    <tr>\n",
       "      <th>4</th>\n",
       "      <td>Radial Velocity</td>\n",
       "      <td>1</td>\n",
       "      <td>516.220000</td>\n",
       "      <td>10.500000</td>\n",
       "      <td>119.47</td>\n",
       "      <td>2009</td>\n",
       "    </tr>\n",
       "    <tr>\n",
       "      <th>...</th>\n",
       "      <td>...</td>\n",
       "      <td>...</td>\n",
       "      <td>...</td>\n",
       "      <td>...</td>\n",
       "      <td>...</td>\n",
       "      <td>...</td>\n",
       "    </tr>\n",
       "    <tr>\n",
       "      <th>1030</th>\n",
       "      <td>Transit</td>\n",
       "      <td>1</td>\n",
       "      <td>3.941507</td>\n",
       "      <td>11.845310</td>\n",
       "      <td>172.00</td>\n",
       "      <td>2006</td>\n",
       "    </tr>\n",
       "    <tr>\n",
       "      <th>1031</th>\n",
       "      <td>Transit</td>\n",
       "      <td>1</td>\n",
       "      <td>2.615864</td>\n",
       "      <td>2.248033</td>\n",
       "      <td>148.00</td>\n",
       "      <td>2007</td>\n",
       "    </tr>\n",
       "    <tr>\n",
       "      <th>1032</th>\n",
       "      <td>Transit</td>\n",
       "      <td>1</td>\n",
       "      <td>3.191524</td>\n",
       "      <td>19.265019</td>\n",
       "      <td>174.00</td>\n",
       "      <td>2007</td>\n",
       "    </tr>\n",
       "    <tr>\n",
       "      <th>1033</th>\n",
       "      <td>Transit</td>\n",
       "      <td>1</td>\n",
       "      <td>4.125083</td>\n",
       "      <td>10.901715</td>\n",
       "      <td>293.00</td>\n",
       "      <td>2008</td>\n",
       "    </tr>\n",
       "    <tr>\n",
       "      <th>1034</th>\n",
       "      <td>Transit</td>\n",
       "      <td>1</td>\n",
       "      <td>4.187757</td>\n",
       "      <td>8.603325</td>\n",
       "      <td>260.00</td>\n",
       "      <td>2008</td>\n",
       "    </tr>\n",
       "  </tbody>\n",
       "</table>\n",
       "<p>927 rows × 6 columns</p>\n",
       "</div>"
      ],
      "text/plain": [
       "               method  number  orbital_period       mass  distance  year\n",
       "0     Radial Velocity       1      269.300000   7.100000     77.40  2006\n",
       "1     Radial Velocity       1      874.774000   2.210000     56.95  2008\n",
       "2     Radial Velocity       1      763.000000   2.600000     19.84  2011\n",
       "3     Radial Velocity       1      326.030000  19.400000    110.62  2007\n",
       "4     Radial Velocity       1      516.220000  10.500000    119.47  2009\n",
       "...               ...     ...             ...        ...       ...   ...\n",
       "1030          Transit       1        3.941507  11.845310    172.00  2006\n",
       "1031          Transit       1        2.615864   2.248033    148.00  2007\n",
       "1032          Transit       1        3.191524  19.265019    174.00  2007\n",
       "1033          Transit       1        4.125083  10.901715    293.00  2008\n",
       "1034          Transit       1        4.187757   8.603325    260.00  2008\n",
       "\n",
       "[927 rows x 6 columns]"
      ]
     },
     "execution_count": 17,
     "metadata": {},
     "output_type": "execute_result"
    }
   ],
   "source": [
    "# Удаляем выбросы и не забываем дописать строки с пустой дистанцией\n",
    "\n",
    "df_planets[((df_planets['distance'] >= lower_bound) & (df_planets['distance'] <= upper_bound)) | (df_planets['distance'].isna())]"
   ]
  },
  {
   "cell_type": "code",
   "execution_count": 18,
   "id": "c9626ab0-d8d3-4185-b7d8-e53f2294b873",
   "metadata": {},
   "outputs": [
    {
     "data": {
      "text/plain": [
       "1035"
      ]
     },
     "execution_count": 18,
     "metadata": {},
     "output_type": "execute_result"
    }
   ],
   "source": [
    "# Проверяем, должно получится 1035:\n",
    "\n",
    "df_planets[((df_planets['distance'] >= lower_bound) & (df_planets['distance'] <= upper_bound)) | (df_planets['distance'].isna())].shape[0] + df_planets[df_planets['distance'] >= upper_bound].shape[0]"
   ]
  },
  {
   "cell_type": "markdown",
   "id": "2951c5cd-8426-4843-853e-3a1503cf45e8",
   "metadata": {},
   "source": [
    "### Нормализуем данные"
   ]
  },
  {
   "cell_type": "code",
   "execution_count": 19,
   "id": "d6aa45bd-c3f0-4807-9574-6236061ee2b0",
   "metadata": {},
   "outputs": [
    {
     "data": {
      "text/plain": [
       "count    1035.000000\n",
       "mean        0.317714\n",
       "std         0.314593\n",
       "min         0.000000\n",
       "25%         0.044262\n",
       "50%         0.191884\n",
       "75%         0.561381\n",
       "max         1.000000\n",
       "Name: norm_mass, dtype: float64"
      ]
     },
     "execution_count": 19,
     "metadata": {},
     "output_type": "execute_result"
    }
   ],
   "source": [
    "# Используем метод нормализации. Возьмем столбец с массой\n",
    "\n",
    "df_planets['norm_mass'] = (df_planets['mass'] - df_planets['mass'].min()) / (df_planets['mass'].max() - df_planets['mass'].min())\n",
    "df_planets['norm_mass'].describe()"
   ]
  },
  {
   "cell_type": "code",
   "execution_count": 20,
   "id": "689a55ad-b2fd-4cbb-9ca6-7065411f0969",
   "metadata": {},
   "outputs": [
    {
     "data": {
      "text/plain": [
       "<Axes: >"
      ]
     },
     "execution_count": 20,
     "metadata": {},
     "output_type": "execute_result"
    },
    {
     "data": {
      "image/png": "[encoded data removed]",
      "text/plain": [
       "<Figure size 640x480 with 1 Axes>"
      ]
     },
     "metadata": {},
     "output_type": "display_data"
    }
   ],
   "source": [
    "df_planets['norm_mass'].hist()"
   ]
  },
  {
   "cell_type": "code",
   "execution_count": null,
   "id": "15581721-5806-4978-ba10-af9f7a479dcf",
   "metadata": {},
   "outputs": [],
   "source": []
  },
  {
   "cell_type": "code",
   "execution_count": null,
   "id": "213b3b59-b9ac-490a-80ad-eed97ec3d709",
   "metadata": {},
   "outputs": [],
   "source": []
  }
 ],
 "metadata": {
  "kernelspec": {
   "display_name": "Python 3 (ipykernel)",
   "language": "python",
   "name": "python3"
  },
  "language_info": {
   "codemirror_mode": {
    "name": "ipython",
    "version": 3
   },
   "file_extension": ".py",
   "mimetype": "text/x-python",
   "name": "python",
   "nbconvert_exporter": "python",
   "pygments_lexer": "ipython3",
   "version": "3.12.4"
  }
 },
 "nbformat": 4,
 "nbformat_minor": 5
}
