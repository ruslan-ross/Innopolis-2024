{
 "cells": [
  {
   "cell_type": "markdown",
   "id": "654c955a-cbc2-4275-8fd3-1b9754a2ec9a",
   "metadata": {},
   "source": [
    "### 1) Начало работы, изучим датафрейм, очистим от пропусков и выбросов"
   ]
  },
  {
   "cell_type": "code",
   "execution_count": 1,
   "id": "992f58e0-7aab-4bc8-9630-3568ec4f66c3",
   "metadata": {},
   "outputs": [],
   "source": [
    "# Подключаем библиотеки\n",
    "import pandas as pd\n",
    "import numpy as np\n",
    "import matplotlib.pyplot as plt\n",
    "import seaborn as sns\n",
    "from scipy import stats\n",
    "import statsmodels.api as sm"
   ]
  },
  {
   "cell_type": "code",
   "execution_count": 2,
   "id": "e63c2999-1ccf-4eb4-9b2b-91096d5fede3",
   "metadata": {},
   "outputs": [
    {
     "data": {
      "text/html": [
       "<div>\n",
       "<style scoped>\n",
       "    .dataframe tbody tr th:only-of-type {\n",
       "        vertical-align: middle;\n",
       "    }\n",
       "\n",
       "    .dataframe tbody tr th {\n",
       "        vertical-align: top;\n",
       "    }\n",
       "\n",
       "    .dataframe thead th {\n",
       "        text-align: right;\n",
       "    }\n",
       "</style>\n",
       "<table border=\"1\" class=\"dataframe\">\n",
       "  <thead>\n",
       "    <tr style=\"text-align: right;\">\n",
       "      <th></th>\n",
       "      <th>method</th>\n",
       "      <th>number</th>\n",
       "      <th>orbital_period</th>\n",
       "      <th>mass</th>\n",
       "      <th>distance</th>\n",
       "      <th>year</th>\n",
       "    </tr>\n",
       "  </thead>\n",
       "  <tbody>\n",
       "    <tr>\n",
       "      <th>0</th>\n",
       "      <td>Radial Velocity</td>\n",
       "      <td>1</td>\n",
       "      <td>269.300</td>\n",
       "      <td>7.10</td>\n",
       "      <td>77.40</td>\n",
       "      <td>2006</td>\n",
       "    </tr>\n",
       "    <tr>\n",
       "      <th>1</th>\n",
       "      <td>Radial Velocity</td>\n",
       "      <td>1</td>\n",
       "      <td>874.774</td>\n",
       "      <td>2.21</td>\n",
       "      <td>56.95</td>\n",
       "      <td>2008</td>\n",
       "    </tr>\n",
       "    <tr>\n",
       "      <th>2</th>\n",
       "      <td>Radial Velocity</td>\n",
       "      <td>1</td>\n",
       "      <td>763.000</td>\n",
       "      <td>2.60</td>\n",
       "      <td>19.84</td>\n",
       "      <td>2011</td>\n",
       "    </tr>\n",
       "    <tr>\n",
       "      <th>3</th>\n",
       "      <td>Radial Velocity</td>\n",
       "      <td>1</td>\n",
       "      <td>326.030</td>\n",
       "      <td>19.40</td>\n",
       "      <td>110.62</td>\n",
       "      <td>2007</td>\n",
       "    </tr>\n",
       "    <tr>\n",
       "      <th>4</th>\n",
       "      <td>Radial Velocity</td>\n",
       "      <td>1</td>\n",
       "      <td>516.220</td>\n",
       "      <td>10.50</td>\n",
       "      <td>119.47</td>\n",
       "      <td>2009</td>\n",
       "    </tr>\n",
       "  </tbody>\n",
       "</table>\n",
       "</div>"
      ],
      "text/plain": [
       "            method  number  orbital_period   mass  distance  year\n",
       "0  Radial Velocity       1         269.300   7.10     77.40  2006\n",
       "1  Radial Velocity       1         874.774   2.21     56.95  2008\n",
       "2  Radial Velocity       1         763.000   2.60     19.84  2011\n",
       "3  Radial Velocity       1         326.030  19.40    110.62  2007\n",
       "4  Radial Velocity       1         516.220  10.50    119.47  2009"
      ]
     },
     "execution_count": 2,
     "metadata": {},
     "output_type": "execute_result"
    }
   ],
   "source": [
    "# Считываем csv файл с GitHub\n",
    "df_planets = pd.read_csv(r\"https://raw.githubusercontent.com/YBI-Foundation/Dataset/refs/heads/main/Planets.csv\")\n",
    "df_planets.head()"
   ]
  },
  {
   "cell_type": "code",
   "execution_count": 3,
   "id": "c08c69cf-934e-435f-aaf7-78ab538acd47",
   "metadata": {},
   "outputs": [
    {
     "data": {
      "text/plain": [
       "(1035, 6)"
      ]
     },
     "execution_count": 3,
     "metadata": {},
     "output_type": "execute_result"
    }
   ],
   "source": [
    "# Поссмотрим размерность\n",
    "df_planets.shape"
   ]
  },
  {
   "cell_type": "markdown",
   "id": "c20f1678-5fd9-48de-9790-87e6c3e000c1",
   "metadata": {},
   "source": [
    "##### Работа с пропусками"
   ]
  },
  {
   "cell_type": "code",
   "execution_count": 4,
   "id": "37068c13-7c3d-49f0-938e-6565db1f56b4",
   "metadata": {},
   "outputs": [
    {
     "data": {
      "text/plain": [
       "method              0\n",
       "number              0\n",
       "orbital_period     43\n",
       "mass              522\n",
       "distance          227\n",
       "year                0\n",
       "dtype: int64"
      ]
     },
     "execution_count": 4,
     "metadata": {},
     "output_type": "execute_result"
    }
   ],
   "source": [
    "# Поссмотрим пропуски\n",
    "df_planets.isna().sum()"
   ]
  },
  {
   "cell_type": "code",
   "execution_count": 5,
   "id": "e5a09544-cfbf-41fa-93e6-441e0b31d5ff",
   "metadata": {},
   "outputs": [
    {
     "data": {
      "text/plain": [
       "method            0\n",
       "number            0\n",
       "orbital_period    0\n",
       "mass              0\n",
       "distance          0\n",
       "year              0\n",
       "dtype: int64"
      ]
     },
     "execution_count": 5,
     "metadata": {},
     "output_type": "execute_result"
    }
   ],
   "source": [
    "# Заполним все пропуски\n",
    "for i in ['orbital_period', 'mass', 'distance']:\n",
    "    df_planets.loc[df_planets[i].isna(), i] = np.random.uniform(df_planets[i].min(), df_planets[i].max(), df_planets[i].isna().sum())\n",
    "df_planets.isna().sum()     # В итоге все значения заполнены"
   ]
  },
  {
   "cell_type": "markdown",
   "id": "3f4d2b7a-5258-4f5a-8e50-174fb76dd12c",
   "metadata": {},
   "source": [
    "##### Работа с дубликатами"
   ]
  },
  {
   "cell_type": "code",
   "execution_count": 6,
   "id": "26d66e0d-9998-4319-8c95-0248c03f90d1",
   "metadata": {},
   "outputs": [
    {
     "data": {
      "text/html": [
       "<div>\n",
       "<style scoped>\n",
       "    .dataframe tbody tr th:only-of-type {\n",
       "        vertical-align: middle;\n",
       "    }\n",
       "\n",
       "    .dataframe tbody tr th {\n",
       "        vertical-align: top;\n",
       "    }\n",
       "\n",
       "    .dataframe thead th {\n",
       "        text-align: right;\n",
       "    }\n",
       "</style>\n",
       "<table border=\"1\" class=\"dataframe\">\n",
       "  <thead>\n",
       "    <tr style=\"text-align: right;\">\n",
       "      <th></th>\n",
       "      <th>method</th>\n",
       "      <th>number</th>\n",
       "      <th>orbital_period</th>\n",
       "      <th>mass</th>\n",
       "      <th>distance</th>\n",
       "      <th>year</th>\n",
       "    </tr>\n",
       "  </thead>\n",
       "  <tbody>\n",
       "  </tbody>\n",
       "</table>\n",
       "</div>"
      ],
      "text/plain": [
       "Empty DataFrame\n",
       "Columns: [method, number, orbital_period, mass, distance, year]\n",
       "Index: []"
      ]
     },
     "execution_count": 6,
     "metadata": {},
     "output_type": "execute_result"
    }
   ],
   "source": [
    "# Проверим на дубликаты\n",
    "df_planets[df_planets.duplicated()]     # Дубликатов нет"
   ]
  },
  {
   "cell_type": "markdown",
   "id": "779286df-6acc-425c-8733-8c0b5d279de5",
   "metadata": {},
   "source": [
    "##### Работа с выбросами"
   ]
  },
  {
   "cell_type": "code",
   "execution_count": 42,
   "id": "ec3f571e-f642-4e29-81e6-da2eed056ce0",
   "metadata": {},
   "outputs": [
    {
     "data": {
      "text/html": [
       "<div>\n",
       "<style scoped>\n",
       "    .dataframe tbody tr th:only-of-type {\n",
       "        vertical-align: middle;\n",
       "    }\n",
       "\n",
       "    .dataframe tbody tr th {\n",
       "        vertical-align: top;\n",
       "    }\n",
       "\n",
       "    .dataframe thead th {\n",
       "        text-align: right;\n",
       "    }\n",
       "</style>\n",
       "<table border=\"1\" class=\"dataframe\">\n",
       "  <thead>\n",
       "    <tr style=\"text-align: right;\">\n",
       "      <th></th>\n",
       "      <th>method</th>\n",
       "      <th>number</th>\n",
       "      <th>orbital_period</th>\n",
       "      <th>mass</th>\n",
       "      <th>distance</th>\n",
       "      <th>year</th>\n",
       "    </tr>\n",
       "  </thead>\n",
       "  <tbody>\n",
       "    <tr>\n",
       "      <th>0</th>\n",
       "      <td>Radial Velocity</td>\n",
       "      <td>1</td>\n",
       "      <td>269.300000</td>\n",
       "      <td>7.100000</td>\n",
       "      <td>77.40</td>\n",
       "      <td>2006</td>\n",
       "    </tr>\n",
       "    <tr>\n",
       "      <th>1</th>\n",
       "      <td>Radial Velocity</td>\n",
       "      <td>1</td>\n",
       "      <td>874.774000</td>\n",
       "      <td>2.210000</td>\n",
       "      <td>56.95</td>\n",
       "      <td>2008</td>\n",
       "    </tr>\n",
       "    <tr>\n",
       "      <th>2</th>\n",
       "      <td>Radial Velocity</td>\n",
       "      <td>1</td>\n",
       "      <td>763.000000</td>\n",
       "      <td>2.600000</td>\n",
       "      <td>19.84</td>\n",
       "      <td>2011</td>\n",
       "    </tr>\n",
       "    <tr>\n",
       "      <th>3</th>\n",
       "      <td>Radial Velocity</td>\n",
       "      <td>1</td>\n",
       "      <td>326.030000</td>\n",
       "      <td>19.400000</td>\n",
       "      <td>110.62</td>\n",
       "      <td>2007</td>\n",
       "    </tr>\n",
       "    <tr>\n",
       "      <th>4</th>\n",
       "      <td>Radial Velocity</td>\n",
       "      <td>1</td>\n",
       "      <td>516.220000</td>\n",
       "      <td>10.500000</td>\n",
       "      <td>119.47</td>\n",
       "      <td>2009</td>\n",
       "    </tr>\n",
       "    <tr>\n",
       "      <th>...</th>\n",
       "      <td>...</td>\n",
       "      <td>...</td>\n",
       "      <td>...</td>\n",
       "      <td>...</td>\n",
       "      <td>...</td>\n",
       "      <td>...</td>\n",
       "    </tr>\n",
       "    <tr>\n",
       "      <th>728</th>\n",
       "      <td>Transit</td>\n",
       "      <td>1</td>\n",
       "      <td>3.941507</td>\n",
       "      <td>15.519783</td>\n",
       "      <td>172.00</td>\n",
       "      <td>2006</td>\n",
       "    </tr>\n",
       "    <tr>\n",
       "      <th>729</th>\n",
       "      <td>Transit</td>\n",
       "      <td>1</td>\n",
       "      <td>2.615864</td>\n",
       "      <td>10.584943</td>\n",
       "      <td>148.00</td>\n",
       "      <td>2007</td>\n",
       "    </tr>\n",
       "    <tr>\n",
       "      <th>730</th>\n",
       "      <td>Transit</td>\n",
       "      <td>1</td>\n",
       "      <td>3.191524</td>\n",
       "      <td>5.397980</td>\n",
       "      <td>174.00</td>\n",
       "      <td>2007</td>\n",
       "    </tr>\n",
       "    <tr>\n",
       "      <th>731</th>\n",
       "      <td>Transit</td>\n",
       "      <td>1</td>\n",
       "      <td>4.125083</td>\n",
       "      <td>12.845216</td>\n",
       "      <td>293.00</td>\n",
       "      <td>2008</td>\n",
       "    </tr>\n",
       "    <tr>\n",
       "      <th>732</th>\n",
       "      <td>Transit</td>\n",
       "      <td>1</td>\n",
       "      <td>4.187757</td>\n",
       "      <td>18.532230</td>\n",
       "      <td>260.00</td>\n",
       "      <td>2008</td>\n",
       "    </tr>\n",
       "  </tbody>\n",
       "</table>\n",
       "<p>733 rows × 6 columns</p>\n",
       "</div>"
      ],
      "text/plain": [
       "              method  number  orbital_period       mass  distance  year\n",
       "0    Radial Velocity       1      269.300000   7.100000     77.40  2006\n",
       "1    Radial Velocity       1      874.774000   2.210000     56.95  2008\n",
       "2    Radial Velocity       1      763.000000   2.600000     19.84  2011\n",
       "3    Radial Velocity       1      326.030000  19.400000    110.62  2007\n",
       "4    Radial Velocity       1      516.220000  10.500000    119.47  2009\n",
       "..               ...     ...             ...        ...       ...   ...\n",
       "728          Transit       1        3.941507  15.519783    172.00  2006\n",
       "729          Transit       1        2.615864  10.584943    148.00  2007\n",
       "730          Transit       1        3.191524   5.397980    174.00  2007\n",
       "731          Transit       1        4.125083  12.845216    293.00  2008\n",
       "732          Transit       1        4.187757  18.532230    260.00  2008\n",
       "\n",
       "[733 rows x 6 columns]"
      ]
     },
     "execution_count": 42,
     "metadata": {},
     "output_type": "execute_result"
    }
   ],
   "source": [
    "# Поиск выбросов по Орбитальному периоду. Возьмем метод через IQR.\n",
    "lower_bound_op = df_planets['orbital_period'].quantile(0.25) - 1.5*(df_planets['orbital_period'].quantile(0.75) - df_planets['orbital_period'].quantile(0.25))\n",
    "upper_bound_op = df_planets['orbital_period'].quantile(0.75) + 1.5*(df_planets['orbital_period'].quantile(0.75) - df_planets['orbital_period'].quantile(0.25))\n",
    "# Поиск выбросов по Массе. Возьмем метод через IQR.\n",
    "lower_bound_m = df_planets['mass'].quantile(0.25) - 1.5*(df_planets['mass'].quantile(0.75) - df_planets['mass'].quantile(0.25))\n",
    "upper_bound_m = df_planets['mass'].quantile(0.75) + 1.5*(df_planets['mass'].quantile(0.75) - df_planets['mass'].quantile(0.25))\n",
    "# Поиск выбросов по Дистанции. Возьмем метод через IQR.\n",
    "lower_bound_d = df_planets['distance'].quantile(0.25) - 1.5*(df_planets['distance'].quantile(0.75) - df_planets['distance'].quantile(0.25))\n",
    "upper_bound_d = df_planets['distance'].quantile(0.75) + 1.5*(df_planets['distance'].quantile(0.75) - df_planets['distance'].quantile(0.25))\n",
    "# Уберем все выбросы\n",
    "# В новый датафрейм - уберем выбросы по орбитальному периоду\n",
    "df_pl_perfect = df_planets[((df_planets['orbital_period'] >= lower_bound_op) & (df_planets['orbital_period'] <= upper_bound_op))]\n",
    "# Берем уже новый датафрейм и в нем уберем выбросы по массе\n",
    "df_pl_perfect = df_pl_perfect[((df_pl_perfect['mass'] >= lower_bound_m) & (df_pl_perfect['mass'] <= upper_bound_m))]\n",
    "# Берем новый датафрейм и в нем уберем выбросы по дистанции\n",
    "df_pl_perfect = df_pl_perfect[((df_pl_perfect['distance'] >= lower_bound_d) & (df_pl_perfect['distance'] <= upper_bound_d))]\n",
    "df_pl_perfect = df_pl_perfect.reset_index(drop = True)    # Выбросы отсутствуют\n",
    "df_pl_perfect"
   ]
  },
  {
   "attachments": {},
   "cell_type": "markdown",
   "id": "b7fa65f3-322e-4fb5-b4ba-b4a4903f4908",
   "metadata": {},
   "source": [
    "### 2) Выберем две количественные переменные и найдем для них 95% доверительные интервалы средних значений"
   ]
  },
  {
   "cell_type": "code",
   "execution_count": 47,
   "id": "77da286d-62fa-4792-870f-ae235e3b52c1",
   "metadata": {},
   "outputs": [],
   "source": [
    "# Сделаем отдельный датафрейм со столбцом Орбитальный период\n",
    "df_op = df_pl_perfect['orbital_period']\n",
    "# Сделаем отдельный датафрейм со столбцом Дистанция\n",
    "df_d = df_pl_perfect['distance']\n",
    "alpha = 0.95"
   ]
  },
  {
   "cell_type": "code",
   "execution_count": 51,
   "id": "91d6109c-0479-45f9-a71c-8a8f0272aa78",
   "metadata": {},
   "outputs": [
    {
     "data": {
      "text/plain": [
       "733"
      ]
     },
     "execution_count": 51,
     "metadata": {},
     "output_type": "execute_result"
    }
   ],
   "source": [
    "df_op.count()"
   ]
  },
  {
   "cell_type": "code",
   "execution_count": 52,
   "id": "99798d4b-390f-4e5e-b448-b853b1bad437",
   "metadata": {},
   "outputs": [
    {
     "name": "stdout",
     "output_type": "stream",
     "text": [
      "95% доверительный интервал для среднего значения Орбитального периода от 223.7 до 278.42\n",
      "95% доверительный интервал для среднего значения Дистанции от 224.88 до 281.33\n"
     ]
    }
   ],
   "source": [
    "# Сделаем отдельный датафрейм со столбцом Орбитальный период\n",
    "df_op = df_pl_perfect['orbital_period']\n",
    "# Сделаем отдельный датафрейм со столбцом Дистанция\n",
    "df_d = df_pl_perfect['distance']\n",
    "\n",
    "# Уровень доверия\n",
    "alpha = 0.95\n",
    "\n",
    "# Вычислим среднее значение ДФ Орбитальный период\n",
    "mean_op = df_op.mean()\n",
    "# Вычислим дисперсию значений ДФ Орбитальный период\n",
    "var_op = df_op.var()\n",
    "# Вычислим количество значений ДФ Орбитальный период\n",
    "n_op = df_op.count()\n",
    "\n",
    "# Вычислим доверительный интервал для среднего значения Орбитального периода\n",
    "ci_op = stats.norm.interval(confidence = alpha, loc = mean_op, scale = np.sqrt(var_op/n_op))\n",
    "print(f'95% доверительный интервал для среднего значения Орбитального периода от {ci_op[0].round(2)} до {ci_op[1].round(2)}')\n",
    "\n",
    "# Вычислим среднее значение ДФ Дистанция\n",
    "mean_d = df_d.mean()\n",
    "# Вычислим дисперсию значений ДФ Дистанция\n",
    "var_d = df_d.var()\n",
    "# Вычислим количество значений ДФ Дистанция\n",
    "n_d = df_d.count()\n",
    "\n",
    "# Вычислим доверительный интервал для среднего значения Дистанции\n",
    "ci_d = stats.norm.interval(confidence = alpha, loc = mean_d, scale = np.sqrt(var_d/n_d))\n",
    "print(f'95% доверительный интервал для среднего значения Дистанции от {ci_d[0].round(2)} до {ci_d[1].round(2)}')"
   ]
  },
  {
   "cell_type": "code",
   "execution_count": 55,
   "id": "1ba02a06-a2bb-4964-91c4-ebc7c2086191",
   "metadata": {},
   "outputs": [
    {
     "data": {
      "text/plain": [
       "count     733.000000\n",
       "mean      251.061731\n",
       "std       377.977130\n",
       "min         0.090706\n",
       "25%         4.640382\n",
       "50%        34.620000\n",
       "75%       383.700000\n",
       "max      1657.000000\n",
       "Name: orbital_period, dtype: float64"
      ]
     },
     "execution_count": 55,
     "metadata": {},
     "output_type": "execute_result"
    }
   ],
   "source": [
    "df_pl_perfect['orbital_period'].describe()"
   ]
  },
  {
   "cell_type": "code",
   "execution_count": 54,
   "id": "3bdf1fc9-bc96-4954-87ec-46e182983e8f",
   "metadata": {},
   "outputs": [
    {
     "data": {
      "text/plain": [
       "count     733.000000\n",
       "mean      253.103032\n",
       "std       389.918439\n",
       "min         1.350000\n",
       "25%        34.570000\n",
       "50%        68.540000\n",
       "75%       290.000000\n",
       "max      1919.619260\n",
       "Name: distance, dtype: float64"
      ]
     },
     "execution_count": 54,
     "metadata": {},
     "output_type": "execute_result"
    }
   ],
   "source": [
    "df_pl_perfect['distance'].describe()"
   ]
  },
  {
   "cell_type": "markdown",
   "id": "3bbb11ee-33c7-46a6-a94f-6e2c5ac4d9e3",
   "metadata": {},
   "source": [
    "##### Методы нахождения экзопланет различаются технологиями. На столбчатой диаграмме видно, что некоторые методы в основном ипользуют для открытия близлежащих к звездам планет, а у некоторых алгоритмы подходят и для планет с дальними дистанциями."
   ]
  },
  {
   "attachments": {},
   "cell_type": "markdown",
   "id": "37468341-8e6c-4295-b1d0-2efc2a079627",
   "metadata": {},
   "source": [
    "### 3) Оценим распределение этих переменных на нормальность с помощью формальных тестов и с помощью альтернативных методов"
   ]
  },
  {
   "cell_type": "code",
   "execution_count": null,
   "id": "0f3a9163-1cec-4673-bc57-a2ef444f9edb",
   "metadata": {},
   "outputs": [],
   "source": []
  },
  {
   "cell_type": "markdown",
   "id": "3f090852-ad34-4910-b1ba-25a09581c14e",
   "metadata": {},
   "source": [
    "##### Гистограмма показывет, что примерно четверть (250*100/1035) открытых планет имеют массу до 1 у.е. (не знаю, честно говоря, в чем тут измеряется). Мало планет имеют большую массу, для этого нужны определенные условия."
   ]
  },
  {
   "attachments": {},
   "cell_type": "markdown",
   "id": "ac7929a5-e0d0-4cfb-9841-64b71ef286aa",
   "metadata": {},
   "source": [
    "### 4) Возьмем две группы наблюдений и протестируем гипотезу о равенстве математических ожиданий (двухвыборочный т-тест или тест Манна-Уитни в зависимости от результата теста на нормальность)"
   ]
  },
  {
   "cell_type": "code",
   "execution_count": null,
   "id": "b1799842-68eb-4281-b7ad-f768d8e6468b",
   "metadata": {},
   "outputs": [],
   "source": []
  },
  {
   "cell_type": "markdown",
   "id": "e1422861-d323-447b-8c2b-841864414ef4",
   "metadata": {},
   "source": [
    "##### Рассмотрим зависимость дистанции и года открытия планеты (для наглядности возьмем до 500 млн. км.). Как и в предыдущих ДЗ, тут напрашивается вывод, что развитие технологий (открытие новых методов поиска) около 2000 года позволил искать планеты на более дальних расстояниях от их звезд. Дополнительно, показав массу в диаграмме, можно сказать, что как раз на дальних расстояниях количество планет с небольшой массой конкретно меньше, чем на малых расстояниях. Ну это логично, близко к звездам больших планет единицы, в основном небольшие, даже если посмотреть на нашу систему Данный факт на диаграмме прослеживается."
   ]
  },
  {
   "attachments": {},
   "cell_type": "markdown",
   "id": "334af3cf-c76e-49ca-af06-a39c2439db59",
   "metadata": {},
   "source": [
    "### 5) Построим точечную диаграмму (scatterplot) и оценим корреляцию между переменными"
   ]
  },
  {
   "cell_type": "code",
   "execution_count": null,
   "id": "6de49472-acf0-4dd7-9745-8c43763d6248",
   "metadata": {},
   "outputs": [],
   "source": []
  },
  {
   "attachments": {},
   "cell_type": "markdown",
   "id": "08784afd-50ef-4e11-8ded-8630965ca9f6",
   "metadata": {},
   "source": [
    "### 6) Оценим модель линейной регрессии. Сделаем на ее основе прогноз и вывод по результатам"
   ]
  },
  {
   "cell_type": "code",
   "execution_count": null,
   "id": "99e97006-10e2-44df-b39d-6ce26b8ba410",
   "metadata": {},
   "outputs": [],
   "source": []
  }
 ],
 "metadata": {
  "kernelspec": {
   "display_name": "Python 3 (ipykernel)",
   "language": "python",
   "name": "python3"
  },
  "language_info": {
   "codemirror_mode": {
    "name": "ipython",
    "version": 3
   },
   "file_extension": ".py",
   "mimetype": "text/x-python",
   "name": "python",
   "nbconvert_exporter": "python",
   "pygments_lexer": "ipython3",
   "version": "3.12.4"
  }
 },
 "nbformat": 4,
 "nbformat_minor": 5
}
