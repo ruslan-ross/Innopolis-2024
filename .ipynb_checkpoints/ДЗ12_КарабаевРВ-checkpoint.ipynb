{
 "cells": [
  {
   "attachments": {},
   "cell_type": "markdown",
   "id": "654c955a-cbc2-4275-8fd3-1b9754a2ec9a",
   "metadata": {},
   "source": [
    "## Проанализируем группы клиентов и постараемся ответим на вопрос, какой тип рекламы успешнее. Все выводы об эффективности подтвердим статистическими тестами."
   ]
  },
  {
   "cell_type": "markdown",
   "id": "db75da0a-5f3e-4c20-b0cb-5cb2cecddd08",
   "metadata": {},
   "source": [
    "### PS: я очень долго не мог вникнуть в эту тему, 2 раза пересматривал лекции, надеюсь я все правильно понял и сделал...."
   ]
  },
  {
   "cell_type": "markdown",
   "id": "15cc6135-233d-43ed-91f1-d4c69794acce",
   "metadata": {},
   "source": [
    "### Загрузка и подготовка данных"
   ]
  },
  {
   "cell_type": "code",
   "execution_count": 1,
   "id": "992f58e0-7aab-4bc8-9630-3568ec4f66c3",
   "metadata": {},
   "outputs": [],
   "source": [
    "# Подключаем библиотеки\n",
    "import pandas as pd\n",
    "import numpy as np\n",
    "import matplotlib.pyplot as plt\n",
    "import seaborn as sns\n",
    "from scipy import stats"
   ]
  },
  {
   "cell_type": "code",
   "execution_count": 3,
   "id": "25261e0d-cce0-482a-a784-428c79e0328b",
   "metadata": {},
   "outputs": [
    {
     "data": {
      "text/html": [
       "<div>\n",
       "<style scoped>\n",
       "    .dataframe tbody tr th:only-of-type {\n",
       "        vertical-align: middle;\n",
       "    }\n",
       "\n",
       "    .dataframe tbody tr th {\n",
       "        vertical-align: top;\n",
       "    }\n",
       "\n",
       "    .dataframe thead th {\n",
       "        text-align: right;\n",
       "    }\n",
       "</style>\n",
       "<table border=\"1\" class=\"dataframe\">\n",
       "  <thead>\n",
       "    <tr style=\"text-align: right;\">\n",
       "      <th></th>\n",
       "      <th>Unnamed: 0</th>\n",
       "      <th>user id</th>\n",
       "      <th>test group</th>\n",
       "      <th>converted</th>\n",
       "      <th>total ads</th>\n",
       "      <th>most ads day</th>\n",
       "      <th>most ads hour</th>\n",
       "    </tr>\n",
       "  </thead>\n",
       "  <tbody>\n",
       "    <tr>\n",
       "      <th>0</th>\n",
       "      <td>0</td>\n",
       "      <td>1069124</td>\n",
       "      <td>ad</td>\n",
       "      <td>False</td>\n",
       "      <td>130</td>\n",
       "      <td>Monday</td>\n",
       "      <td>20</td>\n",
       "    </tr>\n",
       "    <tr>\n",
       "      <th>1</th>\n",
       "      <td>1</td>\n",
       "      <td>1119715</td>\n",
       "      <td>ad</td>\n",
       "      <td>False</td>\n",
       "      <td>93</td>\n",
       "      <td>Tuesday</td>\n",
       "      <td>22</td>\n",
       "    </tr>\n",
       "    <tr>\n",
       "      <th>2</th>\n",
       "      <td>2</td>\n",
       "      <td>1144181</td>\n",
       "      <td>ad</td>\n",
       "      <td>False</td>\n",
       "      <td>21</td>\n",
       "      <td>Tuesday</td>\n",
       "      <td>18</td>\n",
       "    </tr>\n",
       "    <tr>\n",
       "      <th>3</th>\n",
       "      <td>3</td>\n",
       "      <td>1435133</td>\n",
       "      <td>ad</td>\n",
       "      <td>False</td>\n",
       "      <td>355</td>\n",
       "      <td>Tuesday</td>\n",
       "      <td>10</td>\n",
       "    </tr>\n",
       "    <tr>\n",
       "      <th>4</th>\n",
       "      <td>4</td>\n",
       "      <td>1015700</td>\n",
       "      <td>ad</td>\n",
       "      <td>False</td>\n",
       "      <td>276</td>\n",
       "      <td>Friday</td>\n",
       "      <td>14</td>\n",
       "    </tr>\n",
       "  </tbody>\n",
       "</table>\n",
       "</div>"
      ],
      "text/plain": [
       "   Unnamed: 0  user id test group  converted  total ads most ads day  \\\n",
       "0           0  1069124         ad      False        130       Monday   \n",
       "1           1  1119715         ad      False         93      Tuesday   \n",
       "2           2  1144181         ad      False         21      Tuesday   \n",
       "3           3  1435133         ad      False        355      Tuesday   \n",
       "4           4  1015700         ad      False        276       Friday   \n",
       "\n",
       "   most ads hour  \n",
       "0             20  \n",
       "1             22  \n",
       "2             18  \n",
       "3             10  \n",
       "4             14  "
      ]
     },
     "execution_count": 3,
     "metadata": {},
     "output_type": "execute_result"
    }
   ],
   "source": [
    "# Считываем csv файл с данными\n",
    "\n",
    "df = pd.read_csv(r\"D:\\marketing_AB.csv\")\n",
    "df.head()"
   ]
  },
  {
   "cell_type": "code",
   "execution_count": 5,
   "id": "b2e4bf85-e659-468b-8aa0-90a33162d545",
   "metadata": {},
   "outputs": [
    {
     "data": {
      "text/html": [
       "<div>\n",
       "<style scoped>\n",
       "    .dataframe tbody tr th:only-of-type {\n",
       "        vertical-align: middle;\n",
       "    }\n",
       "\n",
       "    .dataframe tbody tr th {\n",
       "        vertical-align: top;\n",
       "    }\n",
       "\n",
       "    .dataframe thead th {\n",
       "        text-align: right;\n",
       "    }\n",
       "</style>\n",
       "<table border=\"1\" class=\"dataframe\">\n",
       "  <thead>\n",
       "    <tr style=\"text-align: right;\">\n",
       "      <th></th>\n",
       "      <th>Unnamed: 0</th>\n",
       "      <th>user id</th>\n",
       "      <th>test group</th>\n",
       "      <th>converted</th>\n",
       "      <th>total ads</th>\n",
       "      <th>most ads day</th>\n",
       "      <th>most ads hour</th>\n",
       "      <th>days</th>\n",
       "    </tr>\n",
       "  </thead>\n",
       "  <tbody>\n",
       "    <tr>\n",
       "      <th>0</th>\n",
       "      <td>0</td>\n",
       "      <td>1069124</td>\n",
       "      <td>ad</td>\n",
       "      <td>False</td>\n",
       "      <td>130</td>\n",
       "      <td>Monday</td>\n",
       "      <td>20</td>\n",
       "      <td>work days</td>\n",
       "    </tr>\n",
       "    <tr>\n",
       "      <th>1</th>\n",
       "      <td>1</td>\n",
       "      <td>1119715</td>\n",
       "      <td>ad</td>\n",
       "      <td>False</td>\n",
       "      <td>93</td>\n",
       "      <td>Tuesday</td>\n",
       "      <td>22</td>\n",
       "      <td>work days</td>\n",
       "    </tr>\n",
       "    <tr>\n",
       "      <th>2</th>\n",
       "      <td>2</td>\n",
       "      <td>1144181</td>\n",
       "      <td>ad</td>\n",
       "      <td>False</td>\n",
       "      <td>21</td>\n",
       "      <td>Tuesday</td>\n",
       "      <td>18</td>\n",
       "      <td>work days</td>\n",
       "    </tr>\n",
       "    <tr>\n",
       "      <th>3</th>\n",
       "      <td>3</td>\n",
       "      <td>1435133</td>\n",
       "      <td>ad</td>\n",
       "      <td>False</td>\n",
       "      <td>355</td>\n",
       "      <td>Tuesday</td>\n",
       "      <td>10</td>\n",
       "      <td>work days</td>\n",
       "    </tr>\n",
       "    <tr>\n",
       "      <th>4</th>\n",
       "      <td>4</td>\n",
       "      <td>1015700</td>\n",
       "      <td>ad</td>\n",
       "      <td>False</td>\n",
       "      <td>276</td>\n",
       "      <td>Friday</td>\n",
       "      <td>14</td>\n",
       "      <td>work days</td>\n",
       "    </tr>\n",
       "  </tbody>\n",
       "</table>\n",
       "</div>"
      ],
      "text/plain": [
       "   Unnamed: 0  user id test group  converted  total ads most ads day  \\\n",
       "0           0  1069124         ad      False        130       Monday   \n",
       "1           1  1119715         ad      False         93      Tuesday   \n",
       "2           2  1144181         ad      False         21      Tuesday   \n",
       "3           3  1435133         ad      False        355      Tuesday   \n",
       "4           4  1015700         ad      False        276       Friday   \n",
       "\n",
       "   most ads hour       days  \n",
       "0             20  work days  \n",
       "1             22  work days  \n",
       "2             18  work days  \n",
       "3             10  work days  \n",
       "4             14  work days  "
      ]
     },
     "execution_count": 5,
     "metadata": {},
     "output_type": "execute_result"
    }
   ],
   "source": [
    "# Создадим новый столбец, в котором укажем какой именно день наибольшего количества рекламы - будни или выходные\n",
    "df['days'] = np.where((df['most ads day'] == 'Saturday')|(df['most ads day'] == 'Sunday'), 'weekend', 'work days')\n",
    "df.head()"
   ]
  },
  {
   "cell_type": "code",
   "execution_count": 7,
   "id": "44c3482f-feff-4569-9160-c5f37d200579",
   "metadata": {},
   "outputs": [
    {
     "data": {
      "text/plain": [
       "count    588101.000000\n",
       "mean         24.820876\n",
       "std          43.715181\n",
       "min           1.000000\n",
       "25%           4.000000\n",
       "50%          13.000000\n",
       "75%          27.000000\n",
       "max        2065.000000\n",
       "Name: total ads, dtype: float64"
      ]
     },
     "execution_count": 7,
     "metadata": {},
     "output_type": "execute_result"
    }
   ],
   "source": [
    "df['total ads'].describe()"
   ]
  },
  {
   "cell_type": "code",
   "execution_count": 9,
   "id": "5a99078d-fe07-471b-b899-653d70ab050c",
   "metadata": {},
   "outputs": [
    {
     "data": {
      "text/plain": [
       "(588101, 8)"
      ]
     },
     "execution_count": 9,
     "metadata": {},
     "output_type": "execute_result"
    }
   ],
   "source": [
    "df.shape"
   ]
  },
  {
   "cell_type": "code",
   "execution_count": 11,
   "id": "f9233fc8-90e7-4029-9f03-4cc6c66c7ca1",
   "metadata": {},
   "outputs": [
    {
     "data": {
      "text/plain": [
       "(564577, 8)"
      ]
     },
     "execution_count": 11,
     "metadata": {},
     "output_type": "execute_result"
    }
   ],
   "source": [
    "# Создадим датасет по группе А - те, кто видел базовую рекламу ad\n",
    "group_a = df[df['test group'] == \"ad\"]\n",
    "group_a.shape"
   ]
  },
  {
   "cell_type": "code",
   "execution_count": 13,
   "id": "d9733382-3b5e-4449-81b4-cfad97c509f0",
   "metadata": {},
   "outputs": [
    {
     "data": {
      "text/plain": [
       "(23524, 8)"
      ]
     },
     "execution_count": 13,
     "metadata": {},
     "output_type": "execute_result"
    }
   ],
   "source": [
    "# Создадим датасет по группе B - те, кто видел социальную рекламу psa\n",
    "group_b = df[df['test group'] == \"psa\"]\n",
    "group_b.shape"
   ]
  },
  {
   "cell_type": "code",
   "execution_count": 15,
   "id": "77ea0c02-f47e-4718-b34c-fcc580d0d7eb",
   "metadata": {},
   "outputs": [
    {
     "data": {
      "text/plain": [
       "(14843, 8)"
      ]
     },
     "execution_count": 15,
     "metadata": {},
     "output_type": "execute_result"
    }
   ],
   "source": [
    "# Количество людей, которые купили продукт\n",
    "df[df['converted'] == True].shape"
   ]
  },
  {
   "cell_type": "code",
   "execution_count": 17,
   "id": "253e0394-b52d-4933-a52d-c67c27fc982a",
   "metadata": {},
   "outputs": [
    {
     "data": {
      "text/plain": [
       "(14423, 8)"
      ]
     },
     "execution_count": 17,
     "metadata": {},
     "output_type": "execute_result"
    }
   ],
   "source": [
    "# Количество людей из группы А, которые купили продукт\n",
    "group_a[group_a['converted'] == True].shape"
   ]
  },
  {
   "cell_type": "code",
   "execution_count": 19,
   "id": "be075a4c-69b3-4633-8506-ff5e4377eb15",
   "metadata": {},
   "outputs": [
    {
     "data": {
      "text/plain": [
       "(420, 8)"
      ]
     },
     "execution_count": 19,
     "metadata": {},
     "output_type": "execute_result"
    }
   ],
   "source": [
    "# Количество людей из группы B, которые купили продукт\n",
    "group_b[group_b['converted'] == True].shape"
   ]
  },
  {
   "cell_type": "markdown",
   "id": "abf2f5e9-b270-41c8-bb2a-02ee90b50e6f",
   "metadata": {},
   "source": [
    "### Расчет конверсии"
   ]
  },
  {
   "cell_type": "code",
   "execution_count": 21,
   "id": "0c96937d-d12e-4d21-937a-38a4d93ce6fc",
   "metadata": {},
   "outputs": [
    {
     "name": "stdout",
     "output_type": "stream",
     "text": [
      "Конверсия общая: 0.02523886203220195\n",
      "Конверсия группы А: 0.025546559636683747\n",
      "Конверсия группы Б: 0.01785410644448223\n"
     ]
    }
   ],
   "source": [
    "print('Конверсия общая:', df[df['converted'] == True].shape[0] / df.shape[0])                  # 14843/588101\n",
    "print('Конверсия группы А:', group_a[group_a['converted'] == True].shape[0] / group_a.shape[0])   # 14423/564577\n",
    "print('Конверсия группы Б:', group_b[group_b['converted'] == True].shape[0] / group_b.shape[0])   # 420/23524"
   ]
  },
  {
   "cell_type": "markdown",
   "id": "134ada6f-d655-4dcc-8c8b-8e6895763424",
   "metadata": {},
   "source": [
    "### Тест на значимость разницы между группами"
   ]
  },
  {
   "cell_type": "code",
   "execution_count": 23,
   "id": "750d2f6e-d218-4600-ab38-755573e15e8c",
   "metadata": {},
   "outputs": [
    {
     "data": {
      "text/plain": [
       "TtestResult(statistic=7.37040597428566, pvalue=1.7033052627831264e-13, df=588099.0)"
      ]
     },
     "execution_count": 23,
     "metadata": {},
     "output_type": "execute_result"
    }
   ],
   "source": [
    "stats.ttest_ind(group_a['converted'], group_b['converted'])"
   ]
  },
  {
   "attachments": {},
   "cell_type": "markdown",
   "id": "edbbe678-5fe8-498c-970e-4c3d5c9c19d8",
   "metadata": {},
   "source": [
    "##### Нулевая гипотеза: равенство средней конверсии в обеих группах. Сравниваем p-значение (13 нулей после запятой) и альфа (5%), p-значение < 5%, поэтому отвергаем эту гипотезу. Конверсия в группе А, которой показывали базовую рекламу, и конверсия в группе B, которой показывали социальную рекламу, отличаются. Для увеличения показателя покупки продукта рекомендуется показывать базовую рекламу ad.\n"
   ]
  },
  {
   "cell_type": "markdown",
   "id": "87cabb6a-110a-4028-80a8-d5f947508b1a",
   "metadata": {},
   "source": [
    "### Выберем рекламу ad. Посчитаем в каких пределах может находиться конверсия с вероятностью 95%."
   ]
  },
  {
   "cell_type": "code",
   "execution_count": 25,
   "id": "486cacdd-bdc1-46f8-8f7b-304d51785e57",
   "metadata": {},
   "outputs": [
    {
     "name": "stdout",
     "output_type": "stream",
     "text": [
      "95% доверительный интервал для конверсии рекламы ad: от 0.025 до 0.026\n"
     ]
    }
   ],
   "source": [
    "mean = group_a['converted'].mean()   # Среднее значение\n",
    "var = group_a['converted'].var()     # Дисперсия\n",
    "n = group_a['converted'].count()     # Количество значений \n",
    "\n",
    "ci = stats.norm.interval(confidence = 0.95, loc = mean, scale = np.sqrt(var/n))\n",
    "print(f'95% доверительный интервал для конверсии рекламы ad: от {ci[0].round(3)} до {ci[1].round(3)}')"
   ]
  },
  {
   "cell_type": "markdown",
   "id": "915413d9-2c07-45d1-bc87-d345638e5b31",
   "metadata": {},
   "source": [
    "### Выберем рекламу psa. Посчитаем в каких пределах может находиться конверсия с вероятностью 95%."
   ]
  },
  {
   "cell_type": "code",
   "execution_count": 27,
   "id": "981799ef-b09b-43ac-a52e-4e0983f3c762",
   "metadata": {},
   "outputs": [
    {
     "name": "stdout",
     "output_type": "stream",
     "text": [
      "95% доверительный интервал для конверсии рекламы psa: от 0.016 до 0.02\n"
     ]
    }
   ],
   "source": [
    "mean = group_b['converted'].mean()   # Среднее значение\n",
    "var = group_b['converted'].var()     # Дисперсия\n",
    "n = group_b['converted'].count()     # Количество значений \n",
    "\n",
    "ci = stats.norm.interval(confidence = 0.95, loc = mean, scale = np.sqrt(var/n))\n",
    "print(f'95% доверительный интервал для конверсии рекламы psa: от {ci[0].round(3)} до {ci[1].round(3)}')"
   ]
  },
  {
   "cell_type": "markdown",
   "id": "5b9de240-c7eb-4e34-81f0-2b3dd3266e9c",
   "metadata": {},
   "source": [
    "### Посмотрим на гетерогенность эффектов в группах А и В"
   ]
  },
  {
   "cell_type": "markdown",
   "id": "ffd1b7b6-0afb-4484-8bed-3d68beb6cb3c",
   "metadata": {},
   "source": [
    "##### Для этого я специально создал вначале новый столбец, в котором указал день наибольшего количества рекламы - будни или выходные"
   ]
  },
  {
   "cell_type": "code",
   "execution_count": 29,
   "id": "969ce5c5-aae0-4b6d-b347-2b8b429cd7cf",
   "metadata": {},
   "outputs": [
    {
     "data": {
      "text/plain": [
       "days\n",
       "weekend      0.022999\n",
       "work days    0.026564\n",
       "Name: converted, dtype: float64"
      ]
     },
     "execution_count": 29,
     "metadata": {},
     "output_type": "execute_result"
    }
   ],
   "source": [
    "# Сгруппируем по будням и выходным и расчитаем конверсию для группы А\n",
    "group_a.groupby('days')['converted'].mean()"
   ]
  },
  {
   "cell_type": "code",
   "execution_count": 31,
   "id": "7d30056e-433e-4a03-926b-2c1be029921e",
   "metadata": {},
   "outputs": [
    {
     "data": {
      "text/plain": [
       "days\n",
       "weekend      0.017407\n",
       "work days    0.018004\n",
       "Name: converted, dtype: float64"
      ]
     },
     "execution_count": 31,
     "metadata": {},
     "output_type": "execute_result"
    }
   ],
   "source": [
    "# Сгруппируем по будням и выходным и расчитаем конверсию для группы B\n",
    "group_b.groupby('days')['converted'].mean()"
   ]
  },
  {
   "cell_type": "markdown",
   "id": "03206f93-ca6a-45ff-af49-179121e6d31a",
   "metadata": {},
   "source": [
    "### Проведем тест на значимость эффекта отдельно в выходные дни"
   ]
  },
  {
   "cell_type": "code",
   "execution_count": 33,
   "id": "4222e705-04d4-4e0c-b3f3-2d800551fdcb",
   "metadata": {},
   "outputs": [
    {
     "data": {
      "text/plain": [
       "TtestResult(statistic=2.830245399653293, pvalue=0.004651786243671406, df=167049.0)"
      ]
     },
     "execution_count": 33,
     "metadata": {},
     "output_type": "execute_result"
    }
   ],
   "source": [
    "stats.ttest_ind(group_a[group_a['days'] == 'weekend']['converted'], group_b[group_b['days'] == 'weekend']['converted'])"
   ]
  },
  {
   "cell_type": "markdown",
   "id": "b672ef1d-b3fe-435e-9f00-91c1efb74623",
   "metadata": {},
   "source": [
    "##### p-значение маленькое, средние конверсии отличаются, значит для увеличения показателя покупки продукта в выходные дни рекомендуется показывать базовую рекламу ad, т.к. конверсия группы А в выходные дни выше"
   ]
  },
  {
   "cell_type": "markdown",
   "id": "a144f6c5-ac07-4b36-9a33-6217c9071fa8",
   "metadata": {},
   "source": [
    "### Проведем тест на значимость эффекта отдельно в будние дни"
   ]
  },
  {
   "cell_type": "code",
   "execution_count": 35,
   "id": "79a2fe20-596f-4ebe-8db8-663881e22ea3",
   "metadata": {},
   "outputs": [
    {
     "data": {
      "text/plain": [
       "TtestResult(statistic=6.960070093276779, pvalue=3.4059707794507603e-12, df=421048.0)"
      ]
     },
     "execution_count": 35,
     "metadata": {},
     "output_type": "execute_result"
    }
   ],
   "source": [
    "stats.ttest_ind(group_a[group_a['days'] == 'work days']['converted'], group_b[group_b['days'] == 'work days']['converted'])"
   ]
  },
  {
   "cell_type": "markdown",
   "id": "fd06047e-a389-4e55-a698-c15e294a93b3",
   "metadata": {},
   "source": [
    "##### p-значение маленькое, средние конверсии отличаются, значит для увеличения показателя покупки продукта в будние дни рекомендуется показывать базовую рекламу ad, так как конверсия группы А в будние дни выше"
   ]
  },
  {
   "cell_type": "markdown",
   "id": "a2555917-4b3f-47f8-b407-4ed7f7ca71ec",
   "metadata": {},
   "source": [
    "### Посмотрим на гетерогенность эффекта в группах А и В и проведем тест на значимость эффекта по количеству проссмотров рекламы, а именно менее и более 200 раз"
   ]
  },
  {
   "cell_type": "markdown",
   "id": "82c9ae5e-33c9-4556-89c3-43c3d9178b52",
   "metadata": {},
   "source": [
    "#### Более 200 раз:"
   ]
  },
  {
   "cell_type": "code",
   "execution_count": 37,
   "id": "0c17e43e-ad69-43a7-ace4-f20d311422a4",
   "metadata": {},
   "outputs": [
    {
     "name": "stdout",
     "output_type": "stream",
     "text": [
      "Количество человек, проссмотревших рекламу более 200 раз:\n",
      "Группа А - 5694\n",
      "Группа B - 258\n"
     ]
    }
   ],
   "source": [
    "# Посчитаем количество человек из групп А и B, которые проссмотрели рекламу более 200 раз\n",
    "ga = group_a[group_a['total ads'] > 200].shape[0]\n",
    "gb = group_b[group_b['total ads'] > 200].shape[0]\n",
    "print(f'Количество человек, проссмотревших рекламу более 200 раз:')\n",
    "print(f'Группа А - {ga}')\n",
    "print(f'Группа B - {gb}')"
   ]
  },
  {
   "cell_type": "code",
   "execution_count": 39,
   "id": "c4554394-2bf1-4f2a-be7c-936b17108a44",
   "metadata": {},
   "outputs": [
    {
     "name": "stdout",
     "output_type": "stream",
     "text": [
      "Конверсия:\n",
      "Группа А - 0.15577801194239552\n",
      "Группа B - 0.15503875968992248\n"
     ]
    }
   ],
   "source": [
    "# Расчитаем конверсию для групп А и B, по людям, проссмотревшим рекламу более 200 раз\n",
    "gaa = group_a[group_a['total ads'] > 200]['converted'].mean()\n",
    "gbb = group_b[group_b['total ads'] > 200]['converted'].mean()\n",
    "print(f'Конверсия:')\n",
    "print(f'Группа А - {gaa}')\n",
    "print(f'Группа B - {gbb}')"
   ]
  },
  {
   "cell_type": "code",
   "execution_count": 41,
   "id": "b71eece1-dbfe-4075-aab8-c689efaf31d8",
   "metadata": {},
   "outputs": [
    {
     "data": {
      "text/plain": [
       "TtestResult(statistic=0.03202298862130002, pvalue=0.9744547921122856, df=5950.0)"
      ]
     },
     "execution_count": 41,
     "metadata": {},
     "output_type": "execute_result"
    }
   ],
   "source": [
    "# Посчитаем статистику между группами людей, которые проссмотрели рекламу более 200 раз\n",
    "stats.ttest_ind(group_a[group_a['total ads'] > 200]['converted'], group_b[group_b['total ads'] > 200]['converted'])"
   ]
  },
  {
   "cell_type": "markdown",
   "id": "8111a26d-2c6d-49af-8ffa-7a2d8f9139b1",
   "metadata": {},
   "source": [
    "##### p-значение большое, средние конверсии не отличаются"
   ]
  },
  {
   "cell_type": "markdown",
   "id": "c08e0ad7-1df2-404d-8fb5-20b5922fb441",
   "metadata": {},
   "source": [
    "#### Менее 200 раз:"
   ]
  },
  {
   "cell_type": "code",
   "execution_count": 44,
   "id": "0e26aee5-16fb-4924-8f6c-3e520f8aad8f",
   "metadata": {},
   "outputs": [
    {
     "name": "stdout",
     "output_type": "stream",
     "text": [
      "Количество человек, проссмотревших рекламу более 200 раз:\n",
      "Группа А - 558837\n",
      "Группа B - 23263\n",
      "\n",
      "Конверсия:\n",
      "Группа А - 0.02420920590440504\n",
      "Группа B - 0.016291965782573185\n"
     ]
    }
   ],
   "source": [
    "print(f'Количество человек, проссмотревших рекламу более 200 раз:')\n",
    "print(f'Группа А - {group_a[group_a['total ads'] < 200].shape[0]}')\n",
    "print(f'Группа B - {group_b[group_b['total ads'] < 200].shape[0]}')\n",
    "print(f'\\nКонверсия:')\n",
    "print(f'Группа А - {group_a[group_a['total ads'] < 200]['converted'].mean()}')\n",
    "print(f'Группа B - {group_b[group_b['total ads'] < 200]['converted'].mean()}')"
   ]
  },
  {
   "cell_type": "code",
   "execution_count": 46,
   "id": "c2aca61d-7dc6-4aaf-a658-572b81f4ea36",
   "metadata": {},
   "outputs": [
    {
     "data": {
      "text/plain": [
       "TtestResult(statistic=7.748003386239436, pvalue=9.349802016642577e-15, df=582098.0)"
      ]
     },
     "execution_count": 46,
     "metadata": {},
     "output_type": "execute_result"
    }
   ],
   "source": [
    "stats.ttest_ind(group_a[group_a['total ads'] < 200]['converted'], group_b[group_b['total ads'] < 200]['converted'])"
   ]
  },
  {
   "cell_type": "markdown",
   "id": "71eab84e-0c0d-4cc8-940c-258361bfd11a",
   "metadata": {},
   "source": [
    "##### p-значение маленькое, средние конверсии отличаются"
   ]
  },
  {
   "cell_type": "markdown",
   "id": "886b311e-649c-450c-b3f1-9b942fb40ece",
   "metadata": {},
   "source": [
    "#### Выводы:\n",
    "#### Если людям давать смотреть рекламу менее 200 раз, то нужно давать смотреть базовую рекламу ad для увеличесния количества продаж.\n",
    "#### Если людям давать смотреть рекламу более 200 раз, то без разницы какую рекламу им давать смотреть, показатель количества покупок будет одинаковый."
   ]
  }
 ],
 "metadata": {
  "kernelspec": {
   "display_name": "Python 3 (ipykernel)",
   "language": "python",
   "name": "python3"
  },
  "language_info": {
   "codemirror_mode": {
    "name": "ipython",
    "version": 3
   },
   "file_extension": ".py",
   "mimetype": "text/x-python",
   "name": "python",
   "nbconvert_exporter": "python",
   "pygments_lexer": "ipython3",
   "version": "3.12.4"
  }
 },
 "nbformat": 4,
 "nbformat_minor": 5
}
